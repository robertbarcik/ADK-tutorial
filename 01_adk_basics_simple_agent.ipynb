{
  "cells": [
    {
      "cell_type": "markdown",
      "metadata": {
        "id": "intro_header"
      },
      "source": [
        "# Lesson 1: Building Your First Agent with Google's ADK\n",
        "\n",
        "## 🎯 Learning Objectives\n",
        "\n",
        "By the end of this lesson, you will be able to:\n",
        "\n",
        "1. **Understand** the core concepts of Google's Agent Development Kit (ADK)\n",
        "2. **Configure** the ADK environment for use with OpenAI API\n",
        "3. **Create** a simple AI agent with custom instructions and personality\n",
        "4. **Interact** with your agent using the Runner and session management\n",
        "5. **Modify** agent behavior to suit different use cases\n",
        "\n",
        "## 📚 Context\n",
        "\n",
        "Welcome to the first lesson in our ADK series! In the previous notebooks, you learned about the **Model Context Protocol (MCP)**, which enables AI models to interact with external tools and data sources.\n",
        "\n",
        "The **Agent Development Kit (ADK)** builds on these concepts by providing a complete framework for creating sophisticated AI agents that can:\n",
        "- Maintain conversation context across multiple turns\n",
        "- Use tools to perform actions\n",
        "- Work together in multi-agent systems\n",
        "- Integrate with MCP servers\n",
        "\n",
        "\n",
        "Throughout this series, we'll be building agents for an **IT Support Services Company**. In this first lesson, we'll create a simple support agent that can help users with basic IT questions.\n",
        "\n",
        "---"
      ]
    },
    {
      "cell_type": "markdown",
      "metadata": {
        "id": "setup_header"
      },
      "source": [
        "## 🔧 Part 1: Environment Setup\n",
        "\n",
        "Let's start by installing the required packages and configuring our environment for Google Colab."
      ]
    },
    {
      "cell_type": "code",
      "execution_count": null,
      "metadata": {
        "id": "install_packages"
      },
      "outputs": [],
      "source": [
        "# Install the Google Agent Development Kit and dependencies\n",
        "# This may take a minute or two\n",
        "!pip install -q google-adk litellm openai python-dotenv nest-asyncio\n",
        "\n",
        "print(\"✅ Packages installed successfully!\")"
      ]
    },
    {
      "cell_type": "markdown",
      "metadata": {
        "id": "imports_header"
      },
      "source": [
        "### Import Required Libraries\n",
        "\n",
        "Now let's import the necessary modules from the ADK framework."
      ]
    },
    {
      "cell_type": "code",
      "execution_count": null,
      "metadata": {
        "id": "imports"
      },
      "outputs": [],
      "source": [
        "# Core ADK imports\n",
        "from google.adk.agents import LlmAgent  # For creating AI agents\n",
        "from google.adk.runners import Runner  # For executing agent interactions\n",
        "from google.adk.sessions import InMemorySessionService  # For managing conversation sessions\n",
        "from google.adk.models.lite_llm import LiteLlm  # For using OpenAI and other LLM providers\n",
        "\n",
        "# Google AI SDK for content formatting\n",
        "from google.genai import types\n",
        "\n",
        "# System imports\n",
        "import os\n",
        "import asyncio\n",
        "\n",
        "print(\"✅ Imports successful!\")"
      ]
    },
    {
      "cell_type": "markdown",
      "metadata": {
        "id": "api_key_header"
      },
      "source": [
        "### Configure OpenAI API Authentication\n",
        "\n",
        "**Important:** To use ADK with OpenAI, you need:\n",
        "1. An OpenAI API key from [OpenAI Platform](https://platform.openai.com/api-keys)\n",
        "2. Set the environment variable to configure the API key\n",
        "\n",
        "**Note:** In a production environment, you would store API keys securely. For this tutorial, we'll use Colab's userdata feature or direct input."
      ]
    },
    {
      "cell_type": "code",
      "execution_count": null,
      "metadata": {
        "id": "api_key_setup"
      },
      "outputs": [],
      "source": [
        "# Configure OpenAI API key\n",
        "# Method 1: Try to get API key from Colab secrets (recommended)\n",
        "try:\n",
        "    from google.colab import userdata\n",
        "    OPENAI_API_KEY = userdata.get('OPENAI_API_KEY')\n",
        "    print(\"✅ API key loaded from Colab secrets\")\n",
        "except:\n",
        "    # Method 2: Manual input (fallback)\n",
        "    from getpass import getpass\n",
        "    print(\"💡 To use Colab secrets: Go to 🔑 (left sidebar) → Add new secret → Name: OPENAI_API_KEY\")\n",
        "    OPENAI_API_KEY = getpass(\"Enter your OpenAI API Key: \")\n",
        "\n",
        "# Set the API key as an environment variable\n",
        "os.environ[\"OPENAI_API_KEY\"] = OPENAI_API_KEY\n",
        "\n",
        "# Validate that the API key is set\n",
        "if not OPENAI_API_KEY or OPENAI_API_KEY.strip() == \"\":\n",
        "    raise ValueError(\n",
        "        \"❌ ERROR: No API key provided!\\n\"\n",
        "        \"Please get your API key from: https://platform.openai.com/api-keys\"\n",
        "    )\n",
        "\n",
        "print(\"✅ Authentication configured successfully!\")\n",
        "print(f\"🔐 API Key (first 10 chars): {OPENAI_API_KEY[:10]}...\")\n",
        "\n",
        "# Configure which OpenAI model to use\n",
        "# Options: \"gpt-4o\", \"gpt-4o-mini\", \"gpt-4-turbo\", \"gpt-3.5-turbo\", \"gpt-5-nano\", etc.\n",
        "OPENAI_MODEL = \"gpt-5-nano\"  # Using gpt-5-nano for cost efficiency\n",
        "print(f\"🤖 Selected Model: {OPENAI_MODEL}\")"
      ]
    },
    {
      "cell_type": "markdown",
      "metadata": {
        "id": "architecture_header"
      },
      "source": [
        "---\n",
        "\n",
        "## 🏗️ Part 2: Understanding ADK Architecture\n",
        "\n",
        "Before we build our first agent, let's understand the key components of the ADK framework:\n",
        "\n",
        "### Core Components\n",
        "\n",
        "1. **Agent (`LlmAgent`)**\n",
        "   - The AI brain that processes user requests\n",
        "   - Configured with a specific LLM model (e.g., `gpt-5-nano`)\n",
        "   - Has instructions that define its behavior and personality\n",
        "   - Can use tools to perform actions (we'll cover this in the following notebook)\n",
        "\n",
        "2. **Runner**\n",
        "   - Manages the execution of agent interactions\n",
        "   - Handles the flow of messages between user and agent\n",
        "   - Coordinates with session and artifact services\n",
        "\n",
        "3. **Session Service (`InMemorySessionService`)**\n",
        "   - Stores conversation history and context\n",
        "   - Enables agents to \"remember\" previous messages\n",
        "   - `InMemorySessionService` stores data in RAM (resets when notebook restarts)\n",
        "   - In production, you'd use persistent storage (e.g., Firestore)\n",
        "\n",
        "### How They Work Together\n",
        "\n",
        "```\n",
        "User Message → Runner → Agent (processes with LLM) → Runner → Response\n",
        "                ↓                                      ↑\n",
        "         Session Service (stores conversation history)\n",
        "```\n",
        "\n",
        "\n",
        "\n",
        "- **Agents** can maintain context across multiple conversation turns\n",
        "- **Runners** provide a consistent interface for agent interaction\n",
        "- **Sessions** enable personalized, stateful conversations\n",
        "\n",
        "Now let's build our first agent!\n",
        "\n",
        "---"
      ]
    },
    {
      "cell_type": "markdown",
      "metadata": {
        "id": "agent_creation_header"
      },
      "source": [
        "## 🤖 Part 3: Creating Your First Agent\n",
        "\n",
        "Let's create a simple IT support agent. This agent will have a helpful personality and be knowledgeable about basic IT support topics.\n",
        "\n",
        "### Agent Configuration Parameters\n",
        "\n",
        "- **`model`**: The LLM to use (we'll use OpenAI's `gpt-5-nano` - fast and efficient)\n",
        "- **`name`**: Identifier for the agent (useful in multi-agent systems)\n",
        "- **`instruction`**: System prompt that defines the agent's behavior and personality\n",
        "- **`tools`**: Functions the agent can call (we'll add these in the following notebook)\n"
      ]
    },
    {
      "cell_type": "code",
      "execution_count": null,
      "metadata": {
        "id": "create_agent"
      },
      "outputs": [],
      "source": [
        "# Create an IT Support Agent using OpenAI\n",
        "it_support_agent = LlmAgent(\n",
        "    model=LiteLlm(model=f\"openai/{OPENAI_MODEL}\"),  # Use OpenAI model via LiteLLM\n",
        "    name=\"it_support_assistant\",  # Unique identifier for this agent\n",
        "    instruction=\"\"\"\n",
        "    You are Alex, a friendly and knowledgeable IT Support Assistant for TechHelp Solutions,\n",
        "    a university IT support services company.\n",
        "\n",
        "    Your role:\n",
        "    - Help students and faculty with common IT issues\n",
        "    - Provide clear, step-by-step instructions\n",
        "    - Be patient and encouraging, especially with users who are not tech-savvy\n",
        "    - If you don't know something, admit it and suggest they contact human support\n",
        "\n",
        "    Your personality:\n",
        "    - Friendly and approachable\n",
        "    - Professional but not overly formal\n",
        "    - Use simple language and avoid unnecessary jargon\n",
        "    - Add occasional light humor to make users feel comfortable\n",
        "\n",
        "    Remember: You're here to help, not to show off technical knowledge.\n",
        "    Your goal is to solve problems and make users feel supported.\n",
        "    \"\"\"\n",
        ")\n",
        "\n",
        "print(\"✅ IT Support Agent created successfully!\")\n",
        "print(f\"📋 Agent Name: {it_support_agent.name}\")\n",
        "print(f\"🤖 Model: OpenAI {OPENAI_MODEL}\")"
      ]
    },
    {
      "cell_type": "markdown",
      "metadata": {
        "id": "session_setup_header"
      },
      "source": [
        "### Set Up Session Management\n",
        "\n",
        "Now we'll create a session service to manage conversation history."
      ]
    },
    {
      "cell_type": "code",
      "execution_count": null,
      "metadata": {
        "id": "session_setup"
      },
      "outputs": [],
      "source": [
        "# Create an in-memory session service\n",
        "# This will store conversation history while the notebook is running\n",
        "session_service = InMemorySessionService()\n",
        "\n",
        "print(\"✅ Session service initialized!\")\n",
        "print(\"💡 Note: Session data is stored in memory and will be lost when the notebook restarts.\")"
      ]
    },
    {
      "cell_type": "markdown",
      "metadata": {
        "id": "runner_setup_header"
      },
      "source": [
        "### Create the Runner\n",
        "\n",
        "The Runner coordinates the agent's execution and manages sessions."
      ]
    },
    {
      "cell_type": "code",
      "execution_count": null,
      "metadata": {
        "id": "runner_setup"
      },
      "outputs": [],
      "source": [
        "# Configuration for our ADK application\n",
        "APP_NAME = \"it_support_app\"  # Unique identifier for our application\n",
        "\n",
        "# Create the runner with our agent and session service\n",
        "runner = Runner(\n",
        "    app_name=APP_NAME,\n",
        "    agent=it_support_agent,\n",
        "    session_service=session_service\n",
        ")\n",
        "\n",
        "print(\"✅ Runner initialized and ready!\")\n",
        "print(f\"📱 App Name: {APP_NAME}\")"
      ]
    },
    {
      "cell_type": "markdown",
      "metadata": {
        "id": "interaction_header"
      },
      "source": [
        "---\n",
        "\n",
        "## 💬 Part 4: Interacting with Your Agent\n",
        "\n",
        "Now comes the exciting part - let's talk to our agent!\n",
        "\n",
        "### How Agent Interaction Works\n",
        "\n",
        "1. Create a user message using the `types.Content` format\n",
        "2. Send it to the runner with a session ID and user ID\n",
        "3. The runner processes the message through the agent\n",
        "4. Receive a stream of events (including the final response)\n",
        "\n",
        "### Helper Function\n",
        "\n",
        "Let's create a convenient function to interact with our agent:"
      ]
    },
    {
      "cell_type": "code",
      "execution_count": null,
      "metadata": {
        "id": "helper_function"
      },
      "outputs": [],
      "source": [
        "# Track created sessions to avoid recreating them\n",
        "_created_sessions = set()\n",
        "\n",
        "async def chat_with_agent_async(user_message: str, session_id: str = \"session_001\", user_id: str = \"student_001\"):\n",
        "    \"\"\"\n",
        "    Send a message to the IT support agent and print the response (async version).\n",
        "\n",
        "    Args:\n",
        "        user_message: The message to send to the agent\n",
        "        session_id: Unique identifier for the conversation session\n",
        "        user_id: Unique identifier for the user\n",
        "    \"\"\"\n",
        "    # Create the session if it doesn't exist yet\n",
        "    # This is required by InMemorySessionService before the runner can use it\n",
        "    session_key = (session_id, user_id)\n",
        "    if session_key not in _created_sessions:\n",
        "        await session_service.create_session(\n",
        "            app_name=APP_NAME,\n",
        "            user_id=user_id,\n",
        "            session_id=session_id,\n",
        "            state={}  # Initial empty state\n",
        "        )\n",
        "        _created_sessions.add(session_key)\n",
        "\n",
        "    # Format the user message in the required Content structure\n",
        "    content = types.Content(\n",
        "        role='user',\n",
        "        parts=[types.Part(text=user_message)]\n",
        "    )\n",
        "\n",
        "    # Send the message to the runner and get events (using async version)\n",
        "    events = runner.run_async(\n",
        "        user_id=user_id,\n",
        "        session_id=session_id,\n",
        "        new_message=content\n",
        "    )\n",
        "\n",
        "    # Process events to find the final response\n",
        "    print(f\"\\n👤 You: {user_message}\")\n",
        "    print(f\"\\n🤖 Alex: \", end=\"\")\n",
        "\n",
        "    async for event in events:\n",
        "        # Check if this is the final response event\n",
        "        if event.is_final_response():\n",
        "            # Extract and print the agent's response\n",
        "            final_response = event.content.parts[0].text\n",
        "            print(final_response)\n",
        "            return final_response\n",
        "\n",
        "    print(\"\\n⚠️ No response received from agent.\")\n",
        "    return None\n",
        "\n",
        "# Wrapper function for easier use in Colab (handles async automatically)\n",
        "def chat_with_agent(user_message: str, session_id: str = \"session_001\", user_id: str = \"student_001\"):\n",
        "    \"\"\"\n",
        "    Send a message to the IT support agent and print the response.\n",
        "\n",
        "    This is a convenience wrapper that handles async execution automatically.\n",
        "\n",
        "    Args:\n",
        "        user_message: The message to send to the agent\n",
        "        session_id: Unique identifier for the conversation session\n",
        "        user_id: Unique identifier for the user\n",
        "    \"\"\"\n",
        "    # Check if we're already in an event loop (Colab/Jupyter context)\n",
        "    try:\n",
        "        loop = asyncio.get_running_loop()\n",
        "        # We're in an async context, need to use nest_asyncio or create task\n",
        "        import nest_asyncio\n",
        "        nest_asyncio.apply()\n",
        "        return asyncio.run(chat_with_agent_async(user_message, session_id, user_id))\n",
        "    except RuntimeError:\n",
        "        # No event loop running, we can use asyncio.run directly\n",
        "        return asyncio.run(chat_with_agent_async(user_message, session_id, user_id))\n",
        "\n",
        "print(\"✅ Helper function created!\")"
      ]
    },
    {
      "cell_type": "markdown",
      "metadata": {
        "id": "test_agent_header"
      },
      "source": [
        "### Test Your Agent\n",
        "\n",
        "Let's have our first conversation with the IT support agent!"
      ]
    },
    {
      "cell_type": "code",
      "execution_count": null,
      "metadata": {
        "id": "test_conversation_1"
      },
      "outputs": [],
      "source": [
        "# First interaction - greeting\n",
        "chat_with_agent(\"Hi! I'm having trouble connecting to the university Wi-Fi.\")"
      ]
    },
    {
      "cell_type": "code",
      "execution_count": null,
      "metadata": {
        "id": "test_conversation_2"
      },
      "outputs": [],
      "source": [
        "# Follow-up question - the agent should remember the context from the previous message\n",
        "chat_with_agent(\"It's an iPhone. What should I do first?\")"
      ]
    },
    {
      "cell_type": "code",
      "execution_count": null,
      "metadata": {
        "id": "test_conversation_3"
      },
      "outputs": [],
      "source": [
        "# Another topic\n",
        "chat_with_agent(\"Thanks! Also, how do I reset my university email password?\")"
      ]
    },
    {
      "cell_type": "markdown",
      "metadata": {
        "id": "test_new_session_header"
      },
      "source": [
        "### Testing Session Memory\n",
        "\n",
        "Let's verify that our agent maintains context within a session but starts fresh in a new session."
      ]
    },
    {
      "cell_type": "code",
      "execution_count": null,
      "metadata": {
        "id": "test_new_session"
      },
      "outputs": [],
      "source": [
        "# Start a new session with a different session_id\n",
        "print(\"\\n\" + \"=\"*60)\n",
        "print(\"Starting a NEW SESSION (the agent won't remember previous messages)\")\n",
        "print(\"=\"*60)\n",
        "\n",
        "chat_with_agent(\n",
        "    \"What did we talk about before?\",\n",
        "    session_id=\"session_002\"  # Different session ID\n",
        ")"
      ]
    },
    {
      "cell_type": "markdown",
      "metadata": {
        "id": "interactive_header"
      },
      "source": [
        "### Interactive Chat (Try It Yourself!)\n",
        "\n",
        "Now it's your turn! Try asking the agent different IT support questions:"
      ]
    },
    {
      "cell_type": "code",
      "execution_count": null,
      "metadata": {
        "id": "interactive_chat"
      },
      "outputs": [],
      "source": [
        "# Type your own message here and run this cell\n",
        "your_message = \"How do I print documents from the library?\"  # Change this to your own question!\n",
        "\n",
        "chat_with_agent(your_message, session_id=\"my_session\")"
      ]
    },
    {
      "cell_type": "markdown",
      "metadata": {
        "id": "exercises_header"
      },
      "source": [
        "---\n",
        "\n",
        "## 🎓 Part 5: Exercises\n",
        "\n",
        "Now it's time to practice! Complete these exercises to reinforce your learning.\n",
        "\n",
        "### Exercise 1: Modify the Agent's Personality (Beginner)\n",
        "\n",
        "**Task:** Create a new agent with a different personality. Instead of \"Alex the friendly helper\", create \"Dr. Tech\" who is more formal and academic in tone.\n",
        "\n",
        "**Instructions:**\n",
        "1. Copy the agent creation code below\n",
        "2. Modify the `instruction` parameter to change the personality\n",
        "3. Test your new agent with a few questions\n",
        "\n",
        "**Hint:** Think about how a formal academic advisor would communicate vs. a friendly peer."
      ]
    },
    {
      "cell_type": "code",
      "execution_count": null,
      "metadata": {
        "id": "exercise_1"
      },
      "outputs": [],
      "source": [
        "# Exercise 1: Create your custom agent here\n",
        "\n",
        "# TODO: Create a new LlmAgent with a formal, academic personality\n",
        "dr_tech_agent = LlmAgent(\n",
        "    model=LiteLlm(model=f\"openai/{OPENAI_MODEL}\"),\n",
        "    name=\"dr_tech\",\n",
        "    instruction=\"\"\"\n",
        "    # YOUR CODE HERE: Write instructions for a formal, academic IT support persona\n",
        "    # Think about:\n",
        "    # - How should Dr. Tech introduce themselves?\n",
        "    # - What tone should they use?\n",
        "    # - How formal should the language be?\n",
        "    \"\"\"\n",
        ")\n",
        "\n",
        "# Create a new runner for this agent\n",
        "dr_tech_runner = Runner(\n",
        "    app_name=\"dr_tech_app\",\n",
        "    agent=dr_tech_agent,\n",
        "    session_service=session_service\n",
        ")\n",
        "\n",
        "# Track sessions for Dr. Tech\n",
        "_dr_tech_sessions = set()\n",
        "\n",
        "# Async version of the helper function\n",
        "async def chat_with_dr_tech_async(user_message: str, session_id: str = \"drtech_session\", user_id: str = \"student_001\"):\n",
        "    # Create session if it doesn't exist\n",
        "    session_key = (session_id, user_id)\n",
        "    if session_key not in _dr_tech_sessions:\n",
        "        await session_service.create_session(\n",
        "            app_name=\"dr_tech_app\",\n",
        "            user_id=user_id,\n",
        "            session_id=session_id,\n",
        "            state={}\n",
        "        )\n",
        "        _dr_tech_sessions.add(session_key)\n",
        "\n",
        "    content = types.Content(role='user', parts=[types.Part(text=user_message)])\n",
        "    events = dr_tech_runner.run_async(user_id=user_id, session_id=session_id, new_message=content)\n",
        "\n",
        "    print(f\"\\n👤 You: {user_message}\")\n",
        "    print(f\"\\n🎓 Dr. Tech: \", end=\"\")\n",
        "\n",
        "    async for event in events:\n",
        "        if event.is_final_response():\n",
        "            final_response = event.content.parts[0].text\n",
        "            print(final_response)\n",
        "            return final_response\n",
        "\n",
        "# Synchronous wrapper\n",
        "def chat_with_dr_tech(user_message: str, session_id: str = \"drtech_session\", user_id: str = \"student_001\"):\n",
        "    try:\n",
        "        loop = asyncio.get_running_loop()\n",
        "        import nest_asyncio\n",
        "        nest_asyncio.apply()\n",
        "        return asyncio.run(chat_with_dr_tech_async(user_message, session_id, user_id))\n",
        "    except RuntimeError:\n",
        "        return asyncio.run(chat_with_dr_tech_async(user_message, session_id, user_id))\n",
        "\n",
        "# Test your new agent\n",
        "# chat_with_dr_tech(\"Hi! I need help with my Wi-Fi connection.\")"
      ]
    },
    {
      "cell_type": "markdown",
      "metadata": {
        "id": "exercise_2_header"
      },
      "source": [
        "### Exercise 2: Specialized Support Agent (Intermediate)\n",
        "\n",
        "**Task:** Create a specialized agent that only helps with **printer and printing issues**. The agent should politely redirect users if they ask about other topics.\n",
        "\n",
        "**Instructions:**\n",
        "1. Create a new agent with instructions that specialize in printing support\n",
        "2. The agent should:\n",
        "   - Be expert in printer-related issues\n",
        "   - Politely redirect non-printing questions to general IT support\n",
        "3. Test with both printing and non-printing questions\n",
        "\n",
        "**Challenge:** Make the agent remember if a user asks about printing in one message, then asks a related follow-up."
      ]
    },
    {
      "cell_type": "code",
      "execution_count": null,
      "metadata": {
        "id": "exercise_2"
      },
      "outputs": [],
      "source": [
        "# Exercise 2: Create a specialized printer support agent\n",
        "\n",
        "# TODO: Create your specialized agent here\n",
        "printer_agent = LlmAgent(\n",
        "    model=LiteLlm(model=f\"openai/{OPENAI_MODEL}\"),\n",
        "    name=\"printer_specialist\",\n",
        "    instruction=\"\"\"\n",
        "    # YOUR CODE HERE: Write instructions for a printer-specialized support agent\n",
        "    # The agent should:\n",
        "    # 1. Be expert in printer/printing issues\n",
        "    # 2. Politely decline non-printing questions\n",
        "    # 3. Redirect to general support when needed\n",
        "    \"\"\"\n",
        ")\n",
        "\n",
        "# TODO: Create runner and test function\n",
        "# printer_runner = Runner(...)\n",
        "\n",
        "# TODO: Test with multiple questions:\n",
        "# 1. A printing question (should help)\n",
        "# 2. A Wi-Fi question (should redirect)\n",
        "# 3. A follow-up printing question (should remember context)"
      ]
    },
    {
      "cell_type": "markdown",
      "metadata": {
        "id": "exercise_3_header"
      },
      "source": [
        "### Exercise 3: Multi-Turn Conversation Flow (Advanced)\n",
        "\n",
        "**Task:** Create a troubleshooting agent that guides users through a structured diagnostic process.\n",
        "\n",
        "**Instructions:**\n",
        "1. Create an agent that asks diagnostic questions step-by-step\n",
        "2. The agent should:\n",
        "   - Start by asking about the device type\n",
        "   - Then ask about what error message they see\n",
        "   - Finally provide a solution based on the answers\n",
        "3. Write a conversation script that demonstrates this flow\n",
        "\n",
        "**Challenge:** Can you make the agent remember all the diagnostic information collected across multiple messages?"
      ]
    },
    {
      "cell_type": "code",
      "execution_count": null,
      "metadata": {
        "id": "exercise_3"
      },
      "outputs": [],
      "source": [
        "# Exercise 3: Create a diagnostic troubleshooting agent\n",
        "\n",
        "# TODO: Create your diagnostic agent\n",
        "diagnostic_agent = LlmAgent(\n",
        "    model=LiteLlm(model=f\"openai/{OPENAI_MODEL}\"),\n",
        "    name=\"diagnostic_troubleshooter\",\n",
        "    instruction=\"\"\"\n",
        "    # YOUR CODE HERE: Write instructions for a step-by-step diagnostic agent\n",
        "    # The agent should:\n",
        "    # 1. Ask about device type first\n",
        "    # 2. Ask about specific symptoms/errors\n",
        "    # 3. Collect information systematically\n",
        "    # 4. Provide solutions based on gathered information\n",
        "    \"\"\"\n",
        ")\n",
        "\n",
        "# TODO: Create runner\n",
        "# diagnostic_runner = Runner(...)\n",
        "\n",
        "# TODO: Create a multi-turn conversation that demonstrates:\n",
        "# Message 1: User states they have a problem\n",
        "# Message 2: User answers the device question\n",
        "# Message 3: User describes the error\n",
        "# Message 4: Agent provides solution based on context\n",
        "\n",
        "# Example conversation flow:\n",
        "# chat_with_diagnostic(\"I can't access my email\", session_id=\"diagnostic_001\")\n",
        "# chat_with_diagnostic(\"I'm using a laptop\", session_id=\"diagnostic_001\")\n",
        "# chat_with_diagnostic(\"It says 'incorrect password' but I know it's right\", session_id=\"diagnostic_001\")"
      ]
    },
    {
      "cell_type": "markdown",
      "metadata": {
        "id": "takeaways_header"
      },
      "source": [
        "---\n",
        "\n",
        "## 🎯 Part 6: Key Takeaways\n",
        "\n",
        "Congratulations! You've completed Lesson 1 of the ADK tutorial series. Let's review what you learned:\n",
        "\n",
        "\n",
        "1. **ADK Architecture**\n",
        "   - `LlmAgent`: The AI brain powered by OpenAI models\n",
        "   - `Runner`: Manages execution and message flow\n",
        "   - `SessionService`: Maintains conversation context and memory\n",
        "\n",
        "2. **Configuration**\n",
        "   - Set up OpenAI API authentication\n",
        "   - Used environment variables for API keys\n",
        "   - Configured the `gpt-5-nano` model\n",
        "\n",
        "3. **Agent Creation**\n",
        "   - Defined agent personality through instructions\n",
        "   - Created different agent personas for different use cases\n",
        "   - Understood how instructions shape agent behavior\n",
        "\n",
        "4. **Agent Interaction**\n",
        "   - Sent messages using the `types.Content` format\n",
        "   - Processed event streams to get responses\n",
        "   - Managed sessions to maintain conversation context\n",
        "\n",
        "### What's Coming Next 🚀\n",
        "\n",
        "In the upcoming lessons, you'll learn:\n",
        "\n",
        "- **Lesson 2: Adding Tools to Your Agent**\n",
        "  - Create custom functions (tools) that agents can call\n",
        "  - Build a ticket creation system\n",
        "  - Implement knowledge base search functionality\n",
        "\n",
        "- **Lesson 3: Multi-Agent Systems**\n",
        "  - Create specialized agents that work together\n",
        "  - Build an agent team (triage → specialist → resolution)\n",
        "  - Implement agent-to-agent communication\n",
        "\n",
        "- **Lesson 4: Advanced Sessions & State Management**\n",
        "  - Use persistent storage (Firestore)\n",
        "  - Implement custom session variables\n",
        "  - Build long-term memory systems\n",
        "\n",
        "- **Lesson 5: Integration with MCP**\n",
        "  - Connect ADK agents to MCP servers\n",
        "  - Use external tools and data sources\n",
        "  - Build production-ready agentic systems\n",
        "\n",
        "### Best Practices Learned 💡\n",
        "\n",
        "1. **Clear Instructions**: Well-written system prompts are crucial for agent behavior\n",
        "2. **Session Management**: Use consistent session IDs to maintain conversation context\n",
        "3. **Error Handling**: Always validate API keys and handle missing configurations\n",
        "4. **Modularity**: Create reusable helper functions for common operations\n",
        "\n",
        "### Resources 📚\n",
        "\n",
        "- [ADK Official Documentation](https://google.github.io/adk-docs/)\n",
        "- [OpenAI API Documentation](https://platform.openai.com/docs/)\n",
        "- [ADK Python Repository](https://github.com/google/adk-python)\n",
        "- [Google Codelabs - ADK Tutorials](https://codelabs.developers.google.com/)\n",
        "\n"
      ]
    },
    {
      "cell_type": "code",
      "source": [],
      "metadata": {
        "id": "VxfhxvDLOovL"
      },
      "execution_count": null,
      "outputs": []
    }
  ],
  "metadata": {
    "colab": {
      "provenance": []
    },
    "kernelspec": {
      "display_name": "Python 3",
      "language": "python",
      "name": "python3"
    },
    "language_info": {
      "codemirror_mode": {
        "name": "ipython",
        "version": 3
      },
      "file_extension": ".py",
      "mimetype": "text/x-python",
      "name": "python",
      "nbconvert_exporter": "python",
      "pygments_lexer": "ipython3",
      "version": "3.10.0"
    }
  },
  "nbformat": 4,
  "nbformat_minor": 0
}