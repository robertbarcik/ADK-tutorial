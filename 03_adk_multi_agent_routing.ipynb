{
  "cells": [
    {
      "cell_type": "markdown",
      "metadata": {
        "id": "Q5TO2iknX35g"
      },
      "source": [
        "# Lesson 3: Multi-Agent Systems with Hierarchical Routing\n",
        "\n",
        "## 🎯 Learning Objectives\n",
        "\n",
        "By the end of this lesson, you will be able to:\n",
        "\n",
        "1. **Understand** why and when to use multi-agent systems\n",
        "2. **Implement** the hierarchical routing pattern (coordinator + specialists)\n",
        "3. **Create** specialized agents with domain-specific tools and expertise\n",
        "4. **Build** a coordinator agent that intelligently routes requests\n",
        "5. **Demonstrate** how agents communicate and transfer control\n",
        "6. **Apply** this pattern to real-world production scenarios\n",
        "\n",
        "## 📚 Quick Recap: Lessons 1-2\n",
        "\n",
        "In previous lessons, you learned:\n",
        "- ✅ How to create basic agents with personality and instructions\n",
        "- ✅ How to give agents tools (function calling)\n",
        "- ✅ How to manage sessions and conversation context\n",
        "\n",
        "**Limitation**: A single agent with many tools becomes complex, slow, and hard to maintain.\n",
        "\n",
        "We're going to build a **multi-agent system** using the **hierarchical routing pattern** - the most important design pattern for production AI systems. Instead of one agent doing everything, we'll create:\n",
        "\n",
        "- 🎯 **Coordinator Agent**: Routes requests to the right specialist\n",
        "- 🔧 **Hardware Specialist**: Handles hardware issues with specialized tools\n",
        "- 💻 **Software Specialist**: Handles software issues with specialized tools\n",
        "- 🌐 **Network Specialist**: Handles network issues with specialized tools\n",
        "\n",
        "\n",
        "We're building a production-grade IT support system where different types of issues are handled by specialized agents with deep expertise in their domains.\n",
        "\n",
        "---"
      ]
    },
    {
      "cell_type": "markdown",
      "metadata": {
        "id": "ia6bZTEzX35i"
      },
      "source": [
        "## 💡 Part 1: Why Multi-Agent Systems?\n",
        "\n",
        "### The Problem with Single-Agent Approach\n",
        "\n",
        "Imagine one IT support agent with 50+ tools:\n",
        "- ❌ **Overwhelming context**: Agent must understand all tools at once\n",
        "- ❌ **Slow responses**: More tools = more processing time\n",
        "- ❌ **Generic responses**: Jack of all trades, master of none\n",
        "- ❌ **Maintenance nightmare**: Updating one tool affects everything\n",
        "- ❌ **Cost inefficiency**: Using expensive models for simple tasks\n",
        "\n",
        "### The Multi-Agent Solution\n",
        "\n",
        "```\n",
        "                    ┌─────────────────┐\n",
        "    User Request    │   Coordinator   │  (Routes to specialist)\n",
        "    ────────────>   │     Agent       │\n",
        "                    └────────┬────────┘\n",
        "                             │\n",
        "              ┌──────────────┼──────────────┐\n",
        "              ▼              ▼              ▼\n",
        "        ┌──────────┐   ┌──────────┐   ┌──────────┐\n",
        "        │ Hardware │   │ Software │   │ Network  │\n",
        "        │Specialist│   │Specialist│   │Specialist│\n",
        "        └──────────┘   └──────────┘   └──────────┘\n",
        "        3 tools        3 tools        3 tools\n",
        "```\n",
        "\n",
        "### Benefits of Hierarchical Routing\n",
        "\n",
        "✅ **Specialization**: Each agent is an expert in their domain\n",
        "\n",
        "✅ **Faster responses**: Specialists only load relevant tools\n",
        "\n",
        "✅ **Better quality**: Focused instructions for each domain\n",
        "\n",
        "✅ **Easy maintenance**: Update one specialist without affecting others\n",
        "\n",
        "✅ **Scalability**: Add new specialists without rebuilding everything\n",
        "\n",
        "✅ **Cost optimization**: Use different models for different complexity levels\n",
        "\n",
        "✅ **Clear debugging**: Know exactly which agent handled each request\n",
        "\n",
        "### Real-World Applications\n",
        "\n",
        "This pattern is used in production by:\n",
        "- **Customer support**: Sales, technical, billing specialists\n",
        "- **Healthcare**: Diagnosis, treatment, prescription specialists\n",
        "- **Finance**: Investment, risk, compliance specialists\n",
        "- **E-commerce**: Product, shipping, returns specialists\n",
        "\n",
        "**This is THE pattern you need to know for building production AI systems.**\n",
        "\n",
        "---"
      ]
    },
    {
      "cell_type": "markdown",
      "metadata": {
        "id": "44JnSOSwX35i"
      },
      "source": [
        "## 🔧 Part 2: Environment Setup\n",
        "\n",
        "Let's install packages and set up our environment."
      ]
    },
    {
      "cell_type": "code",
      "execution_count": 1,
      "metadata": {
        "colab": {
          "base_uri": "https://localhost:8080/"
        },
        "id": "0sUcaIMdX35j",
        "outputId": "2f233e51-c11a-4518-f106-861f2ff2b893"
      },
      "outputs": [
        {
          "output_type": "stream",
          "name": "stdout",
          "text": [
            "\u001b[2K     \u001b[90m━━━━━━━━━━━━━━━━━━━━━━━━━━━━━━━━━━━━━━━━\u001b[0m \u001b[32m42.4/42.4 kB\u001b[0m \u001b[31m1.4 MB/s\u001b[0m eta \u001b[36m0:00:00\u001b[0m\n",
            "\u001b[2K   \u001b[90m━━━━━━━━━━━━━━━━━━━━━━━━━━━━━━━━━━━━━━━━\u001b[0m \u001b[32m9.2/9.2 MB\u001b[0m \u001b[31m63.8 MB/s\u001b[0m eta \u001b[36m0:00:00\u001b[0m\n",
            "\u001b[2K   \u001b[90m━━━━━━━━━━━━━━━━━━━━━━━━━━━━━━━━━━━━━━━━\u001b[0m \u001b[32m272.3/272.3 kB\u001b[0m \u001b[31m17.2 MB/s\u001b[0m eta \u001b[36m0:00:00\u001b[0m\n",
            "\u001b[?25h✅ Packages installed successfully!\n"
          ]
        }
      ],
      "source": [
        "# Install the Google Agent Development Kit and dependencies\n",
        "!pip install -q google-adk litellm openai python-dotenv nest-asyncio\n",
        "\n",
        "print(\"✅ Packages installed successfully!\")"
      ]
    },
    {
      "cell_type": "code",
      "execution_count": 2,
      "metadata": {
        "colab": {
          "base_uri": "https://localhost:8080/"
        },
        "id": "e-dy6SK0X35j",
        "outputId": "904c5f6f-3171-43a7-963d-75eb7269c55e"
      },
      "outputs": [
        {
          "output_type": "stream",
          "name": "stdout",
          "text": [
            "✅ Imports successful!\n"
          ]
        }
      ],
      "source": [
        "# Core ADK imports\n",
        "from google.adk.agents import LlmAgent\n",
        "from google.adk.runners import Runner\n",
        "from google.adk.sessions import InMemorySessionService\n",
        "from google.adk.models.lite_llm import LiteLlm\n",
        "from google.genai import types\n",
        "\n",
        "# System imports\n",
        "import os\n",
        "import asyncio\n",
        "from typing import Dict, List, Optional\n",
        "from datetime import datetime\n",
        "import random\n",
        "\n",
        "print(\"✅ Imports successful!\")"
      ]
    },
    {
      "cell_type": "code",
      "execution_count": 3,
      "metadata": {
        "colab": {
          "base_uri": "https://localhost:8080/"
        },
        "id": "Ka8Ky816X35k",
        "outputId": "b13ddd38-22fa-4e83-d0ae-23b153961615"
      },
      "outputs": [
        {
          "output_type": "stream",
          "name": "stdout",
          "text": [
            "✅ API key loaded from Colab secrets\n",
            "✅ Authentication configured!\n",
            "🤖 Selected Model: gpt-5-nano\n",
            "\n",
            "💡 Model Selection Notes:\n",
            "   - This tutorial uses gpt-5-nano for cost efficiency\n",
            "   - In production, you might use more powerful models for complex routing:\n",
            "     • Coordinator: gpt-4o (better at complex routing decisions)\n",
            "     • Specialists: gpt-5-nano or gpt-4o-mini (routine tasks)\n",
            "\n",
            "💡 ADK is model-agnostic! Same code works with:\n",
            "   - OpenAI: model='gpt-5-nano', 'gpt-4o-mini', 'gpt-4o'\n",
            "   - Claude: model='claude-3-5-sonnet-20241022'\n",
            "   - Gemini: model='gemini-2.0-flash-exp'\n"
          ]
        }
      ],
      "source": [
        "# Configure OpenAI API key\n",
        "# Method 1: Try to get API key from Colab secrets (recommended)\n",
        "try:\n",
        "    from google.colab import userdata\n",
        "    OPENAI_API_KEY = userdata.get('OPENAI_API_KEY')\n",
        "    print(\"✅ API key loaded from Colab secrets\")\n",
        "except:\n",
        "    # Method 2: Manual input (fallback)\n",
        "    from getpass import getpass\n",
        "    print(\"💡 To use Colab secrets: Go to 🔑 (left sidebar) → Add new secret → Name: OPENAI_API_KEY\")\n",
        "    OPENAI_API_KEY = getpass(\"Enter your OpenAI API Key: \")\n",
        "\n",
        "# Set the API key as an environment variable\n",
        "os.environ[\"OPENAI_API_KEY\"] = OPENAI_API_KEY\n",
        "\n",
        "# Validate that the API key is set\n",
        "if not OPENAI_API_KEY or OPENAI_API_KEY.strip() == \"\":\n",
        "    raise ValueError(\"❌ ERROR: No API key provided!\")\n",
        "\n",
        "print(\"✅ Authentication configured!\")\n",
        "\n",
        "# Configure which OpenAI model to use\n",
        "# Using gpt-5-nano for all agents (most cost-efficient for learning)\n",
        "OPENAI_MODEL = \"gpt-5-nano\"  # Default model for this tutorial\n",
        "\n",
        "print(f\"🤖 Selected Model: {OPENAI_MODEL}\")\n",
        "print(\"\\n💡 Model Selection Notes:\")\n",
        "print(\"   - This tutorial uses gpt-5-nano for cost efficiency\")\n",
        "print(\"   - In production, you might use more powerful models for complex routing:\")\n",
        "print(\"     • Coordinator: gpt-4o (better at complex routing decisions)\")\n",
        "print(\"     • Specialists: gpt-5-nano or gpt-4o-mini (routine tasks)\")\n",
        "print(\"\\n💡 ADK is model-agnostic! Same code works with:\")\n",
        "print(\"   - OpenAI: model='gpt-5-nano', 'gpt-4o-mini', 'gpt-4o'\")\n",
        "print(\"   - Claude: model='claude-3-5-sonnet-20241022'\")\n",
        "print(\"   - Gemini: model='gemini-2.0-flash-exp'\")"
      ]
    },
    {
      "cell_type": "markdown",
      "metadata": {
        "id": "ldQ_mxygX35k"
      },
      "source": [
        "---\n",
        "\n",
        "## 🛠️ Part 3: Creating Specialist Agents\n",
        "\n",
        "Let's create three specialist agents, each with their own domain-specific tools.\n",
        "\n",
        "### Design Principle: Separation of Concerns\n",
        "\n",
        "Each specialist:\n",
        "- Has **focused expertise** in one domain\n",
        "- Uses **specialized tools** relevant to their area\n",
        "- Has **tailored instructions** for their specific role\n",
        "- Maintains **independent context** (what they need to know)"
      ]
    },
    {
      "cell_type": "markdown",
      "metadata": {
        "id": "OLy54A3DX35k"
      },
      "source": [
        "### 3.1: Hardware Specialist Tools"
      ]
    },
    {
      "cell_type": "code",
      "execution_count": 4,
      "metadata": {
        "colab": {
          "base_uri": "https://localhost:8080/"
        },
        "id": "_nVmyGBRX35k",
        "outputId": "1b3e8b0b-6951-49b6-abf1-424f71437feb"
      },
      "outputs": [
        {
          "output_type": "stream",
          "name": "stdout",
          "text": [
            "✅ Hardware specialist tools created!\n"
          ]
        }
      ],
      "source": [
        "# Mock hardware database\n",
        "HARDWARE_WARRANTY_DB = {\n",
        "    \"laptop\": {\"warranty_end\": \"2026-12-31\", \"coverage\": \"full\", \"manufacturer\": \"Dell\"},\n",
        "    \"desktop\": {\"warranty_end\": \"2025-06-30\", \"coverage\": \"parts_only\", \"manufacturer\": \"HP\"},\n",
        "    \"monitor\": {\"warranty_end\": \"2024-01-15\", \"coverage\": \"expired\", \"manufacturer\": \"Samsung\"},\n",
        "    \"printer\": {\"warranty_end\": \"2027-03-20\", \"coverage\": \"full\", \"manufacturer\": \"Canon\"},\n",
        "}\n",
        "\n",
        "def check_warranty(device_type: str) -> Dict[str, any]:\n",
        "    \"\"\"\n",
        "    Checks the warranty status for a hardware device.\n",
        "\n",
        "    Use this tool to verify if a device is still under warranty and what coverage it has.\n",
        "    This helps determine if repairs should be covered by warranty or require purchase approval.\n",
        "\n",
        "    Args:\n",
        "        device_type (str): Type of device to check (e.g., 'laptop', 'desktop', 'monitor', 'printer')\n",
        "\n",
        "    Returns:\n",
        "        Dict: Warranty information including expiration date, coverage type, and manufacturer\n",
        "    \"\"\"\n",
        "    print(f\"🔧 [HARDWARE TOOL] check_warranty(device_type='{device_type}')\")\n",
        "\n",
        "    device_type_lower = device_type.lower().strip()\n",
        "\n",
        "    if device_type_lower in HARDWARE_WARRANTY_DB:\n",
        "        warranty_info = HARDWARE_WARRANTY_DB[device_type_lower]\n",
        "        return {\n",
        "            \"success\": True,\n",
        "            \"device_type\": device_type_lower,\n",
        "            \"warranty_end\": warranty_info[\"warranty_end\"],\n",
        "            \"coverage\": warranty_info[\"coverage\"],\n",
        "            \"manufacturer\": warranty_info[\"manufacturer\"],\n",
        "            \"is_covered\": warranty_info[\"coverage\"] != \"expired\"\n",
        "        }\n",
        "    else:\n",
        "        return {\n",
        "            \"success\": False,\n",
        "            \"error\": f\"Device type '{device_type}' not found in warranty database\",\n",
        "            \"available_types\": list(HARDWARE_WARRANTY_DB.keys())\n",
        "        }\n",
        "\n",
        "\n",
        "def run_hardware_diagnostic(device_type: str) -> Dict[str, any]:\n",
        "    \"\"\"\n",
        "    Runs a hardware diagnostic test on a device.\n",
        "\n",
        "    Use this tool to identify hardware issues like failing components, overheating,\n",
        "    or connection problems. The diagnostic simulates real hardware testing.\n",
        "\n",
        "    Args:\n",
        "        device_type (str): Type of device to diagnose (e.g., 'laptop', 'desktop', 'printer')\n",
        "\n",
        "    Returns:\n",
        "        Dict: Diagnostic results with status, detected issues, and recommendations\n",
        "    \"\"\"\n",
        "    print(f\"🔧 [HARDWARE TOOL] run_hardware_diagnostic(device_type='{device_type}')\")\n",
        "\n",
        "    # Simulate diagnostic test\n",
        "    possible_issues = [\n",
        "        {\"component\": \"Hard Drive\", \"status\": \"Warning\", \"message\": \"High temperature detected\"},\n",
        "        {\"component\": \"RAM\", \"status\": \"Pass\", \"message\": \"All memory tests passed\"},\n",
        "        {\"component\": \"CPU\", \"status\": \"Pass\", \"message\": \"Operating within normal parameters\"},\n",
        "        {\"component\": \"Power Supply\", \"status\": \"Fail\", \"message\": \"Voltage fluctuations detected\"},\n",
        "        {\"component\": \"Graphics Card\", \"status\": \"Pass\", \"message\": \"No issues detected\"},\n",
        "    ]\n",
        "\n",
        "    # Randomly select 2-4 diagnostic results\n",
        "    num_results = random.randint(2, 4)\n",
        "    diagnostic_results = random.sample(possible_issues, num_results)\n",
        "\n",
        "    has_issues = any(result[\"status\"] in [\"Fail\", \"Warning\"] for result in diagnostic_results)\n",
        "\n",
        "    return {\n",
        "        \"success\": True,\n",
        "        \"device_type\": device_type,\n",
        "        \"overall_status\": \"Issues Detected\" if has_issues else \"All Tests Passed\",\n",
        "        \"diagnostic_results\": diagnostic_results,\n",
        "        \"recommendation\": \"Schedule repair\" if has_issues else \"No action needed\"\n",
        "    }\n",
        "\n",
        "\n",
        "def order_replacement_part(device_type: str, part_name: str) -> Dict[str, any]:\n",
        "    \"\"\"\n",
        "    Orders a replacement hardware part.\n",
        "\n",
        "    Use this tool when diagnostic tests reveal a failed component that needs replacement.\n",
        "    This simulates ordering parts from the IT inventory system.\n",
        "\n",
        "    Args:\n",
        "        device_type (str): Type of device needing repair (e.g., 'laptop', 'desktop')\n",
        "        part_name (str): Name of the part to order (e.g., 'Hard Drive', 'Power Supply')\n",
        "\n",
        "    Returns:\n",
        "        Dict: Order confirmation with tracking number and estimated delivery\n",
        "    \"\"\"\n",
        "    print(f\"🔧 [HARDWARE TOOL] order_replacement_part(device_type='{device_type}', part_name='{part_name}')\")\n",
        "\n",
        "    # Simulate order creation\n",
        "    order_number = f\"HW-{random.randint(10000, 99999)}\"\n",
        "    delivery_days = random.randint(2, 5)\n",
        "\n",
        "    return {\n",
        "        \"success\": True,\n",
        "        \"order_number\": order_number,\n",
        "        \"device_type\": device_type,\n",
        "        \"part_name\": part_name,\n",
        "        \"estimated_delivery\": f\"{delivery_days} business days\",\n",
        "        \"status\": \"Order placed\",\n",
        "        \"message\": f\"Replacement {part_name} ordered for {device_type}. You will receive email updates.\"\n",
        "    }\n",
        "\n",
        "print(\"✅ Hardware specialist tools created!\")"
      ]
    },
    {
      "cell_type": "markdown",
      "metadata": {
        "id": "xRcbdAKtX35l"
      },
      "source": [
        "### 3.2: Software Specialist Tools"
      ]
    },
    {
      "cell_type": "code",
      "execution_count": 5,
      "metadata": {
        "colab": {
          "base_uri": "https://localhost:8080/"
        },
        "id": "fnoSAeKzX35l",
        "outputId": "ac183097-ff83-48e6-b61b-a1db0af2ee79"
      },
      "outputs": [
        {
          "output_type": "stream",
          "name": "stdout",
          "text": [
            "✅ Software specialist tools created!\n"
          ]
        }
      ],
      "source": [
        "# Mock software license database\n",
        "SOFTWARE_LICENSE_DB = {\n",
        "    \"microsoft office\": {\"status\": \"active\", \"expires\": \"2026-01-15\", \"seats_used\": 245, \"seats_total\": 300},\n",
        "    \"adobe creative cloud\": {\"status\": \"active\", \"expires\": \"2025-12-31\", \"seats_used\": 50, \"seats_total\": 50},\n",
        "    \"zoom\": {\"status\": \"active\", \"expires\": \"2026-06-30\", \"seats_used\": 180, \"seats_total\": 200},\n",
        "    \"antivirus\": {\"status\": \"expired\", \"expires\": \"2024-11-30\", \"seats_used\": 300, \"seats_total\": 300},\n",
        "}\n",
        "\n",
        "def check_license(software_name: str) -> Dict[str, any]:\n",
        "    \"\"\"\n",
        "    Checks the license status for a software application.\n",
        "\n",
        "    Use this tool to verify if a software license is active, how many seats are available,\n",
        "    and when it expires. This helps troubleshoot activation issues.\n",
        "\n",
        "    Args:\n",
        "        software_name (str): Name of the software to check (e.g., 'Microsoft Office', 'Adobe Creative Cloud')\n",
        "\n",
        "    Returns:\n",
        "        Dict: License information including status, expiration, and seat availability\n",
        "    \"\"\"\n",
        "    print(f\"💻 [SOFTWARE TOOL] check_license(software_name='{software_name}')\")\n",
        "\n",
        "    software_lower = software_name.lower().strip()\n",
        "\n",
        "    if software_lower in SOFTWARE_LICENSE_DB:\n",
        "        license_info = SOFTWARE_LICENSE_DB[software_lower]\n",
        "        seats_available = license_info[\"seats_total\"] - license_info[\"seats_used\"]\n",
        "\n",
        "        return {\n",
        "            \"success\": True,\n",
        "            \"software_name\": software_name,\n",
        "            \"status\": license_info[\"status\"],\n",
        "            \"expires\": license_info[\"expires\"],\n",
        "            \"seats_available\": seats_available,\n",
        "            \"seats_total\": license_info[\"seats_total\"],\n",
        "            \"can_activate\": license_info[\"status\"] == \"active\" and seats_available > 0\n",
        "        }\n",
        "    else:\n",
        "        return {\n",
        "            \"success\": False,\n",
        "            \"error\": f\"Software '{software_name}' not found in license database\",\n",
        "            \"available_software\": list(SOFTWARE_LICENSE_DB.keys())\n",
        "        }\n",
        "\n",
        "\n",
        "def reinstall_software(software_name: str) -> Dict[str, any]:\n",
        "    \"\"\"\n",
        "    Reinstalls a software application to fix corruption or configuration issues.\n",
        "\n",
        "    Use this tool when software is crashing, not opening, or behaving incorrectly.\n",
        "    This simulates a clean reinstallation process.\n",
        "\n",
        "    Args:\n",
        "        software_name (str): Name of the software to reinstall (e.g., 'Microsoft Office')\n",
        "\n",
        "    Returns:\n",
        "        Dict: Reinstallation results with status and next steps\n",
        "    \"\"\"\n",
        "    print(f\"💻 [SOFTWARE TOOL] reinstall_software(software_name='{software_name}')\")\n",
        "\n",
        "    # Simulate reinstallation\n",
        "    steps_completed = [\n",
        "        \"Uninstalled previous version\",\n",
        "        \"Downloaded latest version\",\n",
        "        \"Installed software\",\n",
        "        \"Applied configuration\",\n",
        "        \"Verified installation\"\n",
        "    ]\n",
        "\n",
        "    return {\n",
        "        \"success\": True,\n",
        "        \"software_name\": software_name,\n",
        "        \"status\": \"Reinstallation completed\",\n",
        "        \"steps_completed\": steps_completed,\n",
        "        \"message\": f\"{software_name} has been successfully reinstalled. Please restart your computer.\",\n",
        "        \"next_steps\": [\"Restart computer\", \"Test software functionality\", \"Restore user preferences\"]\n",
        "    }\n",
        "\n",
        "\n",
        "def update_application(software_name: str) -> Dict[str, any]:\n",
        "    \"\"\"\n",
        "    Updates a software application to the latest version.\n",
        "\n",
        "    Use this tool when software is outdated, missing features, or has known bugs\n",
        "    that are fixed in newer versions.\n",
        "\n",
        "    Args:\n",
        "        software_name (str): Name of the software to update\n",
        "\n",
        "    Returns:\n",
        "        Dict: Update results with version information and changes\n",
        "    \"\"\"\n",
        "    print(f\"💻 [SOFTWARE TOOL] update_application(software_name='{software_name}')\")\n",
        "\n",
        "    # Simulate version update\n",
        "    old_version = f\"{random.randint(1, 5)}.{random.randint(0, 9)}.{random.randint(0, 99)}\"\n",
        "    new_version = f\"{random.randint(1, 5)}.{random.randint(0, 9)}.{random.randint(0, 99)}\"\n",
        "\n",
        "    return {\n",
        "        \"success\": True,\n",
        "        \"software_name\": software_name,\n",
        "        \"old_version\": old_version,\n",
        "        \"new_version\": new_version,\n",
        "        \"status\": \"Update completed\",\n",
        "        \"changes\": [\n",
        "            \"Security patches applied\",\n",
        "            \"Performance improvements\",\n",
        "            \"Bug fixes included\",\n",
        "            \"New features added\"\n",
        "        ],\n",
        "        \"message\": f\"{software_name} updated from v{old_version} to v{new_version}\"\n",
        "    }\n",
        "\n",
        "print(\"✅ Software specialist tools created!\")"
      ]
    },
    {
      "cell_type": "markdown",
      "metadata": {
        "id": "9z7s-Cr6X35l"
      },
      "source": [
        "### 3.3: Network Specialist Tools"
      ]
    },
    {
      "cell_type": "code",
      "execution_count": 6,
      "metadata": {
        "colab": {
          "base_uri": "https://localhost:8080/"
        },
        "id": "RmrhE0XGX35l",
        "outputId": "e8f1c399-6216-40c5-ea83-c835c67e90e9"
      },
      "outputs": [
        {
          "output_type": "stream",
          "name": "stdout",
          "text": [
            "✅ Network specialist tools created!\n"
          ]
        }
      ],
      "source": [
        "def ping_host(hostname: str) -> Dict[str, any]:\n",
        "    \"\"\"\n",
        "    Pings a network host to check connectivity.\n",
        "\n",
        "    Use this tool to verify if a device or server is reachable on the network.\n",
        "    This helps diagnose connection issues and network outages.\n",
        "\n",
        "    Args:\n",
        "        hostname (str): Hostname or IP address to ping (e.g., 'google.com', '192.168.1.1')\n",
        "\n",
        "    Returns:\n",
        "        Dict: Ping results with response time and packet loss\n",
        "    \"\"\"\n",
        "    print(f\"🌐 [NETWORK TOOL] ping_host(hostname='{hostname}')\")\n",
        "\n",
        "    # Simulate ping test\n",
        "    is_reachable = random.random() > 0.2  # 80% success rate\n",
        "\n",
        "    if is_reachable:\n",
        "        response_time = random.randint(5, 150)\n",
        "        packet_loss = random.randint(0, 5)\n",
        "\n",
        "        return {\n",
        "            \"success\": True,\n",
        "            \"hostname\": hostname,\n",
        "            \"reachable\": True,\n",
        "            \"response_time_ms\": response_time,\n",
        "            \"packet_loss_percent\": packet_loss,\n",
        "            \"status\": \"Connected\" if packet_loss < 2 else \"Unstable connection\",\n",
        "            \"message\": f\"Host {hostname} is reachable with {response_time}ms response time\"\n",
        "        }\n",
        "    else:\n",
        "        return {\n",
        "            \"success\": True,\n",
        "            \"hostname\": hostname,\n",
        "            \"reachable\": False,\n",
        "            \"status\": \"Connection failed\",\n",
        "            \"message\": f\"Unable to reach {hostname}. Check network connection or firewall settings.\"\n",
        "        }\n",
        "\n",
        "\n",
        "def check_bandwidth(location: str) -> Dict[str, any]:\n",
        "    \"\"\"\n",
        "    Checks network bandwidth and speed at a specific location.\n",
        "\n",
        "    Use this tool to diagnose slow network performance or bandwidth issues.\n",
        "    Helps identify if connection problems are due to insufficient bandwidth.\n",
        "\n",
        "    Args:\n",
        "        location (str): Network location to test (e.g., 'Building A', 'Lab 3', 'Office 201')\n",
        "\n",
        "    Returns:\n",
        "        Dict: Bandwidth test results with download/upload speeds and latency\n",
        "    \"\"\"\n",
        "    print(f\"🌐 [NETWORK TOOL] check_bandwidth(location='{location}')\")\n",
        "\n",
        "    # Simulate bandwidth test\n",
        "    download_speed = random.randint(50, 500)  # Mbps\n",
        "    upload_speed = random.randint(20, 100)    # Mbps\n",
        "    latency = random.randint(5, 50)           # ms\n",
        "\n",
        "    # Determine quality\n",
        "    if download_speed > 200 and latency < 20:\n",
        "        quality = \"Excellent\"\n",
        "    elif download_speed > 100 and latency < 35:\n",
        "        quality = \"Good\"\n",
        "    else:\n",
        "        quality = \"Poor - May need optimization\"\n",
        "\n",
        "    return {\n",
        "        \"success\": True,\n",
        "        \"location\": location,\n",
        "        \"download_speed_mbps\": download_speed,\n",
        "        \"upload_speed_mbps\": upload_speed,\n",
        "        \"latency_ms\": latency,\n",
        "        \"quality\": quality,\n",
        "        \"message\": f\"Bandwidth at {location}: {download_speed} Mbps down / {upload_speed} Mbps up\"\n",
        "    }\n",
        "\n",
        "\n",
        "def reset_router(location: str) -> Dict[str, any]:\n",
        "    \"\"\"\n",
        "    Resets a network router to resolve connectivity issues.\n",
        "\n",
        "    Use this tool when users report network outages, slow connections, or\n",
        "    intermittent connectivity. Router reset often resolves these issues.\n",
        "\n",
        "    Args:\n",
        "        location (str): Location of the router to reset (e.g., 'Building A Floor 2')\n",
        "\n",
        "    Returns:\n",
        "        Dict: Reset results with status and estimated downtime\n",
        "    \"\"\"\n",
        "    print(f\"🌐 [NETWORK TOOL] reset_router(location='{location}')\")\n",
        "\n",
        "    # Simulate router reset\n",
        "    return {\n",
        "        \"success\": True,\n",
        "        \"location\": location,\n",
        "        \"status\": \"Router reset completed\",\n",
        "        \"downtime_seconds\": 45,\n",
        "        \"steps_completed\": [\n",
        "            \"Initiated router reboot\",\n",
        "            \"Cleared connection table\",\n",
        "            \"Renewed DHCP leases\",\n",
        "            \"Restored network services\"\n",
        "        ],\n",
        "        \"message\": f\"Router at {location} has been reset. Network connectivity should be restored.\",\n",
        "        \"next_steps\": \"If issues persist, check cable connections and contact network team.\"\n",
        "    }\n",
        "\n",
        "print(\"✅ Network specialist tools created!\")"
      ]
    },
    {
      "cell_type": "markdown",
      "metadata": {
        "id": "9SGTRuNTX35m"
      },
      "source": [
        "### 3.4: Create the Specialist Agents\n",
        "\n",
        "Now let's create three specialist agents, each with their domain-specific tools and expertise."
      ]
    },
    {
      "cell_type": "code",
      "execution_count": 7,
      "metadata": {
        "colab": {
          "base_uri": "https://localhost:8080/"
        },
        "id": "-8Z7C4-WX35m",
        "outputId": "8915d8c0-8873-4fb9-c8c8-b01ef61faf37"
      },
      "outputs": [
        {
          "output_type": "stream",
          "name": "stdout",
          "text": [
            "✅ Hardware Specialist created!\n",
            "   Model: gpt-5-nano\n",
            "   Tools: 3\n"
          ]
        }
      ],
      "source": [
        "# Create Hardware Specialist Agent\n",
        "hardware_specialist = LlmAgent(\n",
        "    model=LiteLlm(model=f\"openai/{OPENAI_MODEL}\"),\n",
        "    name=\"hardware_specialist\",\n",
        "    tools=[\n",
        "        check_warranty,\n",
        "        run_hardware_diagnostic,\n",
        "        order_replacement_part\n",
        "    ],\n",
        "    instruction=\"\"\"\n",
        "    You are a Hardware Specialist for TechHelp Solutions IT support.\n",
        "\n",
        "    YOUR EXPERTISE:\n",
        "    - Computer hardware (laptops, desktops, monitors, printers)\n",
        "    - Hardware diagnostics and troubleshooting\n",
        "    - Warranty management and part replacement\n",
        "    - Physical device issues (power, boot, connection problems)\n",
        "\n",
        "    YOUR TOOLS:\n",
        "    - check_warranty: Verify warranty status before recommending repairs\n",
        "    - run_hardware_diagnostic: Test hardware to identify failing components\n",
        "    - order_replacement_part: Order parts when diagnostics reveal failures\n",
        "\n",
        "    YOUR PROCESS:\n",
        "    1. First, run diagnostics to identify the problem\n",
        "    2. Check warranty status to determine coverage\n",
        "    3. If hardware failure is confirmed, order replacement parts\n",
        "    4. Provide clear next steps for the user\n",
        "\n",
        "    YOUR PERSONALITY:\n",
        "    - Technical but clear (avoid jargon overload)\n",
        "    - Systematic and thorough in diagnostics\n",
        "    - Proactive in suggesting solutions\n",
        "\n",
        "    IMPORTANT: You ONLY handle hardware issues. If the user's problem is about\n",
        "    software or network, politely explain that they need a different specialist.\n",
        "    \"\"\"\n",
        ")\n",
        "\n",
        "print(\"✅ Hardware Specialist created!\")\n",
        "print(f\"   Model: {OPENAI_MODEL}\")\n",
        "print(f\"   Tools: {len(hardware_specialist.tools)}\")"
      ]
    },
    {
      "cell_type": "code",
      "execution_count": 8,
      "metadata": {
        "colab": {
          "base_uri": "https://localhost:8080/"
        },
        "id": "yU2RL4y8X35m",
        "outputId": "90d6d2af-7a8a-4ff6-a3f4-48ad6e44ec79"
      },
      "outputs": [
        {
          "output_type": "stream",
          "name": "stdout",
          "text": [
            "✅ Software Specialist created!\n",
            "   Model: gpt-5-nano\n",
            "   Tools: 3\n"
          ]
        }
      ],
      "source": [
        "# Create Software Specialist Agent\n",
        "software_specialist = LlmAgent(\n",
        "    model=LiteLlm(model=f\"openai/{OPENAI_MODEL}\"),\n",
        "    name=\"software_specialist\",\n",
        "    tools=[\n",
        "        check_license,\n",
        "        reinstall_software,\n",
        "        update_application\n",
        "    ],\n",
        "    instruction=\"\"\"\n",
        "    You are a Software Specialist for TechHelp Solutions IT support.\n",
        "\n",
        "    YOUR EXPERTISE:\n",
        "    - Software applications (Microsoft Office, Adobe, Zoom, etc.)\n",
        "    - License management and activation issues\n",
        "    - Software installation, updates, and troubleshooting\n",
        "    - Application crashes, freezes, and error messages\n",
        "\n",
        "    YOUR TOOLS:\n",
        "    - check_license: Verify license status and seat availability\n",
        "    - reinstall_software: Fix corrupted or misconfigured software\n",
        "    - update_application: Update software to latest version\n",
        "\n",
        "    YOUR PROCESS:\n",
        "    1. Check license status first (many issues are license-related)\n",
        "    2. Try updating the application before reinstalling\n",
        "    3. Use reinstallation as a last resort for persistent issues\n",
        "    4. Always verify the fix worked\n",
        "\n",
        "    YOUR PERSONALITY:\n",
        "    - Patient and methodical\n",
        "    - Good at explaining technical steps clearly\n",
        "    - Focused on getting software working properly\n",
        "\n",
        "    IMPORTANT: You ONLY handle software application issues. If the problem is\n",
        "    hardware or network related, explain that they need a different specialist.\n",
        "    \"\"\"\n",
        ")\n",
        "\n",
        "print(\"✅ Software Specialist created!\")\n",
        "print(f\"   Model: {OPENAI_MODEL}\")\n",
        "print(f\"   Tools: {len(software_specialist.tools)}\")"
      ]
    },
    {
      "cell_type": "code",
      "execution_count": 9,
      "metadata": {
        "colab": {
          "base_uri": "https://localhost:8080/"
        },
        "id": "1_swswZBX35m",
        "outputId": "dcf36f1d-67fa-4ec0-c4f3-f77ad7ebe162"
      },
      "outputs": [
        {
          "output_type": "stream",
          "name": "stdout",
          "text": [
            "✅ Network Specialist created!\n",
            "   Model: gpt-5-nano\n",
            "   Tools: 3\n"
          ]
        }
      ],
      "source": [
        "# Create Network Specialist Agent\n",
        "network_specialist = LlmAgent(\n",
        "    model=LiteLlm(model=f\"openai/{OPENAI_MODEL}\"),\n",
        "    name=\"network_specialist\",\n",
        "    tools=[\n",
        "        ping_host,\n",
        "        check_bandwidth,\n",
        "        reset_router\n",
        "    ],\n",
        "    instruction=\"\"\"\n",
        "    You are a Network Specialist for TechHelp Solutions IT support.\n",
        "\n",
        "    YOUR EXPERTISE:\n",
        "    - Network connectivity (Wi-Fi, ethernet, VPN)\n",
        "    - Internet access issues\n",
        "    - Network performance and speed problems\n",
        "    - Router and network device troubleshooting\n",
        "\n",
        "    YOUR TOOLS:\n",
        "    - ping_host: Test connectivity to specific hosts or servers\n",
        "    - check_bandwidth: Measure network speed and performance\n",
        "    - reset_router: Reboot routers to resolve connectivity issues\n",
        "\n",
        "    YOUR PROCESS:\n",
        "    1. Use ping to verify basic connectivity first\n",
        "    2. Check bandwidth if connection is slow but working\n",
        "    3. Try router reset as a solution for persistent issues\n",
        "    4. Escalate to network team if problems continue\n",
        "\n",
        "    YOUR PERSONALITY:\n",
        "    - Quick and efficient\n",
        "    - Good at diagnosing network issues systematically\n",
        "    - Focused on restoring connectivity fast\n",
        "\n",
        "    IMPORTANT: You ONLY handle network and connectivity issues. If the problem\n",
        "    is hardware or software related, explain that they need a different specialist.\n",
        "    \"\"\"\n",
        ")\n",
        "\n",
        "print(\"✅ Network Specialist created!\")\n",
        "print(f\"   Model: {OPENAI_MODEL}\")\n",
        "print(f\"   Tools: {len(network_specialist.tools)}\")"
      ]
    },
    {
      "cell_type": "code",
      "execution_count": 10,
      "metadata": {
        "colab": {
          "base_uri": "https://localhost:8080/"
        },
        "id": "C4SPn4D2X35n",
        "outputId": "c2bb2dfd-55c3-4233-8c9e-3141d7ffb91e"
      },
      "outputs": [
        {
          "output_type": "stream",
          "name": "stdout",
          "text": [
            "\n",
            "======================================================================\n",
            "📊 SPECIALIST AGENTS SUMMARY\n",
            "======================================================================\n",
            "\n",
            "🔧 Hardware Specialist: hardware_specialist\n",
            "   └─ Tools: check_warranty, run_hardware_diagnostic, order_replacement_part\n",
            "\n",
            "💻 Software Specialist: software_specialist\n",
            "   └─ Tools: check_license, reinstall_software, update_application\n",
            "\n",
            "🌐 Network Specialist: network_specialist\n",
            "   └─ Tools: ping_host, check_bandwidth, reset_router\n",
            "\n",
            "======================================================================\n",
            "\n"
          ]
        }
      ],
      "source": [
        "print(\"\\n\" + \"=\"*70)\n",
        "print(\"📊 SPECIALIST AGENTS SUMMARY\")\n",
        "print(\"=\"*70)\n",
        "print(f\"\\n🔧 Hardware Specialist: {hardware_specialist.name}\")\n",
        "print(f\"   └─ Tools: check_warranty, run_hardware_diagnostic, order_replacement_part\")\n",
        "print(f\"\\n💻 Software Specialist: {software_specialist.name}\")\n",
        "print(f\"   └─ Tools: check_license, reinstall_software, update_application\")\n",
        "print(f\"\\n🌐 Network Specialist: {network_specialist.name}\")\n",
        "print(f\"   └─ Tools: ping_host, check_bandwidth, reset_router\")\n",
        "print(\"\\n\" + \"=\"*70 + \"\\n\")"
      ]
    },
    {
      "cell_type": "markdown",
      "metadata": {
        "id": "mH8zn5-rX35n"
      },
      "source": [
        "---\n",
        "\n",
        "## 🎯 Part 4: Creating the Coordinator Agent\n",
        "\n",
        "Now comes the magic! The coordinator agent uses the `sub_agents` parameter to manage our specialists.\n",
        "\n",
        "### How Hierarchical Routing Works\n",
        "\n",
        "1. **User sends request** → Coordinator receives it\n",
        "2. **Coordinator analyzes** → \"This is a hardware/software/network issue\"\n",
        "3. **Coordinator routes** → Calls `transfer_to_agent(agent_name='specialist')`\n",
        "4. **Specialist handles** → Uses their specialized tools\n",
        "5. **User receives response** → From the specialist\n",
        "\n",
        "\n",
        "ADK automatically:\n",
        "- ✅ Sets parent-child relationships\n",
        "- ✅ Enables `transfer_to_agent()` function\n",
        "- ✅ Manages context handoff between agents\n",
        "- ✅ Ensures each agent only sees relevant information"
      ]
    },
    {
      "cell_type": "code",
      "execution_count": 11,
      "metadata": {
        "colab": {
          "base_uri": "https://localhost:8080/"
        },
        "id": "lJ9Ey9EyX35n",
        "outputId": "1006398c-caa4-45e2-e826-e4272dae6ce1"
      },
      "outputs": [
        {
          "output_type": "stream",
          "name": "stdout",
          "text": [
            "✅ Coordinator Agent created!\n",
            "   Model: gpt-5-nano\n",
            "   Sub-agents: 3\n",
            "   Sub-agent names: ['hardware_specialist', 'software_specialist', 'network_specialist']\n"
          ]
        }
      ],
      "source": [
        "# Create Coordinator Agent with sub_agents\n",
        "coordinator_agent = LlmAgent(\n",
        "    model=LiteLlm(model=f\"openai/{OPENAI_MODEL}\"),\n",
        "    name=\"it_support_coordinator\",\n",
        "    sub_agents=[\n",
        "        hardware_specialist,\n",
        "        software_specialist,\n",
        "        network_specialist\n",
        "    ],\n",
        "    instruction=\"\"\"\n",
        "    You are the IT Support Coordinator for TechHelp Solutions.\n",
        "\n",
        "    YOUR ROLE:\n",
        "    You are the first point of contact for all IT support requests. Your job is to\n",
        "    quickly understand the user's issue and route them to the appropriate specialist.\n",
        "\n",
        "    AVAILABLE SPECIALISTS:\n",
        "    1. hardware_specialist - For physical device issues:\n",
        "       - Computer won't turn on/boot\n",
        "       - Hardware failures, strange noises\n",
        "       - Physical damage, broken parts\n",
        "       - Printer, monitor, keyboard issues\n",
        "\n",
        "    2. software_specialist - For application issues:\n",
        "       - Software won't open or crashes\n",
        "       - License/activation problems\n",
        "       - Application errors or freezes\n",
        "       - Need to install/update software\n",
        "\n",
        "    3. network_specialist - For connectivity issues:\n",
        "       - Can't connect to internet/Wi-Fi\n",
        "       - Slow network speeds\n",
        "       - VPN connection problems\n",
        "       - Network outages\n",
        "\n",
        "    YOUR DECISION PROCESS:\n",
        "    1. Read the user's issue carefully\n",
        "    2. Identify keywords: hardware words (device, power, boot, broken) vs\n",
        "       software words (application, license, install, crash) vs\n",
        "       network words (wifi, internet, connection, slow)\n",
        "    3. Use transfer_to_agent() to route to the right specialist\n",
        "    4. If unclear, ask ONE clarifying question before routing\n",
        "\n",
        "    ROUTING EXAMPLES:\n",
        "    - \"My laptop won't turn on\" → hardware_specialist (power issue)\n",
        "    - \"Microsoft Office says my license is invalid\" → software_specialist (license)\n",
        "    - \"I can't connect to Wi-Fi\" → network_specialist (connectivity)\n",
        "    - \"My computer is running slow\" → Ask: \"Is it slow opening programs or slow internet?\"\n",
        "\n",
        "    YOUR PERSONALITY:\n",
        "    - Friendly and welcoming\n",
        "    - Quick to identify the issue type\n",
        "    - Confident in routing decisions\n",
        "\n",
        "    IMPORTANT:\n",
        "    - Always route to a specialist - don't try to solve issues yourself\n",
        "    - Use transfer_to_agent() as soon as you identify the issue type\n",
        "    - The specialists have the tools and expertise - trust them!\n",
        "    - Be brief in your initial response before transferring\n",
        "    \"\"\"\n",
        ")\n",
        "\n",
        "print(\"✅ Coordinator Agent created!\")\n",
        "print(f\"   Model: {OPENAI_MODEL}\")\n",
        "print(f\"   Sub-agents: {len(coordinator_agent.sub_agents)}\")\n",
        "print(f\"   Sub-agent names: {[agent.name for agent in coordinator_agent.sub_agents]}\")"
      ]
    },
    {
      "cell_type": "markdown",
      "metadata": {
        "id": "NPJz0F6vX35o"
      },
      "source": [
        "### Create Runner and Session Service"
      ]
    },
    {
      "cell_type": "code",
      "execution_count": 12,
      "metadata": {
        "colab": {
          "base_uri": "https://localhost:8080/"
        },
        "id": "yQ19brOgX35o",
        "outputId": "99c68649-5bb8-4f4c-a351-07907647569e"
      },
      "outputs": [
        {
          "output_type": "stream",
          "name": "stdout",
          "text": [
            "✅ Runner initialized!\n",
            "   App Name: it_support_multi_agent\n",
            "   Root Agent: it_support_coordinator\n",
            "\n",
            "🎯 Multi-Agent System Ready!\n",
            "   When users send requests, the coordinator will automatically route\n",
            "   them to the appropriate specialist agent.\n"
          ]
        }
      ],
      "source": [
        "# Create session service and app configuration\n",
        "session_service = InMemorySessionService()\n",
        "APP_NAME = \"it_support_multi_agent\"\n",
        "\n",
        "# Create the runner with coordinator as the root agent\n",
        "runner = Runner(\n",
        "    app_name=APP_NAME,\n",
        "    agent=coordinator_agent,  # Root agent is the coordinator\n",
        "    session_service=session_service\n",
        ")\n",
        "\n",
        "print(\"✅ Runner initialized!\")\n",
        "print(f\"   App Name: {APP_NAME}\")\n",
        "print(f\"   Root Agent: {coordinator_agent.name}\")\n",
        "print(f\"\\n🎯 Multi-Agent System Ready!\")\n",
        "print(\"   When users send requests, the coordinator will automatically route\")\n",
        "print(\"   them to the appropriate specialist agent.\")\n"
      ]
    },
    {
      "cell_type": "markdown",
      "metadata": {
        "id": "lHn9VzRRX35o"
      },
      "source": [
        "### Helper Function for Multi-Agent Interaction"
      ]
    },
    {
      "cell_type": "code",
      "execution_count": 13,
      "metadata": {
        "colab": {
          "base_uri": "https://localhost:8080/"
        },
        "id": "JSddHKvaX35o",
        "outputId": "46e2a310-ce94-4e77-b80c-b5d3947b410d"
      },
      "outputs": [
        {
          "output_type": "stream",
          "name": "stdout",
          "text": [
            "✅ Helper function created!\n",
            "   This function will show you which agent handles each request.\n"
          ]
        }
      ],
      "source": [
        "# Track created sessions\n",
        "_created_sessions = set()\n",
        "\n",
        "async def chat_with_support_async(user_message: str, session_id: str = \"session_001\", user_id: str = \"user_001\"):\n",
        "    \"\"\"\n",
        "    Send a message to the IT support multi-agent system (async version).\n",
        "    The coordinator will route to the appropriate specialist.\n",
        "    \"\"\"\n",
        "    # Create session if needed\n",
        "    session_key = (session_id, user_id)\n",
        "    if session_key not in _created_sessions:\n",
        "        await session_service.create_session(\n",
        "            app_name=APP_NAME,\n",
        "            user_id=user_id,\n",
        "            session_id=session_id,\n",
        "            state={}\n",
        "        )\n",
        "        _created_sessions.add(session_key)\n",
        "\n",
        "    content = types.Content(role='user', parts=[types.Part(text=user_message)])\n",
        "    events = runner.run_async(user_id=user_id, session_id=session_id, new_message=content)\n",
        "\n",
        "    print(f\"\\n{'='*80}\")\n",
        "    print(f\"👤 USER: {user_message}\")\n",
        "    print(f\"{'='*80}\\n\")\n",
        "\n",
        "    current_agent = \"coordinator\"\n",
        "    final_response = None\n",
        "\n",
        "    async for event in events:\n",
        "        # Track which agent is responding (useful for debugging)\n",
        "        if hasattr(event, 'agent_name') and event.agent_name:\n",
        "            if event.agent_name != current_agent:\n",
        "                current_agent = event.agent_name\n",
        "                print(f\"\\n🔀 [ROUTING] Transferred to: {current_agent}\\n\")\n",
        "\n",
        "        if event.is_final_response():\n",
        "            final_response = event.content.parts[0].text\n",
        "\n",
        "    if final_response:\n",
        "        # Determine which emoji based on the agent that responded\n",
        "        agent_emoji = {\n",
        "            \"hardware_specialist\": \"🔧\",\n",
        "            \"software_specialist\": \"💻\",\n",
        "            \"network_specialist\": \"🌐\",\n",
        "            \"it_support_coordinator\": \"🎯\"\n",
        "        }.get(current_agent, \"🤖\")\n",
        "\n",
        "        print(f\"{agent_emoji} {current_agent.upper().replace('_', ' ')}: {final_response}\")\n",
        "        print(f\"\\n{'='*80}\\n\")\n",
        "        return final_response\n",
        "    else:\n",
        "        print(\"⚠️ No response received.\")\n",
        "        return None\n",
        "\n",
        "def chat_with_support(user_message: str, session_id: str = \"session_001\", user_id: str = \"user_001\"):\n",
        "    \"\"\"\n",
        "    Synchronous wrapper for chat_with_support_async.\n",
        "    \"\"\"\n",
        "    try:\n",
        "        loop = asyncio.get_running_loop()\n",
        "        import nest_asyncio\n",
        "        nest_asyncio.apply()\n",
        "        return asyncio.run(chat_with_support_async(user_message, session_id, user_id))\n",
        "    except RuntimeError:\n",
        "        return asyncio.run(chat_with_support_async(user_message, session_id, user_id))\n",
        "\n",
        "print(\"✅ Helper function created!\")\n",
        "print(\"   This function will show you which agent handles each request.\")"
      ]
    },
    {
      "cell_type": "markdown",
      "metadata": {
        "id": "MxXhhN-AX35o"
      },
      "source": [
        "---\n",
        "\n",
        "## 🎬 Part 5: Demonstration - Hierarchical Routing in Action\n",
        "\n",
        "Let's test our multi-agent system with different types of IT issues. Watch how the coordinator routes each request to the appropriate specialist!\n",
        "\n",
        "### Demo 1: Hardware Issue (Device Won't Boot)"
      ]
    },
    {
      "cell_type": "code",
      "execution_count": 14,
      "metadata": {
        "colab": {
          "base_uri": "https://localhost:8080/",
          "height": 905
        },
        "id": "QU-9d3x0X35o",
        "outputId": "da6e36cf-14e0-4477-e536-5e635683efd9"
      },
      "outputs": [
        {
          "output_type": "stream",
          "name": "stdout",
          "text": [
            "\n",
            "================================================================================\n",
            "👤 USER: My laptop won't turn on at all. I pressed the power button but nothing happens.\n",
            "================================================================================\n",
            "\n",
            "🔧 [HARDWARE TOOL] run_hardware_diagnostic(device_type='laptop')\n",
            "🔧 [HARDWARE TOOL] check_warranty(device_type='laptop')\n",
            "🔧 [HARDWARE TOOL] order_replacement_part(device_type='laptop', part_name='Hard Drive')\n",
            "🤖 COORDINATOR: Here’s what I found and what’s happening next:\n",
            "\n",
            "What the diagnostics showed\n",
            "- CPU: Pass (within normal parameters)\n",
            "- Hard Drive: Warning — high temperature detected\n",
            "- Overall: Issues Detected\n",
            "- Recommendation: Schedule repair\n",
            "\n",
            "Warranty status\n",
            "- Laptop is under warranty until 2026-12-31\n",
            "- Coverage: full (manufacturer: Dell)\n",
            "- This means HDD replacement should be covered at no cost to you\n",
            "\n",
            "Parts and status\n",
            "- Replacement part ordered: Hard Drive\n",
            "- Order number: HW-49389\n",
            "- Estimated delivery: 2 business days\n",
            "- Status: Order placed\n",
            "\n",
            "What happens next\n",
            "- Once the new hard drive arrives, a technician will replace the drive and test the system to confirm it boots properly and runs without overheating.\n",
            "- After installation, we’ll run a follow-up diagnostic to verify temperatures and overall health.\n",
            "- If the device still won’t power on after the drive swap, we’ll proceed with further checks (power adapter/battery, motherboard) and let you know the next steps.\n",
            "\n",
            "What you may want to decide right now\n",
            "- Do you want the repair to be done as an on-site visit, or via mail-in service (where a tech can come to you or you send in the device)? \n",
            "- Any data preservation concerns you’d like us to address? Note: If the drive is failing, data recovery may be limited until the drive is replaced.\n",
            "\n",
            "Key takeaway\n",
            "- The HDD is likely contributing to the boot/power issue. With full warranty coverage in place, the replacement drive will be covered, and we’ll handle the repair logistics as described.\n",
            "\n",
            "If you’d like, I can schedule the service window or adjust the service method. How would you like to proceed?\n",
            "\n",
            "================================================================================\n",
            "\n"
          ]
        },
        {
          "output_type": "execute_result",
          "data": {
            "text/plain": [
              "'Here’s what I found and what’s happening next:\\n\\nWhat the diagnostics showed\\n- CPU: Pass (within normal parameters)\\n- Hard Drive: Warning — high temperature detected\\n- Overall: Issues Detected\\n- Recommendation: Schedule repair\\n\\nWarranty status\\n- Laptop is under warranty until 2026-12-31\\n- Coverage: full (manufacturer: Dell)\\n- This means HDD replacement should be covered at no cost to you\\n\\nParts and status\\n- Replacement part ordered: Hard Drive\\n- Order number: HW-49389\\n- Estimated delivery: 2 business days\\n- Status: Order placed\\n\\nWhat happens next\\n- Once the new hard drive arrives, a technician will replace the drive and test the system to confirm it boots properly and runs without overheating.\\n- After installation, we’ll run a follow-up diagnostic to verify temperatures and overall health.\\n- If the device still won’t power on after the drive swap, we’ll proceed with further checks (power adapter/battery, motherboard) and let you know the next steps.\\n\\nWhat you may want to decide right now\\n- Do you want the repair to be done as an on-site visit, or via mail-in service (where a tech can come to you or you send in the device)? \\n- Any data preservation concerns you’d like us to address? Note: If the drive is failing, data recovery may be limited until the drive is replaced.\\n\\nKey takeaway\\n- The HDD is likely contributing to the boot/power issue. With full warranty coverage in place, the replacement drive will be covered, and we’ll handle the repair logistics as described.\\n\\nIf you’d like, I can schedule the service window or adjust the service method. How would you like to proceed?'"
            ],
            "application/vnd.google.colaboratory.intrinsic+json": {
              "type": "string"
            }
          },
          "metadata": {},
          "execution_count": 14
        }
      ],
      "source": [
        "chat_with_support(\n",
        "    \"My laptop won't turn on at all. I pressed the power button but nothing happens.\",\n",
        "    session_id=\"demo_hardware_001\"\n",
        ")"
      ]
    },
    {
      "cell_type": "markdown",
      "metadata": {
        "id": "M4Z4MLLJX35o"
      },
      "source": [
        "### Demo 2: Software Issue (License Problem)"
      ]
    },
    {
      "cell_type": "code",
      "execution_count": 15,
      "metadata": {
        "colab": {
          "base_uri": "https://localhost:8080/",
          "height": 973
        },
        "id": "ybz-mmBHX35p",
        "outputId": "634e1752-a054-48db-c828-89adb9b72211"
      },
      "outputs": [
        {
          "output_type": "stream",
          "name": "stdout",
          "text": [
            "\n",
            "================================================================================\n",
            "👤 USER: I'm trying to open Microsoft Office but it says my license is invalid.\n",
            "================================================================================\n",
            "\n",
            "💻 [SOFTWARE TOOL] check_license(software_name='Microsoft Office')\n",
            "💻 [SOFTWARE TOOL] update_application(software_name='Microsoft Office')\n",
            "🤖 COORDINATOR: Thanks for the details. I’ve run checks and taken action:\n",
            "\n",
            "What I found\n",
            "- License status: Active\n",
            "  - Expires: 2026-01-15\n",
            "  - Seats available: 55 of 300\n",
            "  - Can activate: True\n",
            "- Office update: Updated Microsoft Office to the latest version (3.7.59)\n",
            "  - This helps ensure activation components are current\n",
            "\n",
            "What you should try next (to verify the fix worked)\n",
            "1) Sign out and back in\n",
            "- Close all Office apps (Word, Excel, PowerPoint, etc.).\n",
            "- Open any Office app, go to File > Account > Sign out.\n",
            "- Sign back in with the Microsoft account that has the valid license.\n",
            "- In the same Account area, confirm it shows as Licensed/Activated and note the expiration if shown.\n",
            "\n",
            "2) Check your connection and account\n",
            "- Ensure you have a stable internet connection.\n",
            "- If you use a VPN or corporate firewall, try disabling VPN or adjusting firewall settings temporarily to allow activation.\n",
            "- Make sure you’re signed into the correct Microsoft account (the one tied to the license).\n",
            "\n",
            "3) Re-check activation status\n",
            "- In Office app: File > Account > Update Options > Update Now (to ensure activation status is refreshed).\n",
            "- Look for any activation or product information messages after signing in.\n",
            "\n",
            "If the issue persists\n",
            "- We can proceed with a reinstallation as a last resort, per our process. I’ll perform the reinstall only if you’d like me to. Steps I’ll take:\n",
            "  - Uninstall Microsoft Office completely.\n",
            "  - Reboot the machine.\n",
            "  - Reinstall Office from the Microsoft 365 portal or your standard deployment source.\n",
            "  - Sign in with the licensed account and verify Activation status again.\n",
            "\n",
            "Temporary workaround (optional)\n",
            "- You can use Office Online (web apps) while we sort the local activation issue, if you need immediate access to documents.\n",
            "\n",
            "Please try the sign-out/sign-in steps above and let me know the result. If it’s still showing an invalid license, tell me and I’ll proceed with the reinstall as a next step.\n",
            "\n",
            "================================================================================\n",
            "\n"
          ]
        },
        {
          "output_type": "execute_result",
          "data": {
            "text/plain": [
              "'Thanks for the details. I’ve run checks and taken action:\\n\\nWhat I found\\n- License status: Active\\n  - Expires: 2026-01-15\\n  - Seats available: 55 of 300\\n  - Can activate: True\\n- Office update: Updated Microsoft Office to the latest version (3.7.59)\\n  - This helps ensure activation components are current\\n\\nWhat you should try next (to verify the fix worked)\\n1) Sign out and back in\\n- Close all Office apps (Word, Excel, PowerPoint, etc.).\\n- Open any Office app, go to File > Account > Sign out.\\n- Sign back in with the Microsoft account that has the valid license.\\n- In the same Account area, confirm it shows as Licensed/Activated and note the expiration if shown.\\n\\n2) Check your connection and account\\n- Ensure you have a stable internet connection.\\n- If you use a VPN or corporate firewall, try disabling VPN or adjusting firewall settings temporarily to allow activation.\\n- Make sure you’re signed into the correct Microsoft account (the one tied to the license).\\n\\n3) Re-check activation status\\n- In Office app: File > Account > Update Options > Update Now (to ensure activation status is refreshed).\\n- Look for any activation or product information messages after signing in.\\n\\nIf the issue persists\\n- We can proceed with a reinstallation as a last resort, per our process. I’ll perform the reinstall only if you’d like me to. Steps I’ll take:\\n  - Uninstall Microsoft Office completely.\\n  - Reboot the machine.\\n  - Reinstall Office from the Microsoft 365 portal or your standard deployment source.\\n  - Sign in with the licensed account and verify Activation status again.\\n\\nTemporary workaround (optional)\\n- You can use Office Online (web apps) while we sort the local activation issue, if you need immediate access to documents.\\n\\nPlease try the sign-out/sign-in steps above and let me know the result. If it’s still showing an invalid license, tell me and I’ll proceed with the reinstall as a next step.'"
            ],
            "application/vnd.google.colaboratory.intrinsic+json": {
              "type": "string"
            }
          },
          "metadata": {},
          "execution_count": 15
        }
      ],
      "source": [
        "chat_with_support(\n",
        "    \"I'm trying to open Microsoft Office but it says my license is invalid.\",\n",
        "    session_id=\"demo_software_001\"\n",
        ")"
      ]
    },
    {
      "cell_type": "markdown",
      "metadata": {
        "id": "-PQcRcpEX35p"
      },
      "source": [
        "### Demo 3: Network Issue (Wi-Fi Connection)"
      ]
    },
    {
      "cell_type": "code",
      "execution_count": 16,
      "metadata": {
        "colab": {
          "base_uri": "https://localhost:8080/",
          "height": 854
        },
        "id": "x3nRZ_u4X35p",
        "outputId": "9482cfad-3aef-4826-eab9-6eb1d229cac5"
      },
      "outputs": [
        {
          "output_type": "stream",
          "name": "stdout",
          "text": [
            "\n",
            "================================================================================\n",
            "👤 USER: I can't connect to the office Wi-Fi. It keeps saying 'connection failed'.\n",
            "================================================================================\n",
            "\n",
            "🌐 [NETWORK TOOL] ping_host(hostname='8.8.8.8')\n",
            "🌐 [NETWORK TOOL] ping_host(hostname='192.168.1.1')\n",
            "🌐 [NETWORK TOOL] ping_host(hostname='8.8.8.8')\n",
            "🌐 [NETWORK TOOL] check_bandwidth(location='Office Wi-Fi')\n",
            "🤖 COORDINATOR: Thanks for the details. Here’s what I’m seeing and the fastest next steps.\n",
            "\n",
            "What the tests show\n",
            "- 192.168.1.1 (your gateway) is not reachable from this test, meaning the device can see the AP but can’t reach the router/gateway.\n",
            "- 8.8.8.8 is reachable but with some instability (2% packet loss). Internet access appears intermittent once past the gateway, which points to a local LAN/AP issue rather than a totally down Internet.\n",
            "- Office Wi‑Fi bandwidth looks good (~437 Mbps down, 21 Mbps up) with about 32 ms latency, so the external link isn’t the bottleneck.\n",
            "\n",
            "Likely causes\n",
            "- The device is not obtaining an IP from the DHCP server, or the DHCP lease is failing.\n",
            "- The device is connected to the correct SSID but cannot reach the router due to a misconfiguration, AP issue, or local firewall/isolation on the device.\n",
            "- AP or gateway hardware issue on the office network.\n",
            "\n",
            "Quick things to try (on your device)\n",
            "- Forget the Office Wi‑Fi network, then reconnect and re-enter the password (to refresh the DHCP lease).\n",
            "- Ensure you’re connecting to the correct Office SSID (some offices have multiple networks with similar names).\n",
            "- On your device, check that DHCP is enabled:\n",
            "  - Windows: open Command Prompt and run ipconfig /all to see if an IP like 192.168.1.x is assigned; if not, run ipconfig /release and ipconfig /renew.\n",
            "  - macOS/Linux: check via ifconfig/ip a and renew DHCP if needed.\n",
            "- If possible, try connecting another device to the same Office Wi‑Fi to see if it can reach the gateway (192.168.1.1). If others can’t reach the gateway either, the issue is likely with the AP/gateway and not your device.\n",
            "- If you have a wired Ethernet option, test that to rule out a Wi‑Fi hardware issue on the device.\n",
            "\n",
            "If you want me to take action on the network device\n",
            "- I can perform a router reset to refresh the gateway and clear potential stale sessions.\n",
            "- Please confirm the location string for the office router/gateway (e.g., “Office Main Router” or “Office Floor 1 Gateway”). Note: this will cause a short outage as the router reboots.\n",
            "\n",
            "Next steps\n",
            "- Try the quick device checks above.\n",
            "- If the problem persists, I can reset the Office gateway to restore connectivity. Do you want me to proceed with a router reset at the Office gateway? If yes, provide the exact location name. If you’d rather not reset yet, I can escalate to the network team for deeper investigation.\n",
            "\n",
            "================================================================================\n",
            "\n"
          ]
        },
        {
          "output_type": "execute_result",
          "data": {
            "text/plain": [
              "'Thanks for the details. Here’s what I’m seeing and the fastest next steps.\\n\\nWhat the tests show\\n- 192.168.1.1 (your gateway) is not reachable from this test, meaning the device can see the AP but can’t reach the router/gateway.\\n- 8.8.8.8 is reachable but with some instability (2% packet loss). Internet access appears intermittent once past the gateway, which points to a local LAN/AP issue rather than a totally down Internet.\\n- Office Wi‑Fi bandwidth looks good (~437 Mbps down, 21 Mbps up) with about 32 ms latency, so the external link isn’t the bottleneck.\\n\\nLikely causes\\n- The device is not obtaining an IP from the DHCP server, or the DHCP lease is failing.\\n- The device is connected to the correct SSID but cannot reach the router due to a misconfiguration, AP issue, or local firewall/isolation on the device.\\n- AP or gateway hardware issue on the office network.\\n\\nQuick things to try (on your device)\\n- Forget the Office Wi‑Fi network, then reconnect and re-enter the password (to refresh the DHCP lease).\\n- Ensure you’re connecting to the correct Office SSID (some offices have multiple networks with similar names).\\n- On your device, check that DHCP is enabled:\\n  - Windows: open Command Prompt and run ipconfig /all to see if an IP like 192.168.1.x is assigned; if not, run ipconfig /release and ipconfig /renew.\\n  - macOS/Linux: check via ifconfig/ip a and renew DHCP if needed.\\n- If possible, try connecting another device to the same Office Wi‑Fi to see if it can reach the gateway (192.168.1.1). If others can’t reach the gateway either, the issue is likely with the AP/gateway and not your device.\\n- If you have a wired Ethernet option, test that to rule out a Wi‑Fi hardware issue on the device.\\n\\nIf you want me to take action on the network device\\n- I can perform a router reset to refresh the gateway and clear potential stale sessions.\\n- Please confirm the location string for the office router/gateway (e.g., “Office Main Router” or “Office Floor 1 Gateway”). Note: this will cause a short outage as the router reboots.\\n\\nNext steps\\n- Try the quick device checks above.\\n- If the problem persists, I can reset the Office gateway to restore connectivity. Do you want me to proceed with a router reset at the Office gateway? If yes, provide the exact location name. If you’d rather not reset yet, I can escalate to the network team for deeper investigation.'"
            ],
            "application/vnd.google.colaboratory.intrinsic+json": {
              "type": "string"
            }
          },
          "metadata": {},
          "execution_count": 16
        }
      ],
      "source": [
        "chat_with_support(\n",
        "    \"I can't connect to the office Wi-Fi. It keeps saying 'connection failed'.\",\n",
        "    session_id=\"demo_network_001\"\n",
        ")"
      ]
    },
    {
      "cell_type": "markdown",
      "metadata": {
        "id": "MCbBnY5FX35p"
      },
      "source": [
        "### Demo 4: Complex Routing (Slow Computer - Ambiguous)"
      ]
    },
    {
      "cell_type": "code",
      "execution_count": 17,
      "metadata": {
        "colab": {
          "base_uri": "https://localhost:8080/",
          "height": 225
        },
        "id": "kzTcGK2OX35p",
        "outputId": "ebbead77-cfcf-4b5a-dff3-35bf7a3fa782"
      },
      "outputs": [
        {
          "output_type": "stream",
          "name": "stdout",
          "text": [
            "\n",
            "================================================================================\n",
            "👤 USER: My computer is really slow. Everything takes forever.\n",
            "================================================================================\n",
            "\n",
            "🤖 COORDINATOR: Thanks for the details. Quick check: is the slowdown happening when opening programs, or is your internet connection slow as well?\n",
            "\n",
            "================================================================================\n",
            "\n"
          ]
        },
        {
          "output_type": "execute_result",
          "data": {
            "text/plain": [
              "'Thanks for the details. Quick check: is the slowdown happening when opening programs, or is your internet connection slow as well?'"
            ],
            "application/vnd.google.colaboratory.intrinsic+json": {
              "type": "string"
            }
          },
          "metadata": {},
          "execution_count": 17
        }
      ],
      "source": [
        "chat_with_support(\n",
        "    \"My computer is really slow. Everything takes forever.\",\n",
        "    session_id=\"demo_complex_001\"\n",
        ")"
      ]
    },
    {
      "cell_type": "markdown",
      "metadata": {
        "id": "fWR1grjOX35p"
      },
      "source": [
        "### Demo 5: Printer Hardware Issue"
      ]
    },
    {
      "cell_type": "code",
      "execution_count": 18,
      "metadata": {
        "colab": {
          "base_uri": "https://localhost:8080/",
          "height": 1000
        },
        "id": "1itD9yWUX35p",
        "outputId": "e8003a83-6a47-4890-eef2-cbe514b97e34"
      },
      "outputs": [
        {
          "output_type": "stream",
          "name": "stdout",
          "text": [
            "\n",
            "================================================================================\n",
            "👤 USER: The printer is making a weird grinding noise and won't print anything.\n",
            "================================================================================\n",
            "\n",
            "🔧 [HARDWARE TOOL] run_hardware_diagnostic(device_type='printer')\n",
            "🔧 [HARDWARE TOOL] check_warranty(device_type='printer')\n",
            "🔧 [HARDWARE TOOL] order_replacement_part(device_type='printer', part_name='Power Supply')\n",
            "🔧 [HARDWARE TOOL] order_replacement_part(device_type='printer', part_name='Printer Hard Drive')\n",
            "🤖 COORDINATOR: Thanks for the details. I’ve completed diagnostics and started a warranty-backed repair plan.\n",
            "\n",
            "What I found\n",
            "- Printer grinding noise and no print: indicates hardware mechanical issue likely tied to the power system and storage subsystem.\n",
            "- Diagnostics summary:\n",
            "  - Power Supply: Fail (voltage fluctuations detected)\n",
            "  - CPU: Pass\n",
            "  - Graphics Card: Pass\n",
            "  - Hard Drive: Warning (high temperature detected)\n",
            "- Overall: Hardware failure confirmed; warranty coverage available.\n",
            "\n",
            "Warranty status\n",
            "- Warranty: Active and fully covered\n",
            "- End date: 2027-03-20\n",
            "- Manufacturer: Canon\n",
            "- Is covered: Yes\n",
            "\n",
            "Parts ordered (in parallel)\n",
            "- Power Supply for printer\n",
            "  - Order number: HW-84200\n",
            "  - Estimated delivery: 3 business days\n",
            "- Printer Hard Drive\n",
            "  - Order number: HW-47082\n",
            "  - Estimated delivery: 4 business days\n",
            "- Both orders have been placed and you’ll receive email updates with tracking.\n",
            "\n",
            "Recommended plan\n",
            "- Proceed with replacement of the failing Power Supply and the overheated Printer Hard Drive under warranty.\n",
            "- After parts arrive, a technician will install and perform a full printer test to ensure proper operation and print quality.\n",
            "- Post-install, run a few standard print tests to confirm the noise is gone and that pages print correctly.\n",
            "\n",
            "Immediate next steps for you (to minimize risk in the meantime)\n",
            "- Do not run the printer until the replacement parts are installed. The grinding noise plus power fluctuations could worsen damage or cause safety hazards.\n",
            "- If possible, unplug the printer and place it on a stable, elevated surface with adequate ventilation.\n",
            "- Use a surge protector or a clean, well-regulated power source to reduce the risk from voltage fluctuations until replacement parts are installed.\n",
            "- If you notice any new symptoms (e.g., persistent buzzing, failure to initialize after power restoration, or print quality issues), let me know right away.\n",
            "\n",
            "What I’ll do next\n",
            "- I will monitor the part delivery and coordinate the repair appointment once the parts arrive.\n",
            "- After installation, I’ll confirm successful tests and closing notes.\n",
            "\n",
            "Would you like me to schedule the installation window (on-site or depot) once the parts are ready? If you have a preferred time or service location, tell me and I’ll arrange it. Also, please confirm the printer model and the location where the printer is kept, so I can plan the service visit accordingly.\n",
            "\n",
            "================================================================================\n",
            "\n"
          ]
        },
        {
          "output_type": "execute_result",
          "data": {
            "text/plain": [
              "'Thanks for the details. I’ve completed diagnostics and started a warranty-backed repair plan.\\n\\nWhat I found\\n- Printer grinding noise and no print: indicates hardware mechanical issue likely tied to the power system and storage subsystem.\\n- Diagnostics summary:\\n  - Power Supply: Fail (voltage fluctuations detected)\\n  - CPU: Pass\\n  - Graphics Card: Pass\\n  - Hard Drive: Warning (high temperature detected)\\n- Overall: Hardware failure confirmed; warranty coverage available.\\n\\nWarranty status\\n- Warranty: Active and fully covered\\n- End date: 2027-03-20\\n- Manufacturer: Canon\\n- Is covered: Yes\\n\\nParts ordered (in parallel)\\n- Power Supply for printer\\n  - Order number: HW-84200\\n  - Estimated delivery: 3 business days\\n- Printer Hard Drive\\n  - Order number: HW-47082\\n  - Estimated delivery: 4 business days\\n- Both orders have been placed and you’ll receive email updates with tracking.\\n\\nRecommended plan\\n- Proceed with replacement of the failing Power Supply and the overheated Printer Hard Drive under warranty.\\n- After parts arrive, a technician will install and perform a full printer test to ensure proper operation and print quality.\\n- Post-install, run a few standard print tests to confirm the noise is gone and that pages print correctly.\\n\\nImmediate next steps for you (to minimize risk in the meantime)\\n- Do not run the printer until the replacement parts are installed. The grinding noise plus power fluctuations could worsen damage or cause safety hazards.\\n- If possible, unplug the printer and place it on a stable, elevated surface with adequate ventilation.\\n- Use a surge protector or a clean, well-regulated power source to reduce the risk from voltage fluctuations until replacement parts are installed.\\n- If you notice any new symptoms (e.g., persistent buzzing, failure to initialize after power restoration, or print quality issues), let me know right away.\\n\\nWhat I’ll do next\\n- I will monitor the part delivery and coordinate the repair appointment once the parts arrive.\\n- After installation, I’ll confirm successful tests and closing notes.\\n\\nWould you like me to schedule the installation window (on-site or depot) once the parts are ready? If you have a preferred time or service location, tell me and I’ll arrange it. Also, please confirm the printer model and the location where the printer is kept, so I can plan the service visit accordingly.'"
            ],
            "application/vnd.google.colaboratory.intrinsic+json": {
              "type": "string"
            }
          },
          "metadata": {},
          "execution_count": 18
        }
      ],
      "source": [
        "chat_with_support(\n",
        "    \"The printer is making a weird grinding noise and won't print anything.\",\n",
        "    session_id=\"demo_hardware_002\"\n",
        ")"
      ]
    },
    {
      "cell_type": "markdown",
      "metadata": {
        "id": "LIHkVSNlX35p"
      },
      "source": [
        "### Demo 6: Application Crash (Software Issue)"
      ]
    },
    {
      "cell_type": "code",
      "execution_count": 19,
      "metadata": {
        "colab": {
          "base_uri": "https://localhost:8080/",
          "height": 939
        },
        "id": "ZiZr-Zc9X35p",
        "outputId": "04dc0fdf-fefd-4559-cfe7-244401c51d0b"
      },
      "outputs": [
        {
          "output_type": "stream",
          "name": "stdout",
          "text": [
            "\n",
            "================================================================================\n",
            "👤 USER: Zoom keeps crashing every time I try to join a meeting.\n",
            "================================================================================\n",
            "\n",
            "💻 [SOFTWARE TOOL] check_license(software_name='Zoom')\n",
            "💻 [SOFTWARE TOOL] update_application(software_name='Zoom')\n",
            "🤖 COORDINATOR: Thanks for the details. Quick status update:\n",
            "- Zoom license: active with seats available (not an activation issue)\n",
            "- Zoom version: updated to the latest (5.2.80). This should fix many crashes tied to older builds.\n",
            "\n",
            "Please try the following steps to verify if the crash is resolved. If it still crashes after these, I can proceed with a clean reinstall as a last resort.\n",
            "\n",
            "Immediate testing\n",
            "- Open Zoom and try joining a meeting again (or use Zoom’s test meeting at zoom.us/test).\n",
            "\n",
            "Troubleshooting steps (platform-agnostic)\n",
            "- Run Zoom as administrator (Windows): right-click the Zoom shortcut and choose “Run as administrator.” Then try joining a meeting.\n",
            "- Disable hardware acceleration in Zoom:\n",
            "  - Zoom > Settings > General > Hardware Acceleration: Turn Off.\n",
            "- Clear Zoom cache and local app data:\n",
            "  - Windows: Exit Zoom, delete or rename the Zoom folder at C:\\Users\\<YourUser>\\AppData\\Roaming\\Zoom, then reopen Zoom (it will recreate fresh cache).\n",
            "  - Mac: Quit Zoom, go to ~/Library/Application Support/Zoom and move the folder to Trash, then reopen Zoom.\n",
            "- Check security software:\n",
            "  - Ensure your antivirus/firewall isn’t blocking Zoom. Temporarily disable or add an exception for Zoom and test.\n",
            "- Network considerations:\n",
            "  - If you’re on a VPN, try disconnecting and joining a meeting directly.\n",
            "  - If you’re on a corporate network, sometimes proxies/firewalls cause instability; test on a different network if possible.\n",
            "- If you’re using video:\n",
            "  - Try turning off video when joining to see if audio-only works, which can help identify if a video driver issue is at fault.\n",
            "- Check for meeting-specific issues:\n",
            "  - Does the crash occur with any meeting, or only one particular meeting? If it’s one meeting, it might be the host’s settings or a specific meeting link.\n",
            "\n",
            "If the issue persists after these steps\n",
            "- I can perform a clean reinstallation of Zoom to fix any corrupted files or deeply misconfigured settings. This is the next step after a successful update but only if the above tests fail.\n",
            "\n",
            "Let me know:\n",
            "- Did the crash still happen after testing with the above steps?\n",
            "- Any error messages or crash logs you saw (e.g., Windows Event Viewer, Zoom crash report)?\n",
            "- Your operating system (Windows/macOS) and approximate Zoom usage (home vs. work PC, VPN in use, etc.)\n",
            "\n",
            "If you’d like me to proceed with a clean reinstallation now, I can initiate that next.\n",
            "\n",
            "================================================================================\n",
            "\n"
          ]
        },
        {
          "output_type": "execute_result",
          "data": {
            "text/plain": [
              "'Thanks for the details. Quick status update:\\n- Zoom license: active with seats available (not an activation issue)\\n- Zoom version: updated to the latest (5.2.80). This should fix many crashes tied to older builds.\\n\\nPlease try the following steps to verify if the crash is resolved. If it still crashes after these, I can proceed with a clean reinstall as a last resort.\\n\\nImmediate testing\\n- Open Zoom and try joining a meeting again (or use Zoom’s test meeting at zoom.us/test).\\n\\nTroubleshooting steps (platform-agnostic)\\n- Run Zoom as administrator (Windows): right-click the Zoom shortcut and choose “Run as administrator.” Then try joining a meeting.\\n- Disable hardware acceleration in Zoom:\\n  - Zoom > Settings > General > Hardware Acceleration: Turn Off.\\n- Clear Zoom cache and local app data:\\n  - Windows: Exit Zoom, delete or rename the Zoom folder at C:\\\\Users\\\\<YourUser>\\\\AppData\\\\Roaming\\\\Zoom, then reopen Zoom (it will recreate fresh cache).\\n  - Mac: Quit Zoom, go to ~/Library/Application Support/Zoom and move the folder to Trash, then reopen Zoom.\\n- Check security software:\\n  - Ensure your antivirus/firewall isn’t blocking Zoom. Temporarily disable or add an exception for Zoom and test.\\n- Network considerations:\\n  - If you’re on a VPN, try disconnecting and joining a meeting directly.\\n  - If you’re on a corporate network, sometimes proxies/firewalls cause instability; test on a different network if possible.\\n- If you’re using video:\\n  - Try turning off video when joining to see if audio-only works, which can help identify if a video driver issue is at fault.\\n- Check for meeting-specific issues:\\n  - Does the crash occur with any meeting, or only one particular meeting? If it’s one meeting, it might be the host’s settings or a specific meeting link.\\n\\nIf the issue persists after these steps\\n- I can perform a clean reinstallation of Zoom to fix any corrupted files or deeply misconfigured settings. This is the next step after a successful update but only if the above tests fail.\\n\\nLet me know:\\n- Did the crash still happen after testing with the above steps?\\n- Any error messages or crash logs you saw (e.g., Windows Event Viewer, Zoom crash report)?\\n- Your operating system (Windows/macOS) and approximate Zoom usage (home vs. work PC, VPN in use, etc.)\\n\\nIf you’d like me to proceed with a clean reinstallation now, I can initiate that next.'"
            ],
            "application/vnd.google.colaboratory.intrinsic+json": {
              "type": "string"
            }
          },
          "metadata": {},
          "execution_count": 19
        }
      ],
      "source": [
        "chat_with_support(\n",
        "    \"Zoom keeps crashing every time I try to join a meeting.\",\n",
        "    session_id=\"demo_software_002\"\n",
        ")"
      ]
    },
    {
      "cell_type": "markdown",
      "metadata": {
        "id": "7OBN5bzBX35p"
      },
      "source": [
        "---\n",
        "\n",
        "## 🔍 Part 6: Understanding What Just Happened\n",
        "\n",
        "### The Routing Decision Process\n",
        "\n",
        "For each request, the coordinator:\n",
        "\n",
        "1. **Analyzed** the user's message for keywords and context\n",
        "2. **Classified** the issue type (hardware / software / network)\n",
        "3. **Called** `transfer_to_agent(agent_name='specialist')`\n",
        "4. **Transferred** control to the appropriate specialist\n",
        "5. **Specialist** used their tools to solve the problem\n",
        "\n",
        "\n",
        "\n",
        "```\n",
        "Traditional Single Agent:           Multi-Agent Hierarchy:\n",
        "┌─────────────────────┐            ┌─────────────────────┐\n",
        "│   One Agent with    │            │    Coordinator      │\n",
        "│   50+ tools         │            │    (0 tools)        │\n",
        "│                     │            └──────────┬──────────┘\n",
        "│ • Overwhelmed       │                       │\n",
        "│ • Slow responses    │         ┌─────────────┼─────────────┐\n",
        "│ • Generic answers   │         ▼             ▼             ▼\n",
        "│ • Hard to maintain  │    ┌─────────┐  ┌─────────┐  ┌─────────┐\n",
        "└─────────────────────┘    │Hardware │  │Software │  │Network  │\n",
        "                           │3 tools  │  │3 tools  │  │3 tools  │\n",
        "                           │Expert   │  │Expert   │  │Expert   │\n",
        "                           └─────────┘  └─────────┘  └─────────┘\n",
        "                           \n",
        "                           • Fast routing\n",
        "                           • Focused expertise\n",
        "                           • Easy to scale\n",
        "```\n",
        "\n",
        "### Key Observations\n",
        "\n",
        "1. **Automatic Tool Loading**: Each specialist only loads their 3 tools, not all 9\n",
        "2. **Context Isolation**: Hardware specialist doesn't see software tool schemas\n",
        "3. **Seamless Transfer**: User doesn't need to know about routing\n",
        "4. **Clear Attribution**: We can track which agent handled each request\n",
        "5. **Independent Updates**: Can modify one specialist without affecting others\n",
        "\n",
        "\n",
        "\n",
        "---"
      ]
    },
    {
      "cell_type": "markdown",
      "metadata": {
        "id": "AN3bsQB8X35p"
      },
      "source": [
        "## 💡 Part 7: Model Selection Strategy\n",
        "\n",
        "One powerful feature of multi-agent systems is the ability to use **different models** for different complexity levels.\n",
        "\n",
        "\n",
        "**We're using `gpt-5-nano` for all agents** to keep costs minimal while learning. This works great because:\n",
        "- ✅ Routing decisions are usually straightforward (keyword-based)\n",
        "- ✅ Specialist tasks follow structured processes\n",
        "- ✅ Most cost-efficient for educational purposes\n",
        "- ✅ Still demonstrates the hierarchical routing pattern perfectly\n",
        "\n",
        "### Production Model Selection Patterns\n",
        "\n",
        "In production systems, you might use different models based on complexity:\n",
        "\n",
        "```python\n",
        "# Pattern 1: Smart coordinator, efficient specialists\n",
        "coordinator = LlmAgent(model=LiteLlm(model=\"openai/gpt-4o\"))         # More capable\n",
        "specialists = LlmAgent(model=LiteLlm(model=\"openai/gpt-5-nano\"))     # Cost-efficient\n",
        "# Use Case: Complex routing decisions with many edge cases\n",
        "\n",
        "# Pattern 2: All same model (what this tutorial uses)\n",
        "all_agents = LlmAgent(model=LiteLlm(model=\"openai/gpt-5-nano\"))      # Simplest\n",
        "# Use Case: Clear routing criteria, structured specialist tasks\n",
        "\n",
        "# Pattern 3: Mix models by task complexity\n",
        "coordinator = LlmAgent(model=LiteLlm(model=\"openai/gpt-4o-mini\"))    # Mid-tier\n",
        "routine_specialist = LlmAgent(model=LiteLlm(model=\"openai/gpt-5-nano\"))\n",
        "complex_specialist = LlmAgent(model=LiteLlm(model=\"openai/gpt-4o\"))\n",
        "# Use Case: Some specialists handle complex analysis, others do simple lookups\n",
        "\n",
        "# Pattern 4: Mix by provider (leverage strengths)\n",
        "coordinator = LlmAgent(model=LiteLlm(model=\"claude-3-5-sonnet-20241022\"))\n",
        "specialist1 = LlmAgent(model=LiteLlm(model=\"openai/gpt-5-nano\"))\n",
        "specialist2 = LlmAgent(model=LiteLlm(model=\"gemini-2.0-flash-exp\"))\n",
        "# Use Case: Different models excel at different tasks\n",
        "```\n",
        "\n",
        "### Cost Comparison Example\n",
        "\n",
        "Assuming 1000 daily support requests:\n",
        "\n",
        "**Single Agent (gpt-4o for everything):**\n",
        "- 1000 requests × 1000 tokens × $0.01/1K = **$10/day**\n",
        "\n",
        "**Multi-Agent (gpt-5-nano for all):**\n",
        "- Coordinator: 1000 × 200 tokens × $0.0002/1K = **$0.04/day**\n",
        "- Specialists: 1000 × 800 tokens × $0.0002/1K = **$0.16/day**\n",
        "- **Total: $0.20/day (98% savings!)**\n",
        "\n",
        "**Multi-Agent (gpt-4o coordinator + gpt-5-nano specialists):**\n",
        "- Coordinator: 1000 × 200 tokens × $0.01/1K = **$2/day**\n",
        "- Specialists: 1000 × 800 tokens × $0.0002/1K = **$0.16/day**\n",
        "- **Total: $2.16/day (78% savings)**\n",
        "\n",
        "\n",
        "\n",
        "\n",
        "**The multi-agent pattern gives you cost savings REGARDLESS of which models you use**, because:\n",
        "1. Each specialist loads fewer tools (faster, cheaper)\n",
        "2. You can mix models (expensive where needed, cheap elsewhere)\n",
        "3. Specialized instructions make agents more effective\n",
        "4. Clear separation makes debugging and optimization easier\n",
        "\n",
        "\n",
        "\n",
        "---"
      ]
    },
    {
      "cell_type": "markdown",
      "metadata": {
        "id": "oLxvXwGYX35q"
      },
      "source": [
        "## 🎓 Part 8: Exercises\n",
        "\n",
        "Now it's your turn to practice building multi-agent systems!\n",
        "\n",
        "### Exercise 1: Add a Security Specialist\n",
        "\n",
        "**Task:** Create a 4th specialist for security and access issues.\n",
        "\n",
        "**Requirements:**\n",
        "1. Create 2-3 security-related tools:\n",
        "   - `reset_password(username)`: Reset user password\n",
        "   - `check_account_status(username)`: Check if account is locked\n",
        "   - `grant_access(username, resource)`: Grant access to systems\n",
        "2. Create the `security_specialist` agent with appropriate instructions\n",
        "3. Add it to the coordinator's `sub_agents` list\n",
        "4. Test with: \"I'm locked out of my account\"\n",
        "\n",
        "**Hint:** Security specialist should handle passwords, account locks, and access permissions."
      ]
    },
    {
      "cell_type": "code",
      "execution_count": 20,
      "metadata": {
        "id": "PEmEwvJpX35q"
      },
      "outputs": [],
      "source": [
        "# Exercise 1: Your code here\n",
        "\n",
        "# TODO: Create security tools\n",
        "def reset_password(username: str) -> Dict[str, any]:\n",
        "    \"\"\"\n",
        "    # YOUR CODE HERE: Implement password reset\n",
        "    \"\"\"\n",
        "    pass\n",
        "\n",
        "# TODO: Create more security tools\n",
        "\n",
        "# TODO: Create security_specialist agent\n",
        "# security_specialist = LlmAgent(...)\n",
        "\n",
        "# TODO: Update coordinator with new sub-agent\n",
        "# coordinator_agent = LlmAgent(\n",
        "#     ...\n",
        "#     sub_agents=[hardware_specialist, software_specialist, network_specialist, security_specialist]\n",
        "# )\n",
        "\n",
        "# TODO: Test it\n",
        "# chat_with_support(\"I forgot my password and can't log in\", session_id=\"exercise1\")"
      ]
    },
    {
      "cell_type": "markdown",
      "metadata": {
        "id": "ewhMqKPjX35q"
      },
      "source": [
        "### Exercise 2: Test Routing Accuracy\n",
        "\n",
        "**Task:** Test the coordinator with 5 different issue types and verify correct routing.\n",
        "\n",
        "**Test Cases:**\n",
        "1. \"My monitor has a crack in the screen\" → Should go to hardware_specialist\n",
        "2. \"Adobe won't let me save files\" → Should go to software_specialist\n",
        "3. \"I can't access the VPN\" → Should go to network_specialist\n",
        "4. \"The keyboard keys are stuck\" → Should go to hardware_specialist\n",
        "5. \"My email application keeps freezing\" → Should go to software_specialist\n",
        "\n",
        "**Instructions:** Run each test and note which specialist handled it."
      ]
    },
    {
      "cell_type": "code",
      "execution_count": 24,
      "metadata": {
        "id": "wWxUY3_XX35q"
      },
      "outputs": [],
      "source": [
        "# Exercise 2: Test routing accuracy\n",
        "\n",
        "#test_cases = [\n",
        "#    \"My monitor has a crack in the screen\",\n",
        "#    \"Adobe won't let me save files\",\n",
        "#    \"I can't access the VPN\",\n",
        "#    \"The keyboard keys are stuck\",\n",
        "#    \"My email application keeps freezing\"\n",
        "#]\n",
        "\n",
        "# TODO: Test each case and track which specialist handles it\n",
        "#for i, test_case in enumerate(test_cases, 1):\n",
        "#    print(f\"\\n{'='*80}\")\n",
        "#    print(f\"TEST CASE {i}\")\n",
        "#    print(f\"{'='*80}\")\n",
        "#    chat_with_support(test_case, session_id=f\"test_{i}\")\n",
        "    # Observe which specialist was called in the output"
      ]
    },
    {
      "cell_type": "markdown",
      "metadata": {
        "id": "DTHf5IkRX35q"
      },
      "source": [
        "### Exercise 3: Analyze Session State Isolation (Advanced)\n",
        "\n",
        "**Task:** Verify that each specialist maintains independent context.\n",
        "\n",
        "**Test:**\n",
        "1. In session_1, ask hardware specialist to diagnose a laptop\n",
        "2. In session_2, ask software specialist about Office license\n",
        "3. In session_1, ask follow-up about the laptop\n",
        "4. Verify: Hardware specialist remembers laptop, software specialist doesn't\n",
        "\n",
        "**Goal:** Understand that specialists only see conversations they're involved in."
      ]
    },
    {
      "cell_type": "code",
      "execution_count": 25,
      "metadata": {
        "id": "cWAnRY0UX35q"
      },
      "outputs": [],
      "source": [
        "# Exercise 3: Test session isolation\n",
        "\n",
        "# TODO: Session 1 - Hardware issue\n",
        "#print(\"\\n=== SESSION 1: HARDWARE ISSUE ===\")\n",
        "#chat_with_support(\"My laptop won't boot\", session_id=\"isolation_session_1\")\n",
        "\n",
        "# TODO: Session 2 - Software issue (different session)\n",
        "#print(\"\\n=== SESSION 2: SOFTWARE ISSUE ===\")\n",
        "#chat_with_support(\"Check my Office license\", session_id=\"isolation_session_2\")\n",
        "\n",
        "# TODO: Back to Session 1 - Follow-up\n",
        "#print(\"\\n=== SESSION 1: FOLLOW-UP ===\")\n",
        "#chat_with_support(\"What did the diagnostic say?\", session_id=\"isolation_session_1\")\n",
        "\n",
        "# Observe: Does hardware specialist remember the laptop?\n",
        "# Observe: Does software specialist know about the laptop? (It shouldn't!)"
      ]
    },
    {
      "cell_type": "markdown",
      "metadata": {
        "id": "TvbVJhn5X35r"
      },
      "source": [
        "---\n",
        "\n",
        "## 🎯 Part 9: Key Takeaways\n",
        "\n",
        "Congratulations! You've mastered the most important design pattern in production AI systems!\n",
        "\n",
        "### What You Learned\n",
        "\n",
        "1. **Multi-Agent Architecture**\n",
        "   - Coordinator + specialist pattern (hierarchical routing)\n",
        "   - How to use `sub_agents` parameter\n",
        "   - Agent communication via `transfer_to_agent()`\n",
        "\n",
        "2. **Benefits of Specialization**\n",
        "   - Faster responses (fewer tools per agent)\n",
        "   - Better quality (focused expertise)\n",
        "   - Easier maintenance (isolated changes)\n",
        "   - Cost optimization (right model for right task)\n",
        "\n",
        "3. **Production Patterns**\n",
        "   - Separation of concerns (domain-specific agents)\n",
        "   - Context isolation (agents only see relevant info)\n",
        "   - Scalability (easy to add new specialists)\n",
        "   - Debugging (clear attribution of responses)\n",
        "\n",
        "4. **ADK Multi-Agent Features**\n",
        "   - `sub_agents` parameter for hierarchy\n",
        "   - Automatic `transfer_to_agent()` function\n",
        "   - Parent-child relationship management\n",
        "   - Model-agnostic (works with any LLM provider)\n",
        "\n",
        "### Design Principles for Multi-Agent Systems 🏗️\n",
        "\n",
        "1. **Single Responsibility**: Each agent has one clear domain\n",
        "2. **Minimal Tools**: Specialists have 3-5 focused tools max\n",
        "3. **Clear Routing**: Coordinator has obvious decision criteria\n",
        "4. **Context Isolation**: Agents only see what they need\n",
        "5. **Graceful Fallback**: Handle unclear cases with clarifying questions\n",
        "\n",
        "### When to Use This Pattern 📊\n",
        "\n",
        "**✅ Use Multi-Agent When:**\n",
        "- You have 10+ tools across different domains\n",
        "- Issues fall into clear categories\n",
        "- Different expertise levels are needed\n",
        "- You want to optimize costs\n",
        "- System needs to scale over time\n",
        "\n",
        "**❌ Single Agent is Fine When:**\n",
        "- You have < 5 tools total\n",
        "- All tools are closely related\n",
        "- Routing overhead isn't worth it\n",
        "- System is small and won't grow\n",
        "\n",
        "### Real-World Applications\n",
        "\n",
        "This exact pattern powers:\n",
        "- **Customer Service**: Route by department (sales, support, billing)\n",
        "- **Healthcare**: Route by specialty (general, specialist, pharmacy)\n",
        "- **Finance**: Route by function (trading, research, compliance)\n",
        "- **E-commerce**: Route by topic (products, orders, returns)\n",
        "- **HR Systems**: Route by category (payroll, benefits, recruitment)\n",
        "\n",
        "\n",
        "### Resources 📚\n",
        "\n",
        "- [ADK Multi-Agent Documentation](https://google.github.io/adk-docs/agents/multi-agents/)\n",
        "- [ADK Sub-Agents Guide](https://google.github.io/adk-docs/)\n",
        "- [OpenAI Function Calling](https://platform.openai.com/docs/guides/function-calling)\n",
        "- [LiteLLM Multi-Provider](https://docs.litellm.ai/docs/)\n",
        "\n",
        "---\n",
        "\n"
      ]
    },
    {
      "cell_type": "code",
      "source": [],
      "metadata": {
        "id": "s1KAYwVra05O"
      },
      "execution_count": null,
      "outputs": []
    }
  ],
  "metadata": {
    "kernelspec": {
      "display_name": "Python 3",
      "language": "python",
      "name": "python3"
    },
    "language_info": {
      "codemirror_mode": {
        "name": "ipython",
        "version": 3
      },
      "file_extension": ".py",
      "mimetype": "text/x-python",
      "name": "python",
      "nbconvert_exporter": "python",
      "pygments_lexer": "ipython3",
      "version": "3.10.0"
    },
    "colab": {
      "provenance": []
    }
  },
  "nbformat": 4,
  "nbformat_minor": 0
}