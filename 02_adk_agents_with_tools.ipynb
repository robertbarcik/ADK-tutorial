{
 "cells": [
  {
   "cell_type": "markdown",
   "metadata": {
    "id": "intro_header"
   },
   "source": [
    "# Lesson 2: Empowering Agents with Tools (Function Calling)\n",
    "\n",
    "## 🎯 Learning Objectives\n",
    "\n",
    "By the end of this lesson, you will be able to:\n",
    "\n",
    "1. **Understand** what tools are in the context of AI agents\n",
    "2. **Create** Python functions that agents can use as tools\n",
    "3. **Implement** proper type hints and docstrings for automatic tool schema generation\n",
    "4. **Observe** how agents decide when and how to use tools\n",
    "5. **Debug** tool execution to understand the agent's decision-making process\n",
    "6. **Design** effective tools for real-world IT support scenarios\n",
    "\n",
    "## 📚 Quick Recap: Lesson 1\n",
    "\n",
    "In the previous lesson, you learned:\n",
    "- ✅ How to create a basic `LlmAgent` with personality and instructions\n",
    "- ✅ How to use `Runner` and `InMemorySessionService` for conversations\n",
    "- ✅ How to maintain context across multiple conversation turns\n",
    "\n",
    "**Limitation**: Our agents could only **chat** - they couldn't take actions or access information.\n",
    "\n",
    "## 🚀 What's New in This Lesson?\n",
    "\n",
    "We're going to give our IT support agent **superpowers** by adding **tools** (also known as function calling). With tools, agents can:\n",
    "- 🎫 Look up ticket statuses\n",
    "- 📚 Search knowledge bases\n",
    "- 🔄 Restart services\n",
    "- 🖥️ Check system statuses\n",
    "- And much more!\n",
    "\n",
    "## 🏢 Use Case: Enhanced IT Support\n",
    "\n",
    "We'll enhance our IT Support agent from Lesson 1 by giving it access to real (well, mock) IT support tools. This transforms it from a conversational assistant into an **action-taking agent**.\n",
    "\n",
    "---"
   ]
  },
  {
   "cell_type": "markdown",
   "metadata": {
    "id": "setup_header"
   },
   "source": [
    "## 🔧 Part 1: Environment Setup\n",
    "\n",
    "Let's install packages and set up our environment (same as Lesson 1)."
   ]
  },
  {
   "cell_type": "code",
   "execution_count": null,
   "metadata": {
    "id": "install_packages"
   },
   "outputs": [],
   "source": "# Install the Google Agent Development Kit and dependencies\n!pip install -q google-adk litellm openai python-dotenv nest-asyncio\n\nprint(\"✅ Packages installed successfully!\")"
  },
  {
   "cell_type": "code",
   "execution_count": null,
   "metadata": {
    "id": "imports"
   },
   "outputs": [],
   "source": "# Core ADK imports\nfrom google.adk.agents import LlmAgent\nfrom google.adk.runners import Runner\nfrom google.adk.sessions import InMemorySessionService\nfrom google.adk.models.lite_llm import LiteLlm  # For using OpenAI and other LLM providers\nfrom google.genai import types\n\n# System imports\nimport os\nimport asyncio\nfrom typing import Dict, List, Optional\nfrom datetime import datetime, timedelta\nimport random\n\nprint(\"✅ Imports successful!\")"
  },
  {
   "cell_type": "code",
   "execution_count": null,
   "metadata": {
    "id": "api_key_setup"
   },
   "outputs": [],
   "source": "# Configure OpenAI API key\n# Method 1: Try to get API key from Colab secrets (recommended)\ntry:\n    from google.colab import userdata\n    OPENAI_API_KEY = userdata.get('OPENAI_API_KEY')\n    print(\"✅ API key loaded from Colab secrets\")\nexcept:\n    # Method 2: Manual input (fallback)\n    from getpass import getpass\n    print(\"💡 To use Colab secrets: Go to 🔑 (left sidebar) → Add new secret → Name: OPENAI_API_KEY\")\n    OPENAI_API_KEY = getpass(\"Enter your OpenAI API Key: \")\n\n# Set the API key as an environment variable\nos.environ[\"OPENAI_API_KEY\"] = OPENAI_API_KEY\n\n# Validate that the API key is set\nif not OPENAI_API_KEY or OPENAI_API_KEY.strip() == \"\":\n    raise ValueError(\"❌ ERROR: No API key provided!\")\n\nprint(\"✅ Authentication configured!\")\n\n# Configure which OpenAI model to use\n# Options: \"gpt-4o\", \"gpt-4o-mini\", \"gpt-4-turbo\", \"gpt-3.5-turbo\", etc.\nOPENAI_MODEL = \"gpt-4o-mini\"  # Using gpt-4o-mini for cost efficiency\nprint(f\"🤖 Selected Model: {OPENAI_MODEL}\")"
  },
  {
   "cell_type": "markdown",
   "metadata": {
    "id": "tools_concept_header"
   },
   "source": [
    "---\n",
    "\n",
    "## 🛠️ Part 2: What Are Tools in ADK?\n",
    "\n",
    "### The Problem Without Tools\n",
    "\n",
    "In Lesson 1, our agent could only generate text responses. It couldn't:\n",
    "- ❌ Look up real data\n",
    "- ❌ Perform actions\n",
    "- ❌ Access external systems\n",
    "- ❌ Execute code\n",
    "\n",
    "### The Solution: Function Calling (Tools)\n",
    "\n",
    "**Tools** are Python functions that agents can call to extend their capabilities. Think of them as giving your agent hands to interact with the world!\n",
    "\n",
    "### How Tools Work in ADK\n",
    "\n",
    "```\n",
    "1. User asks: \"What's the status of ticket #1234?\"\n",
    "   ↓\n",
    "2. Agent analyzes: \"I need to use the check_ticket_status tool\"\n",
    "   ↓\n",
    "3. ADK calls: check_ticket_status(ticket_id=\"1234\")\n",
    "   ↓\n",
    "4. Function returns: {\"status\": \"in_progress\", \"assigned_to\": \"tech_jane\"}\n",
    "   ↓\n",
    "5. Agent responds: \"Ticket #1234 is in progress, assigned to Jane.\"\n",
    "```\n",
    "\n",
    "### The Magic: Automatic Schema Generation\n",
    "\n",
    "ADK automatically inspects your Python functions and generates a schema that tells the LLM:\n",
    "- **Function name**: What the tool is called\n",
    "- **Docstring**: What the tool does\n",
    "- **Type hints**: What parameters it expects\n",
    "- **Return type**: What it returns\n",
    "\n",
    "This means you just write **normal Python functions** with good documentation!\n",
    "\n",
    "### Anatomy of a Good Tool Function\n",
    "\n",
    "```python\n",
    "def tool_name(param1: str, param2: int = 10) -> Dict[str, any]:\n",
    "    \"\"\"\n",
    "    Clear description of what this tool does.\n",
    "    \n",
    "    Args:\n",
    "        param1 (str): Description of param1 (required)\n",
    "        param2 (int): Description of param2 (optional, default=10)\n",
    "    \n",
    "    Returns:\n",
    "        Dict: Description of return value\n",
    "    \"\"\"\n",
    "    # Your implementation\n",
    "    return {\"result\": \"value\"}\n",
    "```\n",
    "\n",
    "**Key points:**\n",
    "1. ✅ **Type hints** on all parameters\n",
    "2. ✅ **Comprehensive docstring** explaining purpose\n",
    "3. ✅ **Clear parameter descriptions** in Args section\n",
    "4. ✅ **Return dictionary** with descriptive keys\n",
    "5. ✅ **Meaningful function name** (describes the action)\n",
    "\n",
    "---"
   ]
  },
  {
   "cell_type": "markdown",
   "metadata": {
    "id": "mock_data_header"
   },
   "source": [
    "## 📊 Part 3: Creating Mock IT Support Tools\n",
    "\n",
    "Let's create realistic mock data and tools for our IT support system.\n",
    "\n",
    "### 3.1: Mock Database Setup\n",
    "\n",
    "First, we'll create in-memory databases to simulate real systems."
   ]
  },
  {
   "cell_type": "code",
   "execution_count": null,
   "metadata": {
    "id": "mock_databases"
   },
   "outputs": [],
   "source": [
    "# Mock Ticket Database\n",
    "TICKETS_DB = {\n",
    "    \"T-1001\": {\n",
    "        \"id\": \"T-1001\",\n",
    "        \"status\": \"open\",\n",
    "        \"priority\": \"high\",\n",
    "        \"subject\": \"Cannot access email\",\n",
    "        \"description\": \"User reports unable to login to university email system\",\n",
    "        \"assigned_to\": \"tech_jane\",\n",
    "        \"created_at\": \"2025-10-05 09:30:00\",\n",
    "        \"updated_at\": \"2025-10-05 14:20:00\"\n",
    "    },\n",
    "    \"T-1002\": {\n",
    "        \"id\": \"T-1002\",\n",
    "        \"status\": \"in_progress\",\n",
    "        \"priority\": \"medium\",\n",
    "        \"subject\": \"Printer not working\",\n",
    "        \"description\": \"Library printer 2B not responding\",\n",
    "        \"assigned_to\": \"tech_mike\",\n",
    "        \"created_at\": \"2025-10-04 11:15:00\",\n",
    "        \"updated_at\": \"2025-10-06 08:00:00\"\n",
    "    },\n",
    "    \"T-1003\": {\n",
    "        \"id\": \"T-1003\",\n",
    "        \"status\": \"resolved\",\n",
    "        \"priority\": \"low\",\n",
    "        \"subject\": \"Wi-Fi connection issues\",\n",
    "        \"description\": \"Intermittent connection drops in Building A\",\n",
    "        \"assigned_to\": \"tech_sarah\",\n",
    "        \"created_at\": \"2025-10-03 14:00:00\",\n",
    "        \"updated_at\": \"2025-10-05 16:30:00\",\n",
    "        \"resolved_at\": \"2025-10-05 16:30:00\"\n",
    "    },\n",
    "    \"T-1004\": {\n",
    "        \"id\": \"T-1004\",\n",
    "        \"status\": \"open\",\n",
    "        \"priority\": \"critical\",\n",
    "        \"subject\": \"Campus portal down\",\n",
    "        \"description\": \"Students cannot access course materials\",\n",
    "        \"assigned_to\": None,\n",
    "        \"created_at\": \"2025-10-06 07:00:00\",\n",
    "        \"updated_at\": \"2025-10-06 07:00:00\"\n",
    "    }\n",
    "}\n",
    "\n",
    "# Mock Knowledge Base\n",
    "KNOWLEDGE_BASE = [\n",
    "    {\n",
    "        \"id\": \"KB-001\",\n",
    "        \"title\": \"How to Reset Your Password\",\n",
    "        \"content\": \"To reset your password: 1) Go to portal.university.edu 2) Click 'Forgot Password' 3) Enter your student ID 4) Check your email for reset link 5) Create a new password (min 8 characters, include numbers and symbols)\",\n",
    "        \"tags\": [\"password\", \"login\", \"account\", \"reset\"]\n",
    "    },\n",
    "    {\n",
    "        \"id\": \"KB-002\",\n",
    "        \"title\": \"Connecting to University Wi-Fi\",\n",
    "        \"content\": \"To connect to eduroam: 1) Select 'eduroam' network 2) Username: studentid@university.edu 3) Password: your portal password 4) Accept security certificate 5) If issues persist, forget the network and reconnect\",\n",
    "        \"tags\": [\"wifi\", \"network\", \"eduroam\", \"connection\"]\n",
    "    },\n",
    "    {\n",
    "        \"id\": \"KB-003\",\n",
    "        \"title\": \"Printing from Library Computers\",\n",
    "        \"content\": \"To print: 1) Send document to 'University-Print' queue 2) Go to any library printer 3) Tap your student ID card 4) Select your document 5) Choose print options 6) Print credit will be deducted automatically\",\n",
    "        \"tags\": [\"printing\", \"library\", \"printer\", \"documents\"]\n",
    "    },\n",
    "    {\n",
    "        \"id\": \"KB-004\",\n",
    "        \"title\": \"Email Not Working - Common Solutions\",\n",
    "        \"content\": \"Email issues? Try: 1) Clear browser cache and cookies 2) Try different browser 3) Check if caps lock is on 4) Verify username format (firstname.lastname@university.edu) 5) Reset password if needed 6) Check if account is active\",\n",
    "        \"tags\": [\"email\", \"outlook\", \"gmail\", \"login\", \"troubleshooting\"]\n",
    "    },\n",
    "    {\n",
    "        \"id\": \"KB-005\",\n",
    "        \"title\": \"VPN Setup for Off-Campus Access\",\n",
    "        \"content\": \"Setting up VPN: 1) Download Cisco AnyConnect from IT portal 2) Install the application 3) Server address: vpn.university.edu 4) Login with university credentials 5) Accept connection 6) You can now access library resources\",\n",
    "        \"tags\": [\"vpn\", \"remote\", \"access\", \"cisco\", \"anyconnect\"]\n",
    "    }\n",
    "]\n",
    "\n",
    "# Mock System Status\n",
    "SYSTEMS_STATUS = {\n",
    "    \"email\": {\"status\": \"operational\", \"uptime\": \"99.9%\", \"last_incident\": \"2025-09-28\"},\n",
    "    \"portal\": {\"status\": \"degraded\", \"uptime\": \"95.2%\", \"last_incident\": \"2025-10-06\"},\n",
    "    \"wifi\": {\"status\": \"operational\", \"uptime\": \"99.5%\", \"last_incident\": \"2025-10-01\"},\n",
    "    \"printing\": {\"status\": \"operational\", \"uptime\": \"98.8%\", \"last_incident\": \"2025-10-03\"},\n",
    "    \"vpn\": {\"status\": \"operational\", \"uptime\": \"99.7%\", \"last_incident\": \"2025-09-15\"},\n",
    "    \"library\": {\"status\": \"operational\", \"uptime\": \"99.9%\", \"last_incident\": \"2025-09-20\"}\n",
    "}\n",
    "\n",
    "# Mock Services that can be restarted\n",
    "SERVICES = [\"email\", \"portal\", \"wifi\", \"printing\", \"vpn\", \"library\"]\n",
    "\n",
    "print(\"✅ Mock databases created!\")\n",
    "print(f\"📊 Loaded {len(TICKETS_DB)} tickets\")\n",
    "print(f\"📚 Loaded {len(KNOWLEDGE_BASE)} knowledge base articles\")\n",
    "print(f\"🖥️ Monitoring {len(SYSTEMS_STATUS)} systems\")"
   ]
  },
  {
   "cell_type": "markdown",
   "metadata": {
    "id": "create_tools_header"
   },
   "source": "### 3.2: Creating Tool Functions\n\nNow let's create the actual tool functions. Notice how we use:\n- **Type hints** for all parameters\n- **Detailed docstrings** explaining what the tool does\n- **Print statements** to show when tools are called (for debugging)\n- **Dictionary returns** with descriptive keys\n\n#### ⚠️ Important: Google AI Studio vs Vertex AI\n\n**Google AI Studio** (which we're using) has a limitation: **it doesn't support default parameter values** in function tools. This means:\n\n❌ **Won't work with Google AI Studio:**\n```python\ndef search_knowledge_base(query: str, max_results: int = 3):\n```\n\n✅ **Works with Google AI Studio:**\n```python\ndef search_knowledge_base(query: str):\n    max_results = 3  # Set default inside function\n```\n\nIf you switch to **Vertex AI** in the future, you can use default parameters. For now, we'll use fixed values inside our functions."
  },
  {
   "cell_type": "code",
   "execution_count": null,
   "metadata": {
    "id": "tool_functions"
   },
   "outputs": [],
   "source": "def check_ticket_status(ticket_id: str) -> Dict[str, any]:\n    \"\"\"\n    Retrieves the current status and details of a support ticket.\n    \n    Use this tool when a user asks about the status of their support ticket.\n    The ticket ID is usually in the format 'T-XXXX'.\n    \n    Args:\n        ticket_id (str): The unique ticket identifier (e.g., 'T-1001')\n    \n    Returns:\n        Dict: Ticket information including status, priority, subject, and assigned technician\n    \"\"\"\n    print(f\"🔧 [TOOL CALLED] check_ticket_status(ticket_id='{ticket_id}')\")\n    \n    # Normalize ticket ID (handle case variations)\n    ticket_id = ticket_id.upper().strip()\n    \n    if ticket_id in TICKETS_DB:\n        ticket = TICKETS_DB[ticket_id]\n        return {\n            \"success\": True,\n            \"ticket_id\": ticket[\"id\"],\n            \"status\": ticket[\"status\"],\n            \"priority\": ticket[\"priority\"],\n            \"subject\": ticket[\"subject\"],\n            \"assigned_to\": ticket[\"assigned_to\"] if ticket[\"assigned_to\"] else \"Unassigned\",\n            \"created_at\": ticket[\"created_at\"],\n            \"last_updated\": ticket[\"updated_at\"]\n        }\n    else:\n        return {\n            \"success\": False,\n            \"error\": f\"Ticket {ticket_id} not found in the system\",\n            \"suggestion\": \"Please verify the ticket ID format (e.g., T-1001)\"\n        }\n\n\ndef search_knowledge_base(query: str) -> Dict[str, any]:\n    \"\"\"\n    Searches the IT support knowledge base for relevant articles.\n    \n    Use this tool to find help articles, guides, and troubleshooting steps\n    for common IT issues. The search looks through article titles, content, and tags.\n    Returns up to 3 most relevant articles.\n    \n    Args:\n        query (str): The search query (e.g., 'password reset', 'wifi connection')\n    \n    Returns:\n        Dict: Search results with relevant knowledge base articles\n    \"\"\"\n    print(f\"🔧 [TOOL CALLED] search_knowledge_base(query='{query}')\")\n    \n    query_lower = query.lower()\n    results = []\n    max_results = 3  # Fixed value since Google AI doesn't support default parameters\n    \n    # Simple search: look for query terms in title, content, and tags\n    for article in KNOWLEDGE_BASE:\n        relevance_score = 0\n        \n        # Check title\n        if query_lower in article[\"title\"].lower():\n            relevance_score += 3\n        \n        # Check tags\n        for tag in article[\"tags\"]:\n            if query_lower in tag.lower() or tag.lower() in query_lower:\n                relevance_score += 2\n        \n        # Check content\n        if query_lower in article[\"content\"].lower():\n            relevance_score += 1\n        \n        if relevance_score > 0:\n            results.append({\n                \"id\": article[\"id\"],\n                \"title\": article[\"title\"],\n                \"content\": article[\"content\"],\n                \"relevance\": relevance_score\n            })\n    \n    # Sort by relevance and limit results\n    results.sort(key=lambda x: x[\"relevance\"], reverse=True)\n    results = results[:max_results]\n    \n    if results:\n        return {\n            \"success\": True,\n            \"query\": query,\n            \"results_count\": len(results),\n            \"articles\": results\n        }\n    else:\n        return {\n            \"success\": False,\n            \"query\": query,\n            \"message\": \"No relevant articles found\",\n            \"suggestion\": \"Try rephrasing your query or contact support directly\"\n        }\n\n\ndef check_system_status(system: str) -> Dict[str, any]:\n    \"\"\"\n    Checks the operational status of a university IT system.\n    \n    Use this tool to verify if a system is operational, degraded, or down.\n    Available systems: email, portal, wifi, printing, vpn, library\n    \n    Args:\n        system (str): The system name to check (e.g., 'email', 'wifi', 'portal')\n    \n    Returns:\n        Dict: System status information including uptime and last incident\n    \"\"\"\n    print(f\"🔧 [TOOL CALLED] check_system_status(system='{system}')\")\n    \n    system_lower = system.lower().strip()\n    \n    if system_lower in SYSTEMS_STATUS:\n        status_info = SYSTEMS_STATUS[system_lower]\n        return {\n            \"success\": True,\n            \"system\": system_lower,\n            \"status\": status_info[\"status\"],\n            \"uptime\": status_info[\"uptime\"],\n            \"last_incident\": status_info[\"last_incident\"],\n            \"message\": f\"System '{system_lower}' is currently {status_info['status']}\"\n        }\n    else:\n        return {\n            \"success\": False,\n            \"error\": f\"System '{system}' not found\",\n            \"available_systems\": list(SYSTEMS_STATUS.keys())\n        }\n\n\ndef restart_service(service_name: str) -> Dict[str, any]:\n    \"\"\"\n    Attempts to restart a university IT service.\n    \n    Use this tool when troubleshooting requires restarting a service.\n    This is a mock function that simulates a service restart.\n    In production, this would trigger actual service management systems.\n    The service will be restarted normally (not forced).\n    \n    Args:\n        service_name (str): The service to restart (e.g., 'email', 'portal')\n    \n    Returns:\n        Dict: Result of the restart operation\n    \"\"\"\n    print(f\"🔧 [TOOL CALLED] restart_service(service_name='{service_name}')\")\n    \n    service_lower = service_name.lower().strip()\n    \n    if service_lower not in SERVICES:\n        return {\n            \"success\": False,\n            \"error\": f\"Service '{service_name}' not found\",\n            \"available_services\": SERVICES\n        }\n    \n    # Simulate restart with random success (90% success rate)\n    restart_successful = random.random() < 0.9\n    \n    if restart_successful:\n        # Update system status to operational if it was degraded\n        if service_lower in SYSTEMS_STATUS:\n            SYSTEMS_STATUS[service_lower][\"status\"] = \"operational\"\n        \n        return {\n            \"success\": True,\n            \"service\": service_lower,\n            \"message\": f\"Service '{service_lower}' has been successfully restarted\",\n            \"status\": \"operational\"\n        }\n    else:\n        return {\n            \"success\": False,\n            \"service\": service_lower,\n            \"error\": \"Restart failed - service did not respond\",\n            \"suggestion\": \"Escalate to senior technician or contact infrastructure team\"\n        }\n\nprint(\"✅ Tool functions created!\")\nprint(\"\\n📋 Available tools:\")\nprint(\"  1. check_ticket_status(ticket_id) - Look up support ticket information\")\nprint(\"  2. search_knowledge_base(query) - Search help articles (returns top 3)\")\nprint(\"  3. check_system_status(system) - Check if systems are operational\")\nprint(\"  4. restart_service(service_name) - Restart IT services\")\nprint(\"\\n⚠️  Note: These tools are optimized for Google AI Studio (no default parameters)\")"
  },
  {
   "cell_type": "markdown",
   "metadata": {
    "id": "agent_with_tools_header"
   },
   "source": [
    "---\n",
    "\n",
    "## 🤖 Part 4: Creating an Agent with Tools\n",
    "\n",
    "Now let's create an enhanced IT support agent that can use these tools!\n",
    "\n",
    "### Key Differences from Lesson 1:\n",
    "1. We add a `tools` parameter with our function list\n",
    "2. We update the instructions to tell the agent about its new capabilities\n",
    "3. The agent will automatically decide when to use tools based on user requests"
   ]
  },
  {
   "cell_type": "code",
   "execution_count": null,
   "metadata": {
    "id": "create_agent_with_tools"
   },
   "outputs": [],
   "source": "# Create session service and app configuration\nsession_service = InMemorySessionService()\nAPP_NAME = \"it_support_tools_app\"\n\n# Create an IT Support Agent WITH TOOLS using OpenAI\nit_support_agent_with_tools = LlmAgent(\n    model=LiteLlm(model=f\"openai/{OPENAI_MODEL}\"),  # Use OpenAI model via LiteLLM\n    name=\"it_support_with_tools\",\n    tools=[\n        check_ticket_status,\n        search_knowledge_base,\n        check_system_status,\n        restart_service\n    ],\n    instruction=\"\"\"\n    You are Alex, an enhanced IT Support Assistant for TechHelp Solutions.\n    \n    You now have access to powerful tools that let you take actions:\n    \n    AVAILABLE TOOLS:\n    1. check_ticket_status - Look up any support ticket by ID\n    2. search_knowledge_base - Find help articles and guides\n    3. check_system_status - Verify if university systems are operational\n    4. restart_service - Restart services when troubleshooting\n    \n    WHEN TO USE TOOLS:\n    - If a user mentions a ticket number (like T-1001), use check_ticket_status\n    - If a user asks how to do something, search the knowledge base first\n    - If a user reports a system issue, check the system status\n    - Only restart services when troubleshooting steps have been exhausted\n    \n    BEST PRACTICES:\n    - Always use tools when you have them available for a task\n    - Explain what tool you're using and why\n    - If a tool returns an error, explain it clearly to the user\n    - Provide the information from tools in a user-friendly way\n    - After using tools, give actionable next steps\n    \n    YOUR PERSONALITY:\n    - Friendly and helpful\n    - Professional but approachable\n    - Proactive in using tools to help users\n    - Clear about what actions you're taking\n    \n    Remember: You're not just chatting anymore - you can actually DO things to help users!\n    \"\"\"\n)\n\n# Create the runner\nrunner = Runner(\n    app_name=APP_NAME,\n    agent=it_support_agent_with_tools,\n    session_service=session_service\n)\n\nprint(\"✅ IT Support Agent with Tools created!\")\nprint(f\"🔧 Agent has access to {len(it_support_agent_with_tools.tools)} tools\")\nprint(\"📋 Agent Name:\", it_support_agent_with_tools.name)\nprint(f\"🤖 Model: OpenAI {OPENAI_MODEL}\")"
  },
  {
   "cell_type": "markdown",
   "metadata": {
    "id": "helper_function_header"
   },
   "source": [
    "### Create Helper Function\n",
    "\n",
    "Same async helper function from Lesson 1, with added support for tool visibility."
   ]
  },
  {
   "cell_type": "code",
   "execution_count": null,
   "metadata": {
    "id": "helper_function"
   },
   "outputs": [],
   "source": [
    "# Track created sessions\n",
    "_created_sessions = set()\n",
    "\n",
    "async def chat_with_agent_async(user_message: str, session_id: str = \"session_001\", user_id: str = \"student_001\", show_all_events: bool = False):\n",
    "    \"\"\"\n",
    "    Send a message to the IT support agent and print the response (async version).\n",
    "    \"\"\"\n",
    "    # Create session if needed\n",
    "    session_key = (session_id, user_id)\n",
    "    if session_key not in _created_sessions:\n",
    "        await session_service.create_session(\n",
    "            app_name=APP_NAME,\n",
    "            user_id=user_id,\n",
    "            session_id=session_id,\n",
    "            state={}\n",
    "        )\n",
    "        _created_sessions.add(session_key)\n",
    "    \n",
    "    content = types.Content(role='user', parts=[types.Part(text=user_message)])\n",
    "    events = runner.run_async(user_id=user_id, session_id=session_id, new_message=content)\n",
    "    \n",
    "    print(f\"\\n{'='*70}\")\n",
    "    print(f\"👤 You: {user_message}\")\n",
    "    print(f\"{'='*70}\\n\")\n",
    "    \n",
    "    tool_calls = []\n",
    "    final_response = None\n",
    "    \n",
    "    async for event in events:\n",
    "        if show_all_events:\n",
    "            print(f\"[DEBUG EVENT]: {event}\\n\")\n",
    "        \n",
    "        if event.is_final_response():\n",
    "            final_response = event.content.parts[0].text\n",
    "    \n",
    "    if final_response:\n",
    "        print(f\"🤖 Alex: {final_response}\")\n",
    "        print(f\"\\n{'='*70}\\n\")\n",
    "        return final_response\n",
    "    else:\n",
    "        print(\"⚠️ No response received from agent.\")\n",
    "        return None\n",
    "\n",
    "def chat_with_agent(user_message: str, session_id: str = \"session_001\", user_id: str = \"student_001\", show_all_events: bool = False):\n",
    "    \"\"\"\n",
    "    Synchronous wrapper for chat_with_agent_async.\n",
    "    \"\"\"\n",
    "    try:\n",
    "        loop = asyncio.get_running_loop()\n",
    "        import nest_asyncio\n",
    "        nest_asyncio.apply()\n",
    "        return asyncio.run(chat_with_agent_async(user_message, session_id, user_id, show_all_events))\n",
    "    except RuntimeError:\n",
    "        return asyncio.run(chat_with_agent_async(user_message, session_id, user_id, show_all_events))\n",
    "\n",
    "print(\"✅ Helper function created!\")"
   ]
  },
  {
   "cell_type": "markdown",
   "metadata": {
    "id": "demonstration_header"
   },
   "source": [
    "---\n",
    "\n",
    "## 🎬 Part 5: Demonstration - Agent Using Tools\n",
    "\n",
    "Let's see our enhanced agent in action! Watch for the `[TOOL CALLED]` messages that show when the agent uses tools.\n",
    "\n",
    "### Demo 1: Checking Ticket Status"
   ]
  },
  {
   "cell_type": "code",
   "execution_count": null,
   "metadata": {
    "id": "demo_1"
   },
   "outputs": [],
   "source": [
    "chat_with_agent(\n",
    "    \"Hi! Can you check the status of my ticket T-1002?\",\n",
    "    session_id=\"demo_session_1\"\n",
    ")"
   ]
  },
  {
   "cell_type": "markdown",
   "metadata": {
    "id": "demo_2_header"
   },
   "source": [
    "### Demo 2: Searching Knowledge Base"
   ]
  },
  {
   "cell_type": "code",
   "execution_count": null,
   "metadata": {
    "id": "demo_2"
   },
   "outputs": [],
   "source": [
    "chat_with_agent(\n",
    "    \"I forgot my password. How do I reset it?\",\n",
    "    session_id=\"demo_session_2\"\n",
    ")"
   ]
  },
  {
   "cell_type": "markdown",
   "metadata": {
    "id": "demo_3_header"
   },
   "source": [
    "### Demo 3: Checking System Status"
   ]
  },
  {
   "cell_type": "code",
   "execution_count": null,
   "metadata": {
    "id": "demo_3"
   },
   "outputs": [],
   "source": [
    "chat_with_agent(\n",
    "    \"I can't access the university portal. Is it down?\",\n",
    "    session_id=\"demo_session_3\"\n",
    ")"
   ]
  },
  {
   "cell_type": "markdown",
   "metadata": {
    "id": "demo_4_header"
   },
   "source": [
    "### Demo 4: Multiple Tools in One Conversation"
   ]
  },
  {
   "cell_type": "code",
   "execution_count": null,
   "metadata": {
    "id": "demo_4"
   },
   "outputs": [],
   "source": [
    "chat_with_agent(\n",
    "    \"Can you check ticket T-1001 and also tell me how to connect to Wi-Fi?\",\n",
    "    session_id=\"demo_session_4\"\n",
    ")"
   ]
  },
  {
   "cell_type": "markdown",
   "metadata": {
    "id": "demo_5_header"
   },
   "source": [
    "### Demo 5: Service Restart (Advanced)"
   ]
  },
  {
   "cell_type": "code",
   "execution_count": null,
   "metadata": {
    "id": "demo_5"
   },
   "outputs": [],
   "source": [
    "chat_with_agent(\n",
    "    \"The portal is running really slow. Can you try restarting it?\",\n",
    "    session_id=\"demo_session_5\"\n",
    ")"
   ]
  },
  {
   "cell_type": "markdown",
   "metadata": {
    "id": "interactive_header"
   },
   "source": [
    "### Your Turn - Try It!\n",
    "\n",
    "Experiment with different requests to see how the agent uses tools:"
   ]
  },
  {
   "cell_type": "code",
   "execution_count": null,
   "metadata": {
    "id": "interactive"
   },
   "outputs": [],
   "source": [
    "# Try your own query!\n",
    "your_query = \"What's the status of ticket T-1004 and is the email system working?\"  # Modify this\n",
    "\n",
    "chat_with_agent(your_query, session_id=\"my_test_session\")"
   ]
  },
  {
   "cell_type": "markdown",
   "metadata": {
    "id": "execution_flow_header"
   },
   "source": [
    "---\n",
    "\n",
    "## 🔍 Part 6: Understanding Tool Execution Flow\n",
    "\n",
    "### What Just Happened?\n",
    "\n",
    "When you send a message to the agent:\n",
    "\n",
    "1. **Agent analyzes** the user's request\n",
    "2. **Agent decides** which tool(s) to use (if any)\n",
    "3. **ADK executes** the Python function(s)\n",
    "4. **Tool returns** data to the agent\n",
    "5. **Agent synthesizes** a natural language response\n",
    "\n",
    "### How Does the Agent Know When to Use Tools?\n",
    "\n",
    "The LLM (Gemini) reads:\n",
    "- ✅ **Function name**: `check_ticket_status` → \"This checks tickets\"\n",
    "- ✅ **Docstring**: Detailed explanation of what the tool does\n",
    "- ✅ **Parameters**: What information it needs\n",
    "- ✅ **Type hints**: What format the parameters should be\n",
    "\n",
    "Then it **intelligently decides** if and when to call the tool!\n",
    "\n",
    "### Why Do We See `[TOOL CALLED]` Messages?\n",
    "\n",
    "We added `print()` statements in our tool functions for **debugging**. This helps us:\n",
    "- See exactly when tools are called\n",
    "- Verify the agent is using tools correctly\n",
    "- Understand the agent's decision-making process\n",
    "\n",
    "**In production**, you'd remove these or log them properly.\n",
    "\n",
    "### Tool Execution is Automatic\n",
    "\n",
    "Notice you **never explicitly tell** the agent \"use tool X\". The agent:\n",
    "- Interprets user intent\n",
    "- Selects appropriate tools\n",
    "- Extracts parameters from context\n",
    "- Calls tools automatically\n",
    "\n",
    "This is the power of **function calling** in modern LLMs!\n",
    "\n",
    "---"
   ]
  },
  {
   "cell_type": "markdown",
   "metadata": {
    "id": "exercises_header"
   },
   "source": [
    "## 🎓 Part 7: Student Exercises\n",
    "\n",
    "Now it's your turn to create custom tools!\n",
    "\n",
    "### Exercise 1: Create a `list_all_tickets` Tool (Beginner)\n",
    "\n",
    "**Task**: Create a tool that lists all open tickets.\n",
    "\n",
    "**Requirements**:\n",
    "1. Function name: `list_all_tickets`\n",
    "2. Optional parameter: `status` (filter by status: \"open\", \"in_progress\", \"resolved\")\n",
    "3. Returns a dictionary with list of tickets\n",
    "4. Include proper docstring and type hints\n",
    "\n",
    "**Hint**: Loop through `TICKETS_DB` and filter by status if provided."
   ]
  },
  {
   "cell_type": "code",
   "execution_count": null,
   "metadata": {
    "id": "exercise_1"
   },
   "outputs": [],
   "source": "# Exercise 1: Your code here\n\ndef list_all_tickets(status: str) -> Dict[str, any]:\n    \"\"\"\n    Lists all support tickets, optionally filtered by status.\n    \n    Use this tool to get an overview of all tickets in the system.\n    If status is \"all\", returns all tickets. Otherwise filters by the specified status.\n    \n    Args:\n        status (str): Filter by status (\"open\", \"in_progress\", \"resolved\", or \"all\" for no filter)\n    \n    Returns:\n        Dict: List of tickets matching the criteria\n    \"\"\"\n    print(f\"🔧 [TOOL CALLED] list_all_tickets(status='{status}')\")\n    \n    # TODO: Implement the logic to list tickets\n    # If status is \"all\", return all tickets\n    # Otherwise, filter by that status\n    # Hint: Loop through TICKETS_DB.values() and check each ticket's status\n    \n    pass  # Replace this with your implementation\n\n# Test your tool directly\n# print(list_all_tickets(status=\"all\"))\n# print(list_all_tickets(status=\"open\"))"
  },
  {
   "cell_type": "markdown",
   "metadata": {
    "id": "exercise_2_header"
   },
   "source": [
    "### Exercise 2: Create a `get_technician_workload` Tool (Intermediate)\n",
    "\n",
    "**Task**: Create a tool that shows how many tickets each technician is handling.\n",
    "\n",
    "**Requirements**:\n",
    "1. Function name: `get_technician_workload`\n",
    "2. Optional parameter: `technician_name` (show specific technician or all)\n",
    "3. Count open and in_progress tickets only\n",
    "4. Return dictionary with technician names and ticket counts\n",
    "\n",
    "**Challenge**: Also show which tickets are assigned to each technician."
   ]
  },
  {
   "cell_type": "code",
   "execution_count": null,
   "metadata": {
    "id": "exercise_2"
   },
   "outputs": [],
   "source": "# Exercise 2: Your code here\n\ndef get_technician_workload(technician_name: str) -> Dict[str, any]:\n    \"\"\"\n    Shows how many tickets a technician is handling.\n    \n    Use \"all\" to see workload for all technicians, or specify a specific\n    technician name (e.g., \"tech_jane\") to see their workload.\n    Only counts open and in_progress tickets.\n    \n    Args:\n        technician_name (str): The technician to check (\"all\" for all technicians, or specific name like \"tech_jane\")\n    \n    Returns:\n        Dict: Technician workload information with ticket counts\n    \"\"\"\n    print(f\"🔧 [TOOL CALLED] get_technician_workload(technician_name='{technician_name}')\")\n    \n    # TODO: Implement logic to:\n    # 1. Loop through TICKETS_DB.values()\n    # 2. Count tickets per technician (only open/in_progress)\n    # 3. If technician_name is \"all\", show all technicians\n    # 4. If technician_name is specific, filter to that technician\n    # 5. Return structured data with counts and ticket IDs\n    \n    pass  # Replace with your implementation\n\n# Test your tool\n# print(get_technician_workload(technician_name=\"all\"))\n# print(get_technician_workload(technician_name=\"tech_jane\"))"
  },
  {
   "cell_type": "markdown",
   "metadata": {
    "id": "exercise_3_header"
   },
   "source": [
    "### Exercise 3: Add Your Tools to the Agent (Required)\n",
    "\n",
    "**Task**: Create a new agent that includes your custom tools.\n",
    "\n",
    "**Instructions**:\n",
    "1. Copy the agent creation code\n",
    "2. Add your new tools to the `tools` list\n",
    "3. Update the instructions to mention the new tools\n",
    "4. Test it with queries that would use your tools"
   ]
  },
  {
   "cell_type": "code",
   "execution_count": null,
   "metadata": {
    "id": "exercise_3"
   },
   "outputs": [],
   "source": "# Exercise 3: Create enhanced agent with your custom tools\n\n# TODO: Create a new agent that includes all original tools PLUS your custom tools\n# enhanced_agent = LlmAgent(\n#     model=LiteLlm(model=f\"openai/{OPENAI_MODEL}\"),\n#     name=\"enhanced_it_support\",\n#     tools=[\n#         check_ticket_status,\n#         search_knowledge_base,\n#         check_system_status,\n#         restart_service,\n#         # Add your custom tools here\n#     ],\n#     instruction=\"\"\"\n#     # TODO: Update instructions to mention new tools\n#     \"\"\"\n# )\n\n# TODO: Create a new runner with your enhanced agent\n\n# TODO: Test with queries like:\n# \"Show me all open tickets\"\n# \"How many tickets does tech_jane have?\""
  },
  {
   "cell_type": "markdown",
   "metadata": {
    "id": "bonus_exercise_header"
   },
   "source": [
    "### Bonus Exercise: Create a `create_ticket` Tool (Advanced)\n",
    "\n",
    "**Task**: Create a tool that can create new support tickets.\n",
    "\n",
    "**Requirements**:\n",
    "1. Parameters: `subject`, `description`, `priority`\n",
    "2. Generate a new ticket ID (e.g., T-1005, T-1006, etc.)\n",
    "3. Add the ticket to `TICKETS_DB`\n",
    "4. Set initial status as \"open\", assigned_to as None\n",
    "5. Return the new ticket information\n",
    "\n",
    "**Challenge**: Make the agent able to create tickets when users report issues!"
   ]
  },
  {
   "cell_type": "code",
   "execution_count": null,
   "metadata": {
    "id": "bonus_exercise"
   },
   "outputs": [],
   "source": "# Bonus Exercise: Your code here\n\ndef create_ticket(subject: str, description: str, priority: str) -> Dict[str, any]:\n    \"\"\"\n    Creates a new support ticket in the system.\n    \n    Use this tool when a user reports an issue that needs to be tracked.\n    The ticket will be created with status \"open\" and no assigned technician.\n    \n    Args:\n        subject (str): Brief description of the issue\n        description (str): Detailed description of the problem\n        priority (str): Priority level (\"low\", \"medium\", \"high\", or \"critical\")\n    \n    Returns:\n        Dict: Information about the newly created ticket\n    \"\"\"\n    print(f\"🔧 [TOOL CALLED] create_ticket(subject='{subject}', description='{description}', priority='{priority}')\")\n    \n    # TODO: Implement ticket creation logic\n    # 1. Generate new ticket ID (find highest number in TICKETS_DB and add 1)\n    # 2. Create ticket dict with all required fields\n    # 3. Set status=\"open\", assigned_to=None\n    # 4. Add timestamps\n    # 5. Add to TICKETS_DB\n    # 6. Return ticket information\n    \n    pass"
  },
  {
   "cell_type": "markdown",
   "metadata": {
    "id": "takeaways_header"
   },
   "source": [
    "---\n",
    "\n",
    "## 🎯 Part 8: Key Takeaways\n",
    "\n",
    "Congratulations! You've learned how to empower AI agents with tools!\n",
    "\n",
    "### What You Learned Today ✅\n",
    "\n",
    "1. **Tool Concept**\n",
    "   - Tools are Python functions that extend agent capabilities\n",
    "   - Agents automatically decide when to use tools\n",
    "   - Function calling bridges conversation and action\n",
    "\n",
    "2. **Creating Effective Tools**\n",
    "   - Use comprehensive docstrings\n",
    "   - Add type hints for all parameters\n",
    "   - Return dictionaries with descriptive keys\n",
    "   - Choose meaningful function names\n",
    "   - Design for the LLM to understand\n",
    "\n",
    "3. **ADK's Automatic Magic**\n",
    "   - ADK inspects function signatures automatically\n",
    "   - Converts Python functions to LLM-understandable schemas\n",
    "   - Handles parameter validation and type conversion\n",
    "   - Manages tool execution flow\n",
    "\n",
    "4. **Best Practices**\n",
    "   - Keep tools focused (single responsibility)\n",
    "   - Handle errors gracefully\n",
    "   - Return structured data\n",
    "   - Use optional parameters with defaults\n",
    "   - Add debug logging for development\n",
    "\n",
    "### Design Patterns Learned 🎨\n",
    "\n",
    "1. **Mock Data Pattern**: Create realistic test data without external dependencies\n",
    "2. **Tool Debugging**: Use print statements to observe agent behavior\n",
    "3. **Error Handling**: Return success/error information in structured format\n",
    "4. **Optional Parameters**: Use defaults to make tools flexible\n",
    "\n",
    "### What's Coming Next 🚀\n",
    "\n",
    "In the upcoming lessons, you'll learn:\n",
    "\n",
    "- **Lesson 3: Multi-Agent Systems**\n",
    "  - Create specialized agents that work together\n",
    "  - Build agent teams (triage → specialist → resolution)\n",
    "  - Implement agent-to-agent communication\n",
    "  - Each agent has different tools and expertise\n",
    "\n",
    "- **Lesson 4: Advanced State Management**\n",
    "  - Use persistent storage (Firestore)\n",
    "  - Implement custom state variables\n",
    "  - Build long-term memory systems\n",
    "  - Track conversation context across sessions\n",
    "\n",
    "- **Lesson 5: Integration with MCP**\n",
    "  - Connect ADK agents to MCP servers\n",
    "  - Use real external tools and APIs\n",
    "  - Build production-ready systems\n",
    "  - Combine ADK and MCP for maximum power\n",
    "\n",
    "### Real-World Applications 🌍\n",
    "\n",
    "The skills you learned today apply to:\n",
    "- **Customer support**: Automated ticket management\n",
    "- **IT operations**: System monitoring and troubleshooting\n",
    "- **Data analysis**: Querying databases and generating reports\n",
    "- **Workflow automation**: Executing business processes\n",
    "- **Personal assistants**: Calendar, email, task management\n",
    "\n",
    "### Important Reminders ⚠️\n",
    "\n",
    "1. **Mock vs. Real**: Today we used mock functions. In production:\n",
    "   - Connect to real databases\n",
    "   - Use actual APIs\n",
    "   - Implement proper authentication\n",
    "   - Add comprehensive error handling\n",
    "\n",
    "2. **Security**: When creating real tools:\n",
    "   - Validate all inputs\n",
    "   - Implement access controls\n",
    "   - Log all tool executions\n",
    "   - Rate limit expensive operations\n",
    "\n",
    "3. **Testing**: Always test tools:\n",
    "   - Independently (unit tests)\n",
    "   - With the agent (integration tests)\n",
    "   - Edge cases and error conditions\n",
    "\n",
    "### Resources 📚\n",
    "\n",
    "- [ADK Function Tools Documentation](https://google.github.io/adk-docs/tools/function-tools/)\n",
    "- [ADK Tools Overview](https://google.github.io/adk-docs/tools/)\n",
    "- [Google Codelabs - ADK with Tools](https://codelabs.developers.google.com/)\n",
    "- [ADK GitHub Examples](https://github.com/google/adk-python)\n",
    "\n",
    "---\n",
    "\n",
    "### 🎓 Next Steps\n",
    "\n",
    "1. ✅ Complete all exercises above\n",
    "2. ✅ Create at least 2 custom tools\n",
    "3. ✅ Test your tools with various queries\n",
    "4. ✅ Experiment with tool combinations\n",
    "5. ✅ Think about tools for your own use cases\n",
    "6. 🚀 Get ready for Lesson 3: Multi-Agent Systems!\n",
    "\n",
    "**Great work! You've unlocked the power of function calling! 🎉**\n",
    "\n",
    "---"
   ]
  }
 ],
 "metadata": {
  "colab": {
   "name": "02_adk_agents_with_tools.ipynb",
   "provenance": [],
   "toc_visible": true
  },
  "kernelspec": {
   "display_name": "Python 3",
   "language": "python",
   "name": "python3"
  },
  "language_info": {
   "codemirror_mode": {
    "name": "ipython",
    "version": 3
   },
   "file_extension": ".py",
   "mimetype": "text/x-python",
   "name": "python",
   "nbconvert_exporter": "python",
   "pygments_lexer": "ipython3",
   "version": "3.10.0"
  }
 },
 "nbformat": 4,
 "nbformat_minor": 0
}