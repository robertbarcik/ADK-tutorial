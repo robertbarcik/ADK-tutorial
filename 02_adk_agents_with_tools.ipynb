{
  "cells": [
    {
      "cell_type": "markdown",
      "metadata": {
        "id": "intro_header"
      },
      "source": [
        "# Lesson 2: Empowering Agents with Tools (Function Calling)\n",
        "\n",
        "## 🎯 Learning Objectives\n",
        "\n",
        "By the end of this lesson, you will be able to:\n",
        "\n",
        "1. **Understand** what tools are in the context of AI agents\n",
        "2. **Create** Python functions that agents can use as tools\n",
        "3. **Implement** proper type hints and docstrings for automatic tool schema generation\n",
        "4. **Observe** how agents decide when and how to use tools\n",
        "5. **Debug** tool execution to understand the agent's decision-making process\n",
        "6. **Design** effective tools for real-world IT support scenarios\n",
        "\n",
        "## 📚 Quick Recap: Lesson 1\n",
        "\n",
        "In the previous lesson, you learned:\n",
        "- ✅ How to create a basic `LlmAgent` with personality and instructions\n",
        "- ✅ How to use `Runner` and `InMemorySessionService` for conversations\n",
        "- ✅ How to maintain context across multiple conversation turns\n",
        "\n",
        "**Limitation**: Our agents could only **chat** - they couldn't take actions or access information.\n",
        "\n",
        "\n",
        "We're going to give our IT support agent **superpowers** by adding **tools** (also known as function calling). With tools, agents can:\n",
        "- 🎫 Look up ticket statuses\n",
        "- 📚 Search knowledge bases\n",
        "- 🔄 Restart services\n",
        "- 🖥️ Check system statuses\n",
        "- And much more!\n",
        "\n",
        "## 🏢 Use Case: Enhanced IT Support\n",
        "\n",
        "We'll enhance our IT Support agent from Lesson 1 by giving it access to real (well, mock) IT support tools. This transforms it from a conversational assistant into an **action-taking agent**.\n",
        "\n",
        "---"
      ]
    },
    {
      "cell_type": "markdown",
      "metadata": {
        "id": "setup_header"
      },
      "source": [
        "## 🔧 Part 1: Environment Setup\n",
        "\n",
        "Let's install packages and set up our environment."
      ]
    },
    {
      "cell_type": "code",
      "execution_count": 1,
      "metadata": {
        "id": "install_packages",
        "colab": {
          "base_uri": "https://localhost:8080/"
        },
        "outputId": "f72f17e8-0b79-4fe1-85fd-147086b0f20a"
      },
      "outputs": [
        {
          "output_type": "stream",
          "name": "stdout",
          "text": [
            "\u001b[2K     \u001b[90m━━━━━━━━━━━━━━━━━━━━━━━━━━━━━━━━━━━━━━━━\u001b[0m \u001b[32m42.4/42.4 kB\u001b[0m \u001b[31m1.6 MB/s\u001b[0m eta \u001b[36m0:00:00\u001b[0m\n",
            "\u001b[2K   \u001b[90m━━━━━━━━━━━━━━━━━━━━━━━━━━━━━━━━━━━━━━━━\u001b[0m \u001b[32m9.2/9.2 MB\u001b[0m \u001b[31m62.4 MB/s\u001b[0m eta \u001b[36m0:00:00\u001b[0m\n",
            "\u001b[2K   \u001b[90m━━━━━━━━━━━━━━━━━━━━━━━━━━━━━━━━━━━━━━━━\u001b[0m \u001b[32m272.3/272.3 kB\u001b[0m \u001b[31m21.6 MB/s\u001b[0m eta \u001b[36m0:00:00\u001b[0m\n",
            "\u001b[?25h✅ Packages installed successfully!\n"
          ]
        }
      ],
      "source": [
        "# Install the Google Agent Development Kit and dependencies\n",
        "!pip install -q google-adk litellm openai python-dotenv nest-asyncio\n",
        "\n",
        "print(\"✅ Packages installed successfully!\")"
      ]
    },
    {
      "cell_type": "code",
      "execution_count": 2,
      "metadata": {
        "id": "imports",
        "colab": {
          "base_uri": "https://localhost:8080/"
        },
        "outputId": "6c3e668d-b737-4a58-dceb-2aa98c846004"
      },
      "outputs": [
        {
          "output_type": "stream",
          "name": "stdout",
          "text": [
            "✅ Imports successful!\n"
          ]
        }
      ],
      "source": [
        "# Core ADK imports\n",
        "from google.adk.agents import LlmAgent\n",
        "from google.adk.runners import Runner\n",
        "from google.adk.sessions import InMemorySessionService\n",
        "from google.adk.models.lite_llm import LiteLlm  # For using OpenAI and other LLM providers\n",
        "from google.genai import types\n",
        "\n",
        "# System imports\n",
        "import os\n",
        "import asyncio\n",
        "from typing import Dict, List, Optional\n",
        "from datetime import datetime, timedelta\n",
        "import random\n",
        "\n",
        "print(\"✅ Imports successful!\")"
      ]
    },
    {
      "cell_type": "code",
      "execution_count": 3,
      "metadata": {
        "id": "api_key_setup",
        "colab": {
          "base_uri": "https://localhost:8080/"
        },
        "outputId": "cf0985e0-d732-45f4-ae74-af64f36bb29c"
      },
      "outputs": [
        {
          "output_type": "stream",
          "name": "stdout",
          "text": [
            "✅ API key loaded from Colab secrets\n",
            "✅ Authentication configured!\n",
            "🤖 Selected Model: gpt-5-nano\n"
          ]
        }
      ],
      "source": [
        "# Configure OpenAI API key\n",
        "# Method 1: Try to get API key from Colab secrets (recommended)\n",
        "try:\n",
        "    from google.colab import userdata\n",
        "    OPENAI_API_KEY = userdata.get('OPENAI_API_KEY')\n",
        "    print(\"✅ API key loaded from Colab secrets\")\n",
        "except:\n",
        "    # Method 2: Manual input (fallback)\n",
        "    from getpass import getpass\n",
        "    print(\"💡 To use Colab secrets: Go to 🔑 (left sidebar) → Add new secret → Name: OPENAI_API_KEY\")\n",
        "    OPENAI_API_KEY = getpass(\"Enter your OpenAI API Key: \")\n",
        "\n",
        "# Set the API key as an environment variable\n",
        "os.environ[\"OPENAI_API_KEY\"] = OPENAI_API_KEY\n",
        "\n",
        "# Validate that the API key is set\n",
        "if not OPENAI_API_KEY or OPENAI_API_KEY.strip() == \"\":\n",
        "    raise ValueError(\"❌ ERROR: No API key provided!\")\n",
        "\n",
        "print(\"✅ Authentication configured!\")\n",
        "\n",
        "# Configure which OpenAI model to use\n",
        "# Options: \"gpt-4o\", \"gpt-4o-mini\", \"gpt-4-turbo\", \"gpt-3.5-turbo\", \"gpt-5-nano\", etc.\n",
        "OPENAI_MODEL = \"gpt-5-nano\"  # Using gpt-5-nano for cost efficiency\n",
        "print(f\"🤖 Selected Model: {OPENAI_MODEL}\")"
      ]
    },
    {
      "cell_type": "markdown",
      "metadata": {
        "id": "tools_concept_header"
      },
      "source": [
        "---\n",
        "\n",
        "## 🛠️ Part 2: What Are Tools in ADK?\n",
        "\n",
        "### The Problem Without Tools\n",
        "\n",
        "In Lesson 1, our agent could only generate text responses. It couldn't:\n",
        "- ❌ Look up real data\n",
        "- ❌ Perform actions\n",
        "- ❌ Access external systems\n",
        "- ❌ Execute code\n",
        "\n",
        "### The Solution: Function Calling (Tools)\n",
        "\n",
        "**Tools** are Python functions that agents can call to extend their capabilities. Think of them as giving your agent hands to interact with the world!\n",
        "\n",
        "### How Tools Work in ADK\n",
        "\n",
        "```\n",
        "1. User asks: \"What's the status of ticket #1234?\"\n",
        "   ↓\n",
        "2. Agent analyzes: \"I need to use the check_ticket_status tool\"\n",
        "   ↓\n",
        "3. ADK calls: check_ticket_status(ticket_id=\"1234\")\n",
        "   ↓\n",
        "4. Function returns: {\"status\": \"in_progress\", \"assigned_to\": \"tech_jane\"}\n",
        "   ↓\n",
        "5. Agent responds: \"Ticket #1234 is in progress, assigned to Jane.\"\n",
        "```\n",
        "\n",
        "### Automatic Schema Generation\n",
        "\n",
        "ADK automatically inspects your Python functions and generates a schema that tells the LLM:\n",
        "- **Function name**: What the tool is called\n",
        "- **Docstring**: What the tool does\n",
        "- **Type hints**: What parameters it expects\n",
        "- **Return type**: What it returns\n",
        "\n",
        "This means you just write **normal Python functions** with good documentation!\n",
        "\n",
        "### Anatomy of a Good Tool Function\n",
        "\n",
        "```python\n",
        "def tool_name(param1: str, param2: int = 10) -> Dict[str, any]:\n",
        "    \"\"\"\n",
        "    Clear description of what this tool does.\n",
        "    \n",
        "    Args:\n",
        "        param1 (str): Description of param1 (required)\n",
        "        param2 (int): Description of param2 (optional, default=10)\n",
        "    \n",
        "    Returns:\n",
        "        Dict: Description of return value\n",
        "    \"\"\"\n",
        "    # Your implementation\n",
        "    return {\"result\": \"value\"}\n",
        "```\n",
        "\n",
        "**Key points:**\n",
        "1. ✅ **Type hints** on all parameters\n",
        "2. ✅ **Comprehensive docstring** explaining purpose\n",
        "3. ✅ **Clear parameter descriptions** in Args section\n",
        "4. ✅ **Return dictionary** with descriptive keys\n",
        "5. ✅ **Meaningful function name** (describes the action)\n",
        "\n",
        "---"
      ]
    },
    {
      "cell_type": "markdown",
      "metadata": {
        "id": "mock_data_header"
      },
      "source": [
        "## 📊 Part 3: Creating Mock IT Support Tools\n",
        "\n",
        "Let's create realistic mock data and tools for our IT support system.\n",
        "\n",
        "### 3.1: Mock Database Setup\n",
        "\n",
        "First, we'll create in-memory databases to simulate real systems."
      ]
    },
    {
      "cell_type": "code",
      "execution_count": 4,
      "metadata": {
        "id": "mock_databases",
        "colab": {
          "base_uri": "https://localhost:8080/"
        },
        "outputId": "fabbc375-02df-4760-bffa-0664c75cb0b2"
      },
      "outputs": [
        {
          "output_type": "stream",
          "name": "stdout",
          "text": [
            "✅ Mock databases created!\n",
            "📊 Loaded 4 tickets\n",
            "📚 Loaded 5 knowledge base articles\n",
            "🖥️ Monitoring 6 systems\n"
          ]
        }
      ],
      "source": [
        "# Mock Ticket Database\n",
        "TICKETS_DB = {\n",
        "    \"T-1001\": {\n",
        "        \"id\": \"T-1001\",\n",
        "        \"status\": \"open\",\n",
        "        \"priority\": \"high\",\n",
        "        \"subject\": \"Cannot access email\",\n",
        "        \"description\": \"User reports unable to login to university email system\",\n",
        "        \"assigned_to\": \"tech_jane\",\n",
        "        \"created_at\": \"2025-10-05 09:30:00\",\n",
        "        \"updated_at\": \"2025-10-05 14:20:00\"\n",
        "    },\n",
        "    \"T-1002\": {\n",
        "        \"id\": \"T-1002\",\n",
        "        \"status\": \"in_progress\",\n",
        "        \"priority\": \"medium\",\n",
        "        \"subject\": \"Printer not working\",\n",
        "        \"description\": \"Library printer 2B not responding\",\n",
        "        \"assigned_to\": \"tech_mike\",\n",
        "        \"created_at\": \"2025-10-04 11:15:00\",\n",
        "        \"updated_at\": \"2025-10-06 08:00:00\"\n",
        "    },\n",
        "    \"T-1003\": {\n",
        "        \"id\": \"T-1003\",\n",
        "        \"status\": \"resolved\",\n",
        "        \"priority\": \"low\",\n",
        "        \"subject\": \"Wi-Fi connection issues\",\n",
        "        \"description\": \"Intermittent connection drops in Building A\",\n",
        "        \"assigned_to\": \"tech_sarah\",\n",
        "        \"created_at\": \"2025-10-03 14:00:00\",\n",
        "        \"updated_at\": \"2025-10-05 16:30:00\",\n",
        "        \"resolved_at\": \"2025-10-05 16:30:00\"\n",
        "    },\n",
        "    \"T-1004\": {\n",
        "        \"id\": \"T-1004\",\n",
        "        \"status\": \"open\",\n",
        "        \"priority\": \"critical\",\n",
        "        \"subject\": \"Campus portal down\",\n",
        "        \"description\": \"Students cannot access course materials\",\n",
        "        \"assigned_to\": None,\n",
        "        \"created_at\": \"2025-10-06 07:00:00\",\n",
        "        \"updated_at\": \"2025-10-06 07:00:00\"\n",
        "    }\n",
        "}\n",
        "\n",
        "# Mock Knowledge Base\n",
        "KNOWLEDGE_BASE = [\n",
        "    {\n",
        "        \"id\": \"KB-001\",\n",
        "        \"title\": \"How to Reset Your Password\",\n",
        "        \"content\": \"To reset your password: 1) Go to portal.university.edu 2) Click 'Forgot Password' 3) Enter your student ID 4) Check your email for reset link 5) Create a new password (min 8 characters, include numbers and symbols)\",\n",
        "        \"tags\": [\"password\", \"login\", \"account\", \"reset\"]\n",
        "    },\n",
        "    {\n",
        "        \"id\": \"KB-002\",\n",
        "        \"title\": \"Connecting to University Wi-Fi\",\n",
        "        \"content\": \"To connect to eduroam: 1) Select 'eduroam' network 2) Username: studentid@university.edu 3) Password: your portal password 4) Accept security certificate 5) If issues persist, forget the network and reconnect\",\n",
        "        \"tags\": [\"wifi\", \"network\", \"eduroam\", \"connection\"]\n",
        "    },\n",
        "    {\n",
        "        \"id\": \"KB-003\",\n",
        "        \"title\": \"Printing from Library Computers\",\n",
        "        \"content\": \"To print: 1) Send document to 'University-Print' queue 2) Go to any library printer 3) Tap your student ID card 4) Select your document 5) Choose print options 6) Print credit will be deducted automatically\",\n",
        "        \"tags\": [\"printing\", \"library\", \"printer\", \"documents\"]\n",
        "    },\n",
        "    {\n",
        "        \"id\": \"KB-004\",\n",
        "        \"title\": \"Email Not Working - Common Solutions\",\n",
        "        \"content\": \"Email issues? Try: 1) Clear browser cache and cookies 2) Try different browser 3) Check if caps lock is on 4) Verify username format (firstname.lastname@university.edu) 5) Reset password if needed 6) Check if account is active\",\n",
        "        \"tags\": [\"email\", \"outlook\", \"gmail\", \"login\", \"troubleshooting\"]\n",
        "    },\n",
        "    {\n",
        "        \"id\": \"KB-005\",\n",
        "        \"title\": \"VPN Setup for Off-Campus Access\",\n",
        "        \"content\": \"Setting up VPN: 1) Download Cisco AnyConnect from IT portal 2) Install the application 3) Server address: vpn.university.edu 4) Login with university credentials 5) Accept connection 6) You can now access library resources\",\n",
        "        \"tags\": [\"vpn\", \"remote\", \"access\", \"cisco\", \"anyconnect\"]\n",
        "    }\n",
        "]\n",
        "\n",
        "# Mock System Status\n",
        "SYSTEMS_STATUS = {\n",
        "    \"email\": {\"status\": \"operational\", \"uptime\": \"99.9%\", \"last_incident\": \"2025-09-28\"},\n",
        "    \"portal\": {\"status\": \"degraded\", \"uptime\": \"95.2%\", \"last_incident\": \"2025-10-06\"},\n",
        "    \"wifi\": {\"status\": \"operational\", \"uptime\": \"99.5%\", \"last_incident\": \"2025-10-01\"},\n",
        "    \"printing\": {\"status\": \"operational\", \"uptime\": \"98.8%\", \"last_incident\": \"2025-10-03\"},\n",
        "    \"vpn\": {\"status\": \"operational\", \"uptime\": \"99.7%\", \"last_incident\": \"2025-09-15\"},\n",
        "    \"library\": {\"status\": \"operational\", \"uptime\": \"99.9%\", \"last_incident\": \"2025-09-20\"}\n",
        "}\n",
        "\n",
        "# Mock Services that can be restarted\n",
        "SERVICES = [\"email\", \"portal\", \"wifi\", \"printing\", \"vpn\", \"library\"]\n",
        "\n",
        "print(\"✅ Mock databases created!\")\n",
        "print(f\"📊 Loaded {len(TICKETS_DB)} tickets\")\n",
        "print(f\"📚 Loaded {len(KNOWLEDGE_BASE)} knowledge base articles\")\n",
        "print(f\"🖥️ Monitoring {len(SYSTEMS_STATUS)} systems\")"
      ]
    },
    {
      "cell_type": "markdown",
      "metadata": {
        "id": "create_tools_header"
      },
      "source": [
        "### 3.2: Creating Tool Functions\n",
        "\n",
        "Now let's create the actual tool functions. Notice how we use:\n",
        "- **Type hints** for all parameters\n",
        "- **Detailed docstrings** explaining what the tool does\n",
        "- **Print statements** to show when tools are called (for debugging)\n",
        "- **Dictionary returns** with descriptive keys\n",
        "\n",
        "#### 📝 Note on Default Parameters\n",
        "\n",
        "OpenAI's function calling supports default parameter values. However, for consistency and clarity in this tutorial, we'll set default values inside our functions rather than in the function signature. This ensures our tools work reliably across different scenarios."
      ]
    },
    {
      "cell_type": "code",
      "execution_count": 5,
      "metadata": {
        "id": "tool_functions",
        "colab": {
          "base_uri": "https://localhost:8080/"
        },
        "outputId": "9982c3cd-28cf-427f-89ba-db5607fff9bf"
      },
      "outputs": [
        {
          "output_type": "stream",
          "name": "stdout",
          "text": [
            "✅ Tool functions created!\n",
            "\n",
            "📋 Available tools:\n",
            "  1. check_ticket_status(ticket_id) - Look up support ticket information\n",
            "  2. search_knowledge_base(query) - Search help articles (returns top 3)\n",
            "  3. check_system_status(system) - Check if systems are operational\n",
            "  4. restart_service(service_name) - Restart IT services\n"
          ]
        }
      ],
      "source": [
        "def check_ticket_status(ticket_id: str) -> Dict[str, any]:\n",
        "    \"\"\"\n",
        "    Retrieves the current status and details of a support ticket.\n",
        "\n",
        "    Use this tool when a user asks about the status of their support ticket.\n",
        "    The ticket ID is usually in the format 'T-XXXX'.\n",
        "\n",
        "    Args:\n",
        "        ticket_id (str): The unique ticket identifier (e.g., 'T-1001')\n",
        "\n",
        "    Returns:\n",
        "        Dict: Ticket information including status, priority, subject, and assigned technician\n",
        "    \"\"\"\n",
        "    print(f\"🔧 [TOOL CALLED] check_ticket_status(ticket_id='{ticket_id}')\")\n",
        "\n",
        "    # Normalize ticket ID (handle case variations)\n",
        "    ticket_id = ticket_id.upper().strip()\n",
        "\n",
        "    if ticket_id in TICKETS_DB:\n",
        "        ticket = TICKETS_DB[ticket_id]\n",
        "        return {\n",
        "            \"success\": True,\n",
        "            \"ticket_id\": ticket[\"id\"],\n",
        "            \"status\": ticket[\"status\"],\n",
        "            \"priority\": ticket[\"priority\"],\n",
        "            \"subject\": ticket[\"subject\"],\n",
        "            \"assigned_to\": ticket[\"assigned_to\"] if ticket[\"assigned_to\"] else \"Unassigned\",\n",
        "            \"created_at\": ticket[\"created_at\"],\n",
        "            \"last_updated\": ticket[\"updated_at\"]\n",
        "        }\n",
        "    else:\n",
        "        return {\n",
        "            \"success\": False,\n",
        "            \"error\": f\"Ticket {ticket_id} not found in the system\",\n",
        "            \"suggestion\": \"Please verify the ticket ID format (e.g., T-1001)\"\n",
        "        }\n",
        "\n",
        "\n",
        "def search_knowledge_base(query: str) -> Dict[str, any]:\n",
        "    \"\"\"\n",
        "    Searches the IT support knowledge base for relevant articles.\n",
        "\n",
        "    Use this tool to find help articles, guides, and troubleshooting steps\n",
        "    for common IT issues. The search looks through article titles, content, and tags.\n",
        "    Returns up to 3 most relevant articles.\n",
        "\n",
        "    Args:\n",
        "        query (str): The search query (e.g., 'password reset', 'wifi connection')\n",
        "\n",
        "    Returns:\n",
        "        Dict: Search results with relevant knowledge base articles\n",
        "    \"\"\"\n",
        "    print(f\"🔧 [TOOL CALLED] search_knowledge_base(query='{query}')\")\n",
        "\n",
        "    query_lower = query.lower()\n",
        "    results = []\n",
        "    max_results = 3  # Fixed value for consistency\n",
        "\n",
        "    # Simple search: look for query terms in title, content, and tags\n",
        "    for article in KNOWLEDGE_BASE:\n",
        "        relevance_score = 0\n",
        "\n",
        "        # Check title\n",
        "        if query_lower in article[\"title\"].lower():\n",
        "            relevance_score += 3\n",
        "\n",
        "        # Check tags\n",
        "        for tag in article[\"tags\"]:\n",
        "            if query_lower in tag.lower() or tag.lower() in query_lower:\n",
        "                relevance_score += 2\n",
        "\n",
        "        # Check content\n",
        "        if query_lower in article[\"content\"].lower():\n",
        "            relevance_score += 1\n",
        "\n",
        "        if relevance_score > 0:\n",
        "            results.append({\n",
        "                \"id\": article[\"id\"],\n",
        "                \"title\": article[\"title\"],\n",
        "                \"content\": article[\"content\"],\n",
        "                \"relevance\": relevance_score\n",
        "            })\n",
        "\n",
        "    # Sort by relevance and limit results\n",
        "    results.sort(key=lambda x: x[\"relevance\"], reverse=True)\n",
        "    results = results[:max_results]\n",
        "\n",
        "    if results:\n",
        "        return {\n",
        "            \"success\": True,\n",
        "            \"query\": query,\n",
        "            \"results_count\": len(results),\n",
        "            \"articles\": results\n",
        "        }\n",
        "    else:\n",
        "        return {\n",
        "            \"success\": False,\n",
        "            \"query\": query,\n",
        "            \"message\": \"No relevant articles found\",\n",
        "            \"suggestion\": \"Try rephrasing your query or contact support directly\"\n",
        "        }\n",
        "\n",
        "\n",
        "def check_system_status(system: str) -> Dict[str, any]:\n",
        "    \"\"\"\n",
        "    Checks the operational status of a university IT system.\n",
        "\n",
        "    Use this tool to verify if a system is operational, degraded, or down.\n",
        "    Available systems: email, portal, wifi, printing, vpn, library\n",
        "\n",
        "    Args:\n",
        "        system (str): The system name to check (e.g., 'email', 'wifi', 'portal')\n",
        "\n",
        "    Returns:\n",
        "        Dict: System status information including uptime and last incident\n",
        "    \"\"\"\n",
        "    print(f\"🔧 [TOOL CALLED] check_system_status(system='{system}')\")\n",
        "\n",
        "    system_lower = system.lower().strip()\n",
        "\n",
        "    if system_lower in SYSTEMS_STATUS:\n",
        "        status_info = SYSTEMS_STATUS[system_lower]\n",
        "        return {\n",
        "            \"success\": True,\n",
        "            \"system\": system_lower,\n",
        "            \"status\": status_info[\"status\"],\n",
        "            \"uptime\": status_info[\"uptime\"],\n",
        "            \"last_incident\": status_info[\"last_incident\"],\n",
        "            \"message\": f\"System '{system_lower}' is currently {status_info['status']}\"\n",
        "        }\n",
        "    else:\n",
        "        return {\n",
        "            \"success\": False,\n",
        "            \"error\": f\"System '{system}' not found\",\n",
        "            \"available_systems\": list(SYSTEMS_STATUS.keys())\n",
        "        }\n",
        "\n",
        "\n",
        "def restart_service(service_name: str) -> Dict[str, any]:\n",
        "    \"\"\"\n",
        "    Attempts to restart a university IT service.\n",
        "\n",
        "    Use this tool when troubleshooting requires restarting a service.\n",
        "    This is a mock function that simulates a service restart.\n",
        "    In production, this would trigger actual service management systems.\n",
        "    The service will be restarted normally (not forced).\n",
        "\n",
        "    Args:\n",
        "        service_name (str): The service to restart (e.g., 'email', 'portal')\n",
        "\n",
        "    Returns:\n",
        "        Dict: Result of the restart operation\n",
        "    \"\"\"\n",
        "    print(f\"🔧 [TOOL CALLED] restart_service(service_name='{service_name}')\")\n",
        "\n",
        "    service_lower = service_name.lower().strip()\n",
        "\n",
        "    if service_lower not in SERVICES:\n",
        "        return {\n",
        "            \"success\": False,\n",
        "            \"error\": f\"Service '{service_name}' not found\",\n",
        "            \"available_services\": SERVICES\n",
        "        }\n",
        "\n",
        "    # Simulate restart with random success (90% success rate)\n",
        "    restart_successful = random.random() < 0.9\n",
        "\n",
        "    if restart_successful:\n",
        "        # Update system status to operational if it was degraded\n",
        "        if service_lower in SYSTEMS_STATUS:\n",
        "            SYSTEMS_STATUS[service_lower][\"status\"] = \"operational\"\n",
        "\n",
        "        return {\n",
        "            \"success\": True,\n",
        "            \"service\": service_lower,\n",
        "            \"message\": f\"Service '{service_lower}' has been successfully restarted\",\n",
        "            \"status\": \"operational\"\n",
        "        }\n",
        "    else:\n",
        "        return {\n",
        "            \"success\": False,\n",
        "            \"service\": service_lower,\n",
        "            \"error\": \"Restart failed - service did not respond\",\n",
        "            \"suggestion\": \"Escalate to senior technician or contact infrastructure team\"\n",
        "        }\n",
        "\n",
        "print(\"✅ Tool functions created!\")\n",
        "print(\"\\n📋 Available tools:\")\n",
        "print(\"  1. check_ticket_status(ticket_id) - Look up support ticket information\")\n",
        "print(\"  2. search_knowledge_base(query) - Search help articles (returns top 3)\")\n",
        "print(\"  3. check_system_status(system) - Check if systems are operational\")\n",
        "print(\"  4. restart_service(service_name) - Restart IT services\")"
      ]
    },
    {
      "cell_type": "markdown",
      "metadata": {
        "id": "agent_with_tools_header"
      },
      "source": [
        "---\n",
        "\n",
        "## 🤖 Part 4: Creating an Agent with Tools\n",
        "\n",
        "Now let's create an enhanced IT support agent that can use these tools!\n",
        "\n",
        "### Key Differences from Lesson 1:\n",
        "1. We add a `tools` parameter with our function list\n",
        "2. We update the instructions to tell the agent about its new capabilities\n",
        "3. The agent will automatically decide when to use tools based on user requests"
      ]
    },
    {
      "cell_type": "code",
      "execution_count": 6,
      "metadata": {
        "id": "create_agent_with_tools",
        "colab": {
          "base_uri": "https://localhost:8080/"
        },
        "outputId": "fba78767-0231-4e33-b64d-9cf72e5a4c06"
      },
      "outputs": [
        {
          "output_type": "stream",
          "name": "stdout",
          "text": [
            "✅ IT Support Agent with Tools created!\n",
            "🔧 Agent has access to 4 tools\n",
            "📋 Agent Name: it_support_with_tools\n",
            "🤖 Model: OpenAI gpt-5-nano\n"
          ]
        }
      ],
      "source": [
        "# Create session service and app configuration\n",
        "session_service = InMemorySessionService()\n",
        "APP_NAME = \"it_support_tools_app\"\n",
        "\n",
        "# Create an IT Support Agent WITH TOOLS using OpenAI\n",
        "it_support_agent_with_tools = LlmAgent(\n",
        "    model=LiteLlm(model=f\"openai/{OPENAI_MODEL}\"),  # Use OpenAI model via LiteLLM\n",
        "    name=\"it_support_with_tools\",\n",
        "    tools=[\n",
        "        check_ticket_status,\n",
        "        search_knowledge_base,\n",
        "        check_system_status,\n",
        "        restart_service\n",
        "    ],\n",
        "    instruction=\"\"\"\n",
        "    You are Alex, an enhanced IT Support Assistant for TechHelp Solutions.\n",
        "\n",
        "    You now have access to powerful tools that let you take actions:\n",
        "\n",
        "    AVAILABLE TOOLS:\n",
        "    1. check_ticket_status - Look up any support ticket by ID\n",
        "    2. search_knowledge_base - Find help articles and guides\n",
        "    3. check_system_status - Verify if university systems are operational\n",
        "    4. restart_service - Restart services when troubleshooting\n",
        "\n",
        "    WHEN TO USE TOOLS:\n",
        "    - If a user mentions a ticket number (like T-1001), use check_ticket_status\n",
        "    - If a user asks how to do something, search the knowledge base first\n",
        "    - If a user reports a system issue, check the system status\n",
        "    - Only restart services when troubleshooting steps have been exhausted\n",
        "\n",
        "    BEST PRACTICES:\n",
        "    - Always use tools when you have them available for a task\n",
        "    - Explain what tool you're using and why\n",
        "    - If a tool returns an error, explain it clearly to the user\n",
        "    - Provide the information from tools in a user-friendly way\n",
        "    - After using tools, give actionable next steps\n",
        "\n",
        "    YOUR PERSONALITY:\n",
        "    - Friendly and helpful\n",
        "    - Professional but approachable\n",
        "    - Proactive in using tools to help users\n",
        "    - Clear about what actions you're taking\n",
        "\n",
        "    Remember: You're not just chatting anymore - you can actually DO things to help users!\n",
        "    \"\"\"\n",
        ")\n",
        "\n",
        "# Create the runner\n",
        "runner = Runner(\n",
        "    app_name=APP_NAME,\n",
        "    agent=it_support_agent_with_tools,\n",
        "    session_service=session_service\n",
        ")\n",
        "\n",
        "print(\"✅ IT Support Agent with Tools created!\")\n",
        "print(f\"🔧 Agent has access to {len(it_support_agent_with_tools.tools)} tools\")\n",
        "print(\"📋 Agent Name:\", it_support_agent_with_tools.name)\n",
        "print(f\"🤖 Model: OpenAI {OPENAI_MODEL}\")"
      ]
    },
    {
      "cell_type": "markdown",
      "metadata": {
        "id": "helper_function_header"
      },
      "source": [
        "### Create Helper Function\n",
        "\n",
        "Same async helper function from Lesson 1, with added support for tool visibility."
      ]
    },
    {
      "cell_type": "code",
      "execution_count": 7,
      "metadata": {
        "id": "helper_function",
        "colab": {
          "base_uri": "https://localhost:8080/"
        },
        "outputId": "c8582a0c-672d-4080-b2ff-73614a5d7c39"
      },
      "outputs": [
        {
          "output_type": "stream",
          "name": "stdout",
          "text": [
            "✅ Helper function created!\n"
          ]
        }
      ],
      "source": [
        "# Track created sessions\n",
        "_created_sessions = set()\n",
        "\n",
        "async def chat_with_agent_async(user_message: str, session_id: str = \"session_001\", user_id: str = \"student_001\", show_all_events: bool = False):\n",
        "    \"\"\"\n",
        "    Send a message to the IT support agent and print the response (async version).\n",
        "    \"\"\"\n",
        "    # Create session if needed\n",
        "    session_key = (session_id, user_id)\n",
        "    if session_key not in _created_sessions:\n",
        "        await session_service.create_session(\n",
        "            app_name=APP_NAME,\n",
        "            user_id=user_id,\n",
        "            session_id=session_id,\n",
        "            state={}\n",
        "        )\n",
        "        _created_sessions.add(session_key)\n",
        "\n",
        "    content = types.Content(role='user', parts=[types.Part(text=user_message)])\n",
        "    events = runner.run_async(user_id=user_id, session_id=session_id, new_message=content)\n",
        "\n",
        "    print(f\"\\n{'='*70}\")\n",
        "    print(f\"👤 You: {user_message}\")\n",
        "    print(f\"{'='*70}\\n\")\n",
        "\n",
        "    tool_calls = []\n",
        "    final_response = None\n",
        "\n",
        "    async for event in events:\n",
        "        if show_all_events:\n",
        "            print(f\"[DEBUG EVENT]: {event}\\n\")\n",
        "\n",
        "        if event.is_final_response():\n",
        "            final_response = event.content.parts[0].text\n",
        "\n",
        "    if final_response:\n",
        "        print(f\"🤖 Alex: {final_response}\")\n",
        "        print(f\"\\n{'='*70}\\n\")\n",
        "        return final_response\n",
        "    else:\n",
        "        print(\"⚠️ No response received from agent.\")\n",
        "        return None\n",
        "\n",
        "def chat_with_agent(user_message: str, session_id: str = \"session_001\", user_id: str = \"student_001\", show_all_events: bool = False):\n",
        "    \"\"\"\n",
        "    Synchronous wrapper for chat_with_agent_async.\n",
        "    \"\"\"\n",
        "    try:\n",
        "        loop = asyncio.get_running_loop()\n",
        "        import nest_asyncio\n",
        "        nest_asyncio.apply()\n",
        "        return asyncio.run(chat_with_agent_async(user_message, session_id, user_id, show_all_events))\n",
        "    except RuntimeError:\n",
        "        return asyncio.run(chat_with_agent_async(user_message, session_id, user_id, show_all_events))\n",
        "\n",
        "print(\"✅ Helper function created!\")"
      ]
    },
    {
      "cell_type": "markdown",
      "metadata": {
        "id": "demonstration_header"
      },
      "source": [
        "---\n",
        "\n",
        "## 🎬 Part 5: Demonstration - Agent Using Tools\n",
        "\n",
        "Let's see our enhanced agent in action! Watch for the `[TOOL CALLED]` messages that show when the agent uses tools.\n",
        "\n",
        "### Demo 1: Checking Ticket Status"
      ]
    },
    {
      "cell_type": "code",
      "source": [
        "chat_with_agent(\n",
        "    \"Hi! Can you check the status of my ticket T-1002?\",\n",
        "    session_id=\"demo_session_1\"\n",
        ")"
      ],
      "metadata": {
        "colab": {
          "base_uri": "https://localhost:8080/",
          "height": 477
        },
        "id": "_E2Bcd1uVjFi",
        "outputId": "7a4c4d51-6fbd-40d6-a2b5-6da73f3d20f4"
      },
      "execution_count": 20,
      "outputs": [
        {
          "output_type": "stream",
          "name": "stdout",
          "text": [
            "\n",
            "======================================================================\n",
            "👤 You: Hi! Can you check the status of my ticket T-1002?\n",
            "======================================================================\n",
            "\n",
            "🔧 [TOOL CALLED] check_ticket_status(ticket_id='T-1002')\n",
            "🤖 Alex: Here’s the current status for T-1002:\n",
            "\n",
            "- Status: In progress\n",
            "- Priority: Medium\n",
            "- Subject: Printer not working\n",
            "- Assigned to: tech_mike\n",
            "- Created: 2025-10-04 11:15\n",
            "- Last updated: 2025-10-06 08:00\n",
            "\n",
            "Would you like me to:\n",
            "- fetch a fresh status update now,\n",
            "- ping tech_mike to request an ETA,\n",
            "- pull up a printer troubleshooting guide from our knowledge base,\n",
            "- or set up automatic notifications for future status changes?\n",
            "\n",
            "======================================================================\n",
            "\n"
          ]
        },
        {
          "output_type": "execute_result",
          "data": {
            "text/plain": [
              "'Here’s the current status for T-1002:\\n\\n- Status: In progress\\n- Priority: Medium\\n- Subject: Printer not working\\n- Assigned to: tech_mike\\n- Created: 2025-10-04 11:15\\n- Last updated: 2025-10-06 08:00\\n\\nWould you like me to:\\n- fetch a fresh status update now,\\n- ping tech_mike to request an ETA,\\n- pull up a printer troubleshooting guide from our knowledge base,\\n- or set up automatic notifications for future status changes?'"
            ],
            "application/vnd.google.colaboratory.intrinsic+json": {
              "type": "string"
            }
          },
          "metadata": {},
          "execution_count": 20
        }
      ]
    },
    {
      "cell_type": "markdown",
      "metadata": {
        "id": "demo_2_header"
      },
      "source": [
        "### Demo 2: Searching Knowledge Base"
      ]
    },
    {
      "cell_type": "code",
      "execution_count": 9,
      "metadata": {
        "id": "demo_2",
        "colab": {
          "base_uri": "https://localhost:8080/",
          "height": 545
        },
        "outputId": "7faf7351-b947-4f25-eb49-9327c64a4b44"
      },
      "outputs": [
        {
          "output_type": "stream",
          "name": "stdout",
          "text": [
            "\n",
            "======================================================================\n",
            "👤 You: I forgot my password. How do I reset it?\n",
            "======================================================================\n",
            "\n",
            "🔧 [TOOL CALLED] search_knowledge_base(query='forgot password reset')\n",
            "🤖 Alex: Here are the official steps to reset your password:\n",
            "\n",
            "- Go to portal.university.edu\n",
            "- Click \"Forgot Password\"\n",
            "- Enter your student ID\n",
            "- Check your email for the reset link\n",
            "- Create a new password (minimum 8 characters, include numbers and symbols)\n",
            "- Sign in with your new password\n",
            "\n",
            "Tips if you don’t see the reset email:\n",
            "- Check your spam/junk folder\n",
            "- Make sure you’re checking the email address on file with the university\n",
            "- Double-check you entered the correct student ID\n",
            "- If you still don’t receive the email, contact IT support and provide your student ID so they can assist\n",
            "\n",
            "Would you like me to walk you through these steps now, or check if the password reset portal is currently up and running?\n",
            "\n",
            "======================================================================\n",
            "\n"
          ]
        },
        {
          "output_type": "execute_result",
          "data": {
            "text/plain": [
              "'Here are the official steps to reset your password:\\n\\n- Go to portal.university.edu\\n- Click \"Forgot Password\"\\n- Enter your student ID\\n- Check your email for the reset link\\n- Create a new password (minimum 8 characters, include numbers and symbols)\\n- Sign in with your new password\\n\\nTips if you don’t see the reset email:\\n- Check your spam/junk folder\\n- Make sure you’re checking the email address on file with the university\\n- Double-check you entered the correct student ID\\n- If you still don’t receive the email, contact IT support and provide your student ID so they can assist\\n\\nWould you like me to walk you through these steps now, or check if the password reset portal is currently up and running?'"
            ],
            "application/vnd.google.colaboratory.intrinsic+json": {
              "type": "string"
            }
          },
          "metadata": {},
          "execution_count": 9
        }
      ],
      "source": [
        "chat_with_agent(\n",
        "    \"I forgot my password. How do I reset it?\",\n",
        "    session_id=\"demo_session_2\"\n",
        ")"
      ]
    },
    {
      "cell_type": "markdown",
      "metadata": {
        "id": "demo_3_header"
      },
      "source": [
        "### Demo 3: Checking System Status"
      ]
    },
    {
      "cell_type": "code",
      "execution_count": 10,
      "metadata": {
        "id": "demo_3",
        "colab": {
          "base_uri": "https://localhost:8080/",
          "height": 633
        },
        "outputId": "c1777247-e108-4eb4-b09b-9a3c265cd89d"
      },
      "outputs": [
        {
          "output_type": "stream",
          "name": "stdout",
          "text": [
            "\n",
            "======================================================================\n",
            "👤 You: I can't access the university portal. Is it down?\n",
            "======================================================================\n",
            "\n",
            "🔧 [TOOL CALLED] check_system_status(system='portal')\n",
            "🤖 Alex: Thanks for checking. I just looked up the portal status:\n",
            "\n",
            "- Portal status: Degraded (not completely down)\n",
            "- Uptime: 95.2%\n",
            "- Last incident: 2025-10-06\n",
            "- Message: \"System 'portal' is currently degraded\"\n",
            "\n",
            "What this means: You may experience slower performance or features not working correctly, rather than a complete outage.\n",
            "\n",
            "If you’re trying to access it now, you can try these quick steps:\n",
            "- Try a different browser or use an incognito/private window.\n",
            "- Clear your browser cache and cookies.\n",
            "- If you’re off campus, make sure you’re connected via VPN or that the portal doesn’t require a VPN for access.\n",
            "- Double-check you’re using the correct portal URL.\n",
            "\n",
            "If you can share a specific error message or what part of the portal you can’t reach (login page, course materials, submissions, etc.), I can help troubleshoot further.\n",
            "\n",
            "Would you like me to keep monitoring the portal status and notify you when it returns to normal, or should I help you open a ticket for follow-up?\n",
            "\n",
            "======================================================================\n",
            "\n"
          ]
        },
        {
          "output_type": "execute_result",
          "data": {
            "text/plain": [
              "'Thanks for checking. I just looked up the portal status:\\n\\n- Portal status: Degraded (not completely down)\\n- Uptime: 95.2%\\n- Last incident: 2025-10-06\\n- Message: \"System \\'portal\\' is currently degraded\"\\n\\nWhat this means: You may experience slower performance or features not working correctly, rather than a complete outage.\\n\\nIf you’re trying to access it now, you can try these quick steps:\\n- Try a different browser or use an incognito/private window.\\n- Clear your browser cache and cookies.\\n- If you’re off campus, make sure you’re connected via VPN or that the portal doesn’t require a VPN for access.\\n- Double-check you’re using the correct portal URL.\\n\\nIf you can share a specific error message or what part of the portal you can’t reach (login page, course materials, submissions, etc.), I can help troubleshoot further.\\n\\nWould you like me to keep monitoring the portal status and notify you when it returns to normal, or should I help you open a ticket for follow-up?'"
            ],
            "application/vnd.google.colaboratory.intrinsic+json": {
              "type": "string"
            }
          },
          "metadata": {},
          "execution_count": 10
        }
      ],
      "source": [
        "chat_with_agent(\n",
        "    \"I can't access the university portal. Is it down?\",\n",
        "    session_id=\"demo_session_3\"\n",
        ")"
      ]
    },
    {
      "cell_type": "markdown",
      "metadata": {
        "id": "demo_4_header"
      },
      "source": [
        "### Demo 4: Multiple Tools in One Conversation"
      ]
    },
    {
      "cell_type": "code",
      "execution_count": 11,
      "metadata": {
        "id": "demo_4",
        "colab": {
          "base_uri": "https://localhost:8080/",
          "height": 1000
        },
        "outputId": "c77e86f3-1869-43fd-accc-e31ff0f5af85"
      },
      "outputs": [
        {
          "output_type": "stream",
          "name": "stdout",
          "text": [
            "\n",
            "======================================================================\n",
            "👤 You: Can you check ticket T-1001 and also tell me how to connect to Wi-Fi?\n",
            "======================================================================\n",
            "\n",
            "🔧 [TOOL CALLED] check_ticket_status(ticket_id='T-1001')\n",
            "🔧 [TOOL CALLED] search_knowledge_base(query='how to connect to Wi-Fi')\n",
            "🤖 Alex: Here’s what I’ve done and what I found:\n",
            "\n",
            "1) Ticket check: T-1001\n",
            "- Status: Open\n",
            "- Priority: High\n",
            "- Subject: Cannot access email\n",
            "- Assigned to: tech_jane\n",
            "- Created: 2025-10-05 09:30\n",
            "- Last updated: 2025-10-05 14:20\n",
            "\n",
            "If you’d like, I can flag this for a faster follow-up, add a note with your current symptoms, or request an update from tech_jane.\n",
            "\n",
            "2) Wi-Fi connection guidance\n",
            "- I searched the knowledge base for “how to connect to Wi-Fi,” but didn’t find any relevant articles.\n",
            "- If you’d like, I can try alternative search phrases (e.g., “wifi setup,” “connect to campus wifi,” “eduroam setup”) or tailor steps to your device.\n",
            "\n",
            "Brand-new, concise setup guidance (common campus Wi‑Fi like eduroam)\n",
            "- Windows 10/11\n",
            "  - Open Settings > Network & Internet > Wi-Fi. Turn on Wi‑Fi.\n",
            "  - Connect to your campus network (often eduroam or a campus SSID).\n",
            "  - When prompted, enter your university credentials (usually your username and password; may require a domain or full email address).\n",
            "  - If prompted to trust a certificate, accept it.\n",
            "  - If you see a captive portal, open a browser and login with your student credentials.\n",
            "\n",
            "- macOS\n",
            "  - Click the Wi‑Fi icon in the menu bar, choose eduroam or campus network.\n",
            "  - Enter your university credentials and, if asked, accept the certificate.\n",
            "  - If a sign-in page appears, sign in with your student account.\n",
            "\n",
            "- iOS (iPhone/iPad)\n",
            "  - Settings > Wi‑Fi > select eduroam or campus network.\n",
            "  - Enter username and password; accept any certificate prompt if asked.\n",
            "\n",
            "- Android\n",
            "  - Settings > Network & Internet > Wi‑Fi > select eduroam or campus network.\n",
            "  - Enter credentials; accept any certificate prompt if asked.\n",
            "\n",
            "- If a captive portal appears\n",
            "  - Open a browser and sign in with your student credentials.\n",
            "\n",
            "Common troubleshooting tips\n",
            "- Double-check that you’re using your university username (often your email) and password.\n",
            "- Ensure the device date/time is correct.\n",
            "- Try forgetting the network and reconnecting.\n",
            "- If you’re on a device that uses certificates, accept/trust the campus certificate when prompted.\n",
            "- If you still can’t connect, tell me your device type (Windows/macOS/iOS/Android) and any error message you see, and I’ll tailor steps.\n",
            "\n",
            "Would you like me to:\n",
            "- Re-run a knowledge-base search with different Wi‑Fi-related keywords?\n",
            "- Check the campus wifi system status for outages?\n",
            "- Get device-specific steps tailored to your phone/computer?\n",
            "\n",
            "======================================================================\n",
            "\n"
          ]
        },
        {
          "output_type": "execute_result",
          "data": {
            "text/plain": [
              "'Here’s what I’ve done and what I found:\\n\\n1) Ticket check: T-1001\\n- Status: Open\\n- Priority: High\\n- Subject: Cannot access email\\n- Assigned to: tech_jane\\n- Created: 2025-10-05 09:30\\n- Last updated: 2025-10-05 14:20\\n\\nIf you’d like, I can flag this for a faster follow-up, add a note with your current symptoms, or request an update from tech_jane.\\n\\n2) Wi-Fi connection guidance\\n- I searched the knowledge base for “how to connect to Wi-Fi,” but didn’t find any relevant articles.\\n- If you’d like, I can try alternative search phrases (e.g., “wifi setup,” “connect to campus wifi,” “eduroam setup”) or tailor steps to your device.\\n\\nBrand-new, concise setup guidance (common campus Wi‑Fi like eduroam)\\n- Windows 10/11\\n  - Open Settings > Network & Internet > Wi-Fi. Turn on Wi‑Fi.\\n  - Connect to your campus network (often eduroam or a campus SSID).\\n  - When prompted, enter your university credentials (usually your username and password; may require a domain or full email address).\\n  - If prompted to trust a certificate, accept it.\\n  - If you see a captive portal, open a browser and login with your student credentials.\\n\\n- macOS\\n  - Click the Wi‑Fi icon in the menu bar, choose eduroam or campus network.\\n  - Enter your university credentials and, if asked, accept the certificate.\\n  - If a sign-in page appears, sign in with your student account.\\n\\n- iOS (iPhone/iPad)\\n  - Settings > Wi‑Fi > select eduroam or campus network.\\n  - Enter username and password; accept any certificate prompt if asked.\\n\\n- Android\\n  - Settings > Network & Internet > Wi‑Fi > select eduroam or campus network.\\n  - Enter credentials; accept any certificate prompt if asked.\\n\\n- If a captive portal appears\\n  - Open a browser and sign in with your student credentials.\\n\\nCommon troubleshooting tips\\n- Double-check that you’re using your university username (often your email) and password.\\n- Ensure the device date/time is correct.\\n- Try forgetting the network and reconnecting.\\n- If you’re on a device that uses certificates, accept/trust the campus certificate when prompted.\\n- If you still can’t connect, tell me your device type (Windows/macOS/iOS/Android) and any error message you see, and I’ll tailor steps.\\n\\nWould you like me to:\\n- Re-run a knowledge-base search with different Wi‑Fi-related keywords?\\n- Check the campus wifi system status for outages?\\n- Get device-specific steps tailored to your phone/computer?'"
            ],
            "application/vnd.google.colaboratory.intrinsic+json": {
              "type": "string"
            }
          },
          "metadata": {},
          "execution_count": 11
        }
      ],
      "source": [
        "chat_with_agent(\n",
        "    \"Can you check ticket T-1001 and also tell me how to connect to Wi-Fi?\",\n",
        "    session_id=\"demo_session_4\"\n",
        ")"
      ]
    },
    {
      "cell_type": "markdown",
      "metadata": {
        "id": "demo_5_header"
      },
      "source": [
        "### Demo 5: Service Restart (Advanced)"
      ]
    },
    {
      "cell_type": "code",
      "execution_count": 12,
      "metadata": {
        "id": "demo_5",
        "colab": {
          "base_uri": "https://localhost:8080/",
          "height": 633
        },
        "outputId": "a490fc6f-41c0-4fb1-be1a-0aa604860032"
      },
      "outputs": [
        {
          "output_type": "stream",
          "name": "stdout",
          "text": [
            "\n",
            "======================================================================\n",
            "👤 You: The portal is running really slow. Can you try restarting it?\n",
            "======================================================================\n",
            "\n",
            "🔧 [TOOL CALLED] check_system_status(system='portal')\n",
            "🔧 [TOOL CALLED] search_knowledge_base(query='portal performance')\n",
            "🤖 Alex: Thanks for the heads-up. I checked the portal now and here’s what I found:\n",
            "\n",
            "- Portal status: Degraded (not fully down, but experiencing performance issues)\n",
            "- Uptime: 95.2%\n",
            "- Last incident: 2025-10-06\n",
            "- I also searched the knowledge base for “portal performance” but didn’t find any relevant articles.\n",
            "\n",
            "What I can do next\n",
            "- Restart the portal service (a common troubleshooting step to clear stuck processes and refresh resources). Note: this will cause a brief, temporary downtime while the service restarts.\n",
            "  - If you’d like, I can proceed now. If you prefer, I can schedule it for a low-traffic window.\n",
            "- After the restart, I’ll monitor performance and verify if response times improve.\n",
            "- If issues persist, I can escalate and run additional checks (e.g., load, recent changes, and any related incidents).\n",
            "\n",
            "Please confirm:\n",
            "- Do you want me to restart the portal service now, or would you prefer a scheduled time window?\n",
            "\n",
            "If you approve, I’ll initiate the restart and report back with the outcome and next steps.\n",
            "\n",
            "======================================================================\n",
            "\n"
          ]
        },
        {
          "output_type": "execute_result",
          "data": {
            "text/plain": [
              "'Thanks for the heads-up. I checked the portal now and here’s what I found:\\n\\n- Portal status: Degraded (not fully down, but experiencing performance issues)\\n- Uptime: 95.2%\\n- Last incident: 2025-10-06\\n- I also searched the knowledge base for “portal performance” but didn’t find any relevant articles.\\n\\nWhat I can do next\\n- Restart the portal service (a common troubleshooting step to clear stuck processes and refresh resources). Note: this will cause a brief, temporary downtime while the service restarts.\\n  - If you’d like, I can proceed now. If you prefer, I can schedule it for a low-traffic window.\\n- After the restart, I’ll monitor performance and verify if response times improve.\\n- If issues persist, I can escalate and run additional checks (e.g., load, recent changes, and any related incidents).\\n\\nPlease confirm:\\n- Do you want me to restart the portal service now, or would you prefer a scheduled time window?\\n\\nIf you approve, I’ll initiate the restart and report back with the outcome and next steps.'"
            ],
            "application/vnd.google.colaboratory.intrinsic+json": {
              "type": "string"
            }
          },
          "metadata": {},
          "execution_count": 12
        }
      ],
      "source": [
        "chat_with_agent(\n",
        "    \"The portal is running really slow. Can you try restarting it?\",\n",
        "    session_id=\"demo_session_5\"\n",
        ")"
      ]
    },
    {
      "cell_type": "markdown",
      "metadata": {
        "id": "interactive_header"
      },
      "source": [
        "### Your Turn - Try It!\n",
        "\n",
        "Experiment with different requests to see how the agent uses tools:"
      ]
    },
    {
      "cell_type": "code",
      "execution_count": 13,
      "metadata": {
        "id": "interactive",
        "colab": {
          "base_uri": "https://localhost:8080/",
          "height": 749
        },
        "outputId": "6b9d9c3f-9bc7-4bac-a84c-4634ff9d9985"
      },
      "outputs": [
        {
          "output_type": "stream",
          "name": "stdout",
          "text": [
            "\n",
            "======================================================================\n",
            "👤 You: What's the status of ticket T-1004 and is the email system working?\n",
            "======================================================================\n",
            "\n",
            "🔧 [TOOL CALLED] check_ticket_status(ticket_id='T-1004')\n",
            "🔧 [TOOL CALLED] check_system_status(system='email')\n",
            "🤖 Alex: Here’s what I found:\n",
            "\n",
            "Ticket status\n",
            "- Ticket: T-1004\n",
            "- Status: Open\n",
            "- Priority: Critical\n",
            "- Subject: Campus portal down\n",
            "- Assigned to: Unassigned\n",
            "- Created: 2025-10-06 07:00\n",
            "- Last updated: 2025-10-06 07:00\n",
            "\n",
            "What I can do next for T-1004\n",
            "- I can assign this to an available technician and add a note about the campus portal outage.\n",
            "- I can set up automatic updates to you as the ticket evolves.\n",
            "- I can also check related systems (e.g., portal status, network) to look for root causes and share findings.\n",
            "\n",
            "Email system status\n",
            "- Status: Operational\n",
            "- Uptime: 99.9%\n",
            "- Last incident: 2025-09-28\n",
            "- Message: The email system is currently operational\n",
            "\n",
            "Would you like me to:\n",
            "1) Assign T-1004 to a technician now and add a remediation note?\n",
            "2) Monitor T-1004 and push updates to you automatically?\n",
            "3) Check the campus portal system status specifically (to see if this is a campus-wide outage) and report back?\n",
            "\n",
            "======================================================================\n",
            "\n"
          ]
        },
        {
          "output_type": "execute_result",
          "data": {
            "text/plain": [
              "'Here’s what I found:\\n\\nTicket status\\n- Ticket: T-1004\\n- Status: Open\\n- Priority: Critical\\n- Subject: Campus portal down\\n- Assigned to: Unassigned\\n- Created: 2025-10-06 07:00\\n- Last updated: 2025-10-06 07:00\\n\\nWhat I can do next for T-1004\\n- I can assign this to an available technician and add a note about the campus portal outage.\\n- I can set up automatic updates to you as the ticket evolves.\\n- I can also check related systems (e.g., portal status, network) to look for root causes and share findings.\\n\\nEmail system status\\n- Status: Operational\\n- Uptime: 99.9%\\n- Last incident: 2025-09-28\\n- Message: The email system is currently operational\\n\\nWould you like me to:\\n1) Assign T-1004 to a technician now and add a remediation note?\\n2) Monitor T-1004 and push updates to you automatically?\\n3) Check the campus portal system status specifically (to see if this is a campus-wide outage) and report back?'"
            ],
            "application/vnd.google.colaboratory.intrinsic+json": {
              "type": "string"
            }
          },
          "metadata": {},
          "execution_count": 13
        }
      ],
      "source": [
        "# Try your own query!\n",
        "your_query = \"What's the status of ticket T-1004 and is the email system working?\"  # Modify this\n",
        "\n",
        "chat_with_agent(your_query, session_id=\"my_test_session\")"
      ]
    },
    {
      "cell_type": "markdown",
      "metadata": {
        "id": "execution_flow_header"
      },
      "source": [
        "---\n",
        "\n",
        "## 🔍 Part 6: Understanding Tool Execution Flow\n",
        "\n",
        "When you send a message to the agent:\n",
        "\n",
        "1. **Agent analyzes** the user's request\n",
        "2. **Agent decides** which tool(s) to use (if any)\n",
        "3. **ADK executes** the Python function(s)\n",
        "4. **Tool returns** data to the agent\n",
        "5. **Agent synthesizes** a natural language response\n",
        "\n",
        "### How Does the Agent Know When to Use Tools?\n",
        "\n",
        "The LLM reads:\n",
        "- ✅ **Function name**: `check_ticket_status` → \"This checks tickets\"\n",
        "- ✅ **Docstring**: Detailed explanation of what the tool does\n",
        "- ✅ **Parameters**: What information it needs\n",
        "- ✅ **Type hints**: What format the parameters should be\n",
        "\n",
        "Then it **intelligently decides** if and when to call the tool!\n",
        "\n",
        "### Why Do We See `[TOOL CALLED]` Messages?\n",
        "\n",
        "We added `print()` statements in our tool functions for **debugging**. This helps us:\n",
        "- See exactly when tools are called\n",
        "- Verify the agent is using tools correctly\n",
        "- Understand the agent's decision-making process\n",
        "\n",
        "**In production**, you'd remove these or log them properly.\n",
        "\n",
        "### Tool Execution is Automatic\n",
        "\n",
        "Notice you **never explicitly tell** the agent \"use tool X\". The agent:\n",
        "- Interprets user intent\n",
        "- Selects appropriate tools\n",
        "- Extracts parameters from context\n",
        "- Calls tools automatically\n",
        "\n",
        "\n",
        "---"
      ]
    },
    {
      "cell_type": "markdown",
      "metadata": {
        "id": "exercises_header"
      },
      "source": [
        "## 🎓 Part 7: Exercises\n",
        "\n",
        "Now it's your turn to create custom tools!\n",
        "\n",
        "### Exercise 1: Create a `list_all_tickets` Tool (Beginner)\n",
        "\n",
        "**Task**: Create a tool that lists all open tickets.\n",
        "\n",
        "**Requirements**:\n",
        "1. Function name: `list_all_tickets`\n",
        "2. Optional parameter: `status` (filter by status: \"open\", \"in_progress\", \"resolved\")\n",
        "3. Returns a dictionary with list of tickets\n",
        "4. Include proper docstring and type hints\n",
        "\n",
        "**Hint**: Loop through `TICKETS_DB` and filter by status if provided."
      ]
    },
    {
      "cell_type": "code",
      "execution_count": 14,
      "metadata": {
        "id": "exercise_1"
      },
      "outputs": [],
      "source": [
        "# Exercise 1: Your code here\n",
        "\n",
        "def list_all_tickets(status: str) -> Dict[str, any]:\n",
        "    \"\"\"\n",
        "    Lists all support tickets, optionally filtered by status.\n",
        "\n",
        "    Use this tool to get an overview of all tickets in the system.\n",
        "    If status is \"all\", returns all tickets. Otherwise filters by the specified status.\n",
        "\n",
        "    Args:\n",
        "        status (str): Filter by status (\"open\", \"in_progress\", \"resolved\", or \"all\" for no filter)\n",
        "\n",
        "    Returns:\n",
        "        Dict: List of tickets matching the criteria\n",
        "    \"\"\"\n",
        "    print(f\"🔧 [TOOL CALLED] list_all_tickets(status='{status}')\")\n",
        "\n",
        "    # TODO: Implement the logic to list tickets\n",
        "    # If status is \"all\", return all tickets\n",
        "    # Otherwise, filter by that status\n",
        "    # Hint: Loop through TICKETS_DB.values() and check each ticket's status\n",
        "\n",
        "    pass  # Replace this with your implementation\n",
        "\n",
        "# Test your tool directly\n",
        "# print(list_all_tickets(status=\"all\"))\n",
        "# print(list_all_tickets(status=\"open\"))"
      ]
    },
    {
      "cell_type": "markdown",
      "metadata": {
        "id": "exercise_2_header"
      },
      "source": [
        "### Exercise 2: Create a `get_technician_workload` Tool (Intermediate)\n",
        "\n",
        "**Task**: Create a tool that shows how many tickets each technician is handling.\n",
        "\n",
        "**Requirements**:\n",
        "1. Function name: `get_technician_workload`\n",
        "2. Optional parameter: `technician_name` (show specific technician or all)\n",
        "3. Count open and in_progress tickets only\n",
        "4. Return dictionary with technician names and ticket counts\n",
        "\n",
        "**Challenge**: Also show which tickets are assigned to each technician."
      ]
    },
    {
      "cell_type": "code",
      "execution_count": 15,
      "metadata": {
        "id": "exercise_2"
      },
      "outputs": [],
      "source": [
        "# Exercise 2: Your code here\n",
        "\n",
        "def get_technician_workload(technician_name: str) -> Dict[str, any]:\n",
        "    \"\"\"\n",
        "    Shows how many tickets a technician is handling.\n",
        "\n",
        "    Use \"all\" to see workload for all technicians, or specify a specific\n",
        "    technician name (e.g., \"tech_jane\") to see their workload.\n",
        "    Only counts open and in_progress tickets.\n",
        "\n",
        "    Args:\n",
        "        technician_name (str): The technician to check (\"all\" for all technicians, or specific name like \"tech_jane\")\n",
        "\n",
        "    Returns:\n",
        "        Dict: Technician workload information with ticket counts\n",
        "    \"\"\"\n",
        "    print(f\"🔧 [TOOL CALLED] get_technician_workload(technician_name='{technician_name}')\")\n",
        "\n",
        "    # TODO: Implement logic to:\n",
        "    # 1. Loop through TICKETS_DB.values()\n",
        "    # 2. Count tickets per technician (only open/in_progress)\n",
        "    # 3. If technician_name is \"all\", show all technicians\n",
        "    # 4. If technician_name is specific, filter to that technician\n",
        "    # 5. Return structured data with counts and ticket IDs\n",
        "\n",
        "    pass  # Replace with your implementation\n",
        "\n",
        "# Test your tool\n",
        "# print(get_technician_workload(technician_name=\"all\"))\n",
        "# print(get_technician_workload(technician_name=\"tech_jane\"))"
      ]
    },
    {
      "cell_type": "markdown",
      "metadata": {
        "id": "exercise_3_header"
      },
      "source": [
        "### Exercise 3: Add Your Tools to the Agent (Required)\n",
        "\n",
        "**Task**: Create a new agent that includes your custom tools.\n",
        "\n",
        "**Instructions**:\n",
        "1. Copy the agent creation code\n",
        "2. Add your new tools to the `tools` list\n",
        "3. Update the instructions to mention the new tools\n",
        "4. Test it with queries that would use your tools"
      ]
    },
    {
      "cell_type": "code",
      "execution_count": 16,
      "metadata": {
        "id": "exercise_3"
      },
      "outputs": [],
      "source": [
        "# Exercise 3: Create enhanced agent with your custom tools\n",
        "\n",
        "# TODO: Create a new agent that includes all original tools PLUS your custom tools\n",
        "# enhanced_agent = LlmAgent(\n",
        "#     model=LiteLlm(model=f\"openai/{OPENAI_MODEL}\"),\n",
        "#     name=\"enhanced_it_support\",\n",
        "#     tools=[\n",
        "#         check_ticket_status,\n",
        "#         search_knowledge_base,\n",
        "#         check_system_status,\n",
        "#         restart_service,\n",
        "#         # Add your custom tools here\n",
        "#     ],\n",
        "#     instruction=\"\"\"\n",
        "#     # TODO: Update instructions to mention new tools\n",
        "#     \"\"\"\n",
        "# )\n",
        "\n",
        "# TODO: Create a new runner with your enhanced agent\n",
        "\n",
        "# TODO: Test with queries like:\n",
        "# \"Show me all open tickets\"\n",
        "# \"How many tickets does tech_jane have?\""
      ]
    },
    {
      "cell_type": "markdown",
      "metadata": {
        "id": "bonus_exercise_header"
      },
      "source": [
        "### Bonus Exercise: Create a `create_ticket` Tool (Advanced)\n",
        "\n",
        "**Task**: Create a tool that can create new support tickets.\n",
        "\n",
        "**Requirements**:\n",
        "1. Parameters: `subject`, `description`, `priority`\n",
        "2. Generate a new ticket ID (e.g., T-1005, T-1006, etc.)\n",
        "3. Add the ticket to `TICKETS_DB`\n",
        "4. Set initial status as \"open\", assigned_to as None\n",
        "5. Return the new ticket information\n",
        "\n",
        "**Challenge**: Make the agent able to create tickets when users report issues!"
      ]
    },
    {
      "cell_type": "code",
      "execution_count": 17,
      "metadata": {
        "id": "bonus_exercise"
      },
      "outputs": [],
      "source": [
        "# Bonus Exercise: Your code here\n",
        "\n",
        "def create_ticket(subject: str, description: str, priority: str) -> Dict[str, any]:\n",
        "    \"\"\"\n",
        "    Creates a new support ticket in the system.\n",
        "\n",
        "    Use this tool when a user reports an issue that needs to be tracked.\n",
        "    The ticket will be created with status \"open\" and no assigned technician.\n",
        "\n",
        "    Args:\n",
        "        subject (str): Brief description of the issue\n",
        "        description (str): Detailed description of the problem\n",
        "        priority (str): Priority level (\"low\", \"medium\", \"high\", or \"critical\")\n",
        "\n",
        "    Returns:\n",
        "        Dict: Information about the newly created ticket\n",
        "    \"\"\"\n",
        "    print(f\"🔧 [TOOL CALLED] create_ticket(subject='{subject}', description='{description}', priority='{priority}')\")\n",
        "\n",
        "    # TODO: Implement ticket creation logic\n",
        "    # 1. Generate new ticket ID (find highest number in TICKETS_DB and add 1)\n",
        "    # 2. Create ticket dict with all required fields\n",
        "    # 3. Set status=\"open\", assigned_to=None\n",
        "    # 4. Add timestamps\n",
        "    # 5. Add to TICKETS_DB\n",
        "    # 6. Return ticket information\n",
        "\n",
        "    pass"
      ]
    },
    {
      "cell_type": "markdown",
      "metadata": {
        "id": "takeaways_header"
      },
      "source": [
        "---\n",
        "\n",
        "## 🎯 Part 8: Key Takeaways\n",
        "\n",
        "Congratulations! You've learned how to empower AI agents with tools!\n",
        "\n",
        "### What You Learned  \n",
        "\n",
        "1. **Tool Concept**\n",
        "   - Tools are Python functions that extend agent capabilities\n",
        "   - Agents automatically decide when to use tools\n",
        "   - Function calling bridges conversation and action\n",
        "\n",
        "2. **Creating Effective Tools**\n",
        "   - Use comprehensive docstrings\n",
        "   - Add type hints for all parameters\n",
        "   - Return dictionaries with descriptive keys\n",
        "   - Choose meaningful function names\n",
        "   - Design for the LLM to understand\n",
        "\n",
        "3. **ADK's Automatic Magic**\n",
        "   - ADK inspects function signatures automatically\n",
        "   - Converts Python functions to LLM-understandable schemas\n",
        "   - Handles parameter validation and type conversion\n",
        "   - Manages tool execution flow\n",
        "\n",
        "4. **Best Practices**\n",
        "   - Keep tools focused (single responsibility)\n",
        "   - Handle errors gracefully\n",
        "   - Return structured data\n",
        "   - Use optional parameters with defaults\n",
        "   - Add debug logging for development\n",
        "\n",
        "\n",
        "### Important Reminders ⚠️\n",
        "\n",
        "1. **Security**: When creating real tools:\n",
        "   - Validate all inputs\n",
        "   - Implement access controls\n",
        "   - Log all tool executions\n",
        "   - Rate limit expensive operations\n",
        "\n",
        "2. **Testing**: Always test tools:\n",
        "   - Independently (unit tests)\n",
        "   - With the agent (integration tests)\n",
        "   - Edge cases and error conditions\n",
        "\n",
        "### Resources 📚\n",
        "\n",
        "- [ADK Function Tools Documentation](https://google.github.io/adk-docs/tools/function-tools/)\n",
        "- [ADK Tools Overview](https://google.github.io/adk-docs/tools/)\n",
        "- [Google Codelabs - ADK with Tools](https://codelabs.developers.google.com/)\n",
        "- [ADK GitHub Examples](https://github.com/google/adk-python)\n",
        "\n"
      ]
    },
    {
      "cell_type": "code",
      "source": [],
      "metadata": {
        "id": "sW-lGRzRW5Iy"
      },
      "execution_count": null,
      "outputs": []
    }
  ],
  "metadata": {
    "colab": {
      "provenance": []
    },
    "kernelspec": {
      "display_name": "Python 3",
      "language": "python",
      "name": "python3"
    },
    "language_info": {
      "codemirror_mode": {
        "name": "ipython",
        "version": 3
      },
      "file_extension": ".py",
      "mimetype": "text/x-python",
      "name": "python",
      "nbconvert_exporter": "python",
      "pygments_lexer": "ipython3",
      "version": "3.10.0"
    }
  },
  "nbformat": 4,
  "nbformat_minor": 0
}